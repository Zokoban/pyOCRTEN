{
  "nbformat": 4,
  "nbformat_minor": 0,
  "metadata": {
    "colab": {
      "provenance": [],
      "collapsed_sections": [],
      "authorship_tag": "ABX9TyMr6AIi1D8BzaxxCUzp8DAi",
      "include_colab_link": true
    },
    "kernelspec": {
      "name": "python3",
      "display_name": "Python 3"
    },
    "language_info": {
      "name": "python"
    },
    "accelerator": "GPU"
  },
  "cells": [
    {
      "cell_type": "markdown",
      "metadata": {
        "id": "view-in-github",
        "colab_type": "text"
      },
      "source": [
        "<a href=\"https://colab.research.google.com/github/Zokoban/pyOCRTEN/blob/main/pyOCRTEN_project.ipynb\" target=\"_parent\"><img src=\"https://colab.research.google.com/assets/colab-badge.svg\" alt=\"Open In Colab\"/></a>"
      ]
    },
    {
      "cell_type": "markdown",
      "source": [
        "## Download all data on the drive "
      ],
      "metadata": {
        "id": "rY2t8iv40Atm"
      }
    },
    {
      "cell_type": "code",
      "source": [
        "!wget -q https://git.io/J0fjL -O IAM_Words.zip\n",
        "!unzip -qq IAM_Words.zip\n",
        "!\n",
        "!mkdir data\n",
        "!mkdir data/words\n",
        "!tar -xf IAM_Words/words.tgz -C data/words\n",
        "!mv IAM_Words/words.txt data"
      ],
      "metadata": {
        "id": "pQd5d8OitoDO"
      },
      "execution_count": null,
      "outputs": []
    },
    {
      "cell_type": "markdown",
      "source": [
        "## Load all the required packages"
      ],
      "metadata": {
        "id": "TQBEwYLH0FP5"
      }
    },
    {
      "cell_type": "code",
      "source": [
        "import pandas as pd\n",
        "import numpy as np\n",
        "import csv\n",
        "import cv2\n",
        "import matplotlib.pyplot as plt\n",
        "%matplotlib inline\n",
        "\n",
        "from sklearn.model_selection import train_test_split\n",
        "from tensorflow.keras.utils import to_categorical"
      ],
      "metadata": {
        "id": "PiYqf_7Uz_YR"
      },
      "execution_count": null,
      "outputs": []
    },
    {
      "cell_type": "markdown",
      "source": [
        "## Load word.txt file"
      ],
      "metadata": {
        "id": "Xiv8jaZB0LZo"
      }
    },
    {
      "cell_type": "code",
      "source": [
        "word_txt=pd.read_csv(\"data/words.txt\",sep=' ',names=[\"word_id\",\"segmentation_result\",\"gray_level\",\"x\",\"y\",\"pxw\",\"pxh\",\"grammatical_tag\",\"transcription_1\",\"transcription_2\",\"transcription_3\"] ,quoting=csv.QUOTE_NONE,skiprows=18,on_bad_lines=\"warn\")\n",
        "\n",
        "def f(x):\n",
        "    if x == \"nan\":\n",
        "        return \"\"\n",
        "    else:\n",
        "        return x\n",
        "word_txt[\"transcription\"]=word_txt.transcription_1.astype(\"str\")+word_txt.transcription_2.astype(\"str\").apply(f)+word_txt.transcription_3.astype(\"str\").apply(f)\n",
        "word_txt=word_txt.drop(columns=[\"transcription_1\",\"transcription_2\",\"transcription_3\"])\n",
        "\n",
        "def f(x):\n",
        "    return len(x)\n",
        "\n",
        "word_txt[\"number_components\"]=word_txt.transcription.apply(f)\n",
        "\n",
        "print(\"word_txt Length: \",len(word_txt))\n",
        "word_txt.head()"
      ],
      "metadata": {
        "colab": {
          "base_uri": "https://localhost:8080/",
          "height": 224
        },
        "id": "mWa3zM2KvL5q",
        "outputId": "1493b6da-dc2f-4e3e-868c-6fe6e7537b92"
      },
      "execution_count": null,
      "outputs": [
        {
          "output_type": "stream",
          "name": "stdout",
          "text": [
            "word_txt Length:  115320\n"
          ]
        },
        {
          "output_type": "execute_result",
          "data": {
            "text/plain": [
              "          word_id segmentation_result  gray_level     x    y  pxw  pxh  \\\n",
              "0  a01-000u-00-00                  ok         154   408  768   27   51   \n",
              "1  a01-000u-00-01                  ok         154   507  766  213   48   \n",
              "2  a01-000u-00-02                  ok         154   796  764   70   50   \n",
              "3  a01-000u-00-03                  ok         154   919  757  166   78   \n",
              "4  a01-000u-00-04                  ok         154  1185  754  126   61   \n",
              "\n",
              "  grammatical_tag transcription  number_components  \n",
              "0              AT             A                  1  \n",
              "1              NN          MOVE                  4  \n",
              "2              TO            to                  2  \n",
              "3              VB          stop                  4  \n",
              "4             NPT           Mr.                  3  "
            ],
            "text/html": [
              "\n",
              "  <div id=\"df-d0e0048e-04d7-4611-9463-f320fa6e74b4\">\n",
              "    <div class=\"colab-df-container\">\n",
              "      <div>\n",
              "<style scoped>\n",
              "    .dataframe tbody tr th:only-of-type {\n",
              "        vertical-align: middle;\n",
              "    }\n",
              "\n",
              "    .dataframe tbody tr th {\n",
              "        vertical-align: top;\n",
              "    }\n",
              "\n",
              "    .dataframe thead th {\n",
              "        text-align: right;\n",
              "    }\n",
              "</style>\n",
              "<table border=\"1\" class=\"dataframe\">\n",
              "  <thead>\n",
              "    <tr style=\"text-align: right;\">\n",
              "      <th></th>\n",
              "      <th>word_id</th>\n",
              "      <th>segmentation_result</th>\n",
              "      <th>gray_level</th>\n",
              "      <th>x</th>\n",
              "      <th>y</th>\n",
              "      <th>pxw</th>\n",
              "      <th>pxh</th>\n",
              "      <th>grammatical_tag</th>\n",
              "      <th>transcription</th>\n",
              "      <th>number_components</th>\n",
              "    </tr>\n",
              "  </thead>\n",
              "  <tbody>\n",
              "    <tr>\n",
              "      <th>0</th>\n",
              "      <td>a01-000u-00-00</td>\n",
              "      <td>ok</td>\n",
              "      <td>154</td>\n",
              "      <td>408</td>\n",
              "      <td>768</td>\n",
              "      <td>27</td>\n",
              "      <td>51</td>\n",
              "      <td>AT</td>\n",
              "      <td>A</td>\n",
              "      <td>1</td>\n",
              "    </tr>\n",
              "    <tr>\n",
              "      <th>1</th>\n",
              "      <td>a01-000u-00-01</td>\n",
              "      <td>ok</td>\n",
              "      <td>154</td>\n",
              "      <td>507</td>\n",
              "      <td>766</td>\n",
              "      <td>213</td>\n",
              "      <td>48</td>\n",
              "      <td>NN</td>\n",
              "      <td>MOVE</td>\n",
              "      <td>4</td>\n",
              "    </tr>\n",
              "    <tr>\n",
              "      <th>2</th>\n",
              "      <td>a01-000u-00-02</td>\n",
              "      <td>ok</td>\n",
              "      <td>154</td>\n",
              "      <td>796</td>\n",
              "      <td>764</td>\n",
              "      <td>70</td>\n",
              "      <td>50</td>\n",
              "      <td>TO</td>\n",
              "      <td>to</td>\n",
              "      <td>2</td>\n",
              "    </tr>\n",
              "    <tr>\n",
              "      <th>3</th>\n",
              "      <td>a01-000u-00-03</td>\n",
              "      <td>ok</td>\n",
              "      <td>154</td>\n",
              "      <td>919</td>\n",
              "      <td>757</td>\n",
              "      <td>166</td>\n",
              "      <td>78</td>\n",
              "      <td>VB</td>\n",
              "      <td>stop</td>\n",
              "      <td>4</td>\n",
              "    </tr>\n",
              "    <tr>\n",
              "      <th>4</th>\n",
              "      <td>a01-000u-00-04</td>\n",
              "      <td>ok</td>\n",
              "      <td>154</td>\n",
              "      <td>1185</td>\n",
              "      <td>754</td>\n",
              "      <td>126</td>\n",
              "      <td>61</td>\n",
              "      <td>NPT</td>\n",
              "      <td>Mr.</td>\n",
              "      <td>3</td>\n",
              "    </tr>\n",
              "  </tbody>\n",
              "</table>\n",
              "</div>\n",
              "      <button class=\"colab-df-convert\" onclick=\"convertToInteractive('df-d0e0048e-04d7-4611-9463-f320fa6e74b4')\"\n",
              "              title=\"Convert this dataframe to an interactive table.\"\n",
              "              style=\"display:none;\">\n",
              "        \n",
              "  <svg xmlns=\"http://www.w3.org/2000/svg\" height=\"24px\"viewBox=\"0 0 24 24\"\n",
              "       width=\"24px\">\n",
              "    <path d=\"M0 0h24v24H0V0z\" fill=\"none\"/>\n",
              "    <path d=\"M18.56 5.44l.94 2.06.94-2.06 2.06-.94-2.06-.94-.94-2.06-.94 2.06-2.06.94zm-11 1L8.5 8.5l.94-2.06 2.06-.94-2.06-.94L8.5 2.5l-.94 2.06-2.06.94zm10 10l.94 2.06.94-2.06 2.06-.94-2.06-.94-.94-2.06-.94 2.06-2.06.94z\"/><path d=\"M17.41 7.96l-1.37-1.37c-.4-.4-.92-.59-1.43-.59-.52 0-1.04.2-1.43.59L10.3 9.45l-7.72 7.72c-.78.78-.78 2.05 0 2.83L4 21.41c.39.39.9.59 1.41.59.51 0 1.02-.2 1.41-.59l7.78-7.78 2.81-2.81c.8-.78.8-2.07 0-2.86zM5.41 20L4 18.59l7.72-7.72 1.47 1.35L5.41 20z\"/>\n",
              "  </svg>\n",
              "      </button>\n",
              "      \n",
              "  <style>\n",
              "    .colab-df-container {\n",
              "      display:flex;\n",
              "      flex-wrap:wrap;\n",
              "      gap: 12px;\n",
              "    }\n",
              "\n",
              "    .colab-df-convert {\n",
              "      background-color: #E8F0FE;\n",
              "      border: none;\n",
              "      border-radius: 50%;\n",
              "      cursor: pointer;\n",
              "      display: none;\n",
              "      fill: #1967D2;\n",
              "      height: 32px;\n",
              "      padding: 0 0 0 0;\n",
              "      width: 32px;\n",
              "    }\n",
              "\n",
              "    .colab-df-convert:hover {\n",
              "      background-color: #E2EBFA;\n",
              "      box-shadow: 0px 1px 2px rgba(60, 64, 67, 0.3), 0px 1px 3px 1px rgba(60, 64, 67, 0.15);\n",
              "      fill: #174EA6;\n",
              "    }\n",
              "\n",
              "    [theme=dark] .colab-df-convert {\n",
              "      background-color: #3B4455;\n",
              "      fill: #D2E3FC;\n",
              "    }\n",
              "\n",
              "    [theme=dark] .colab-df-convert:hover {\n",
              "      background-color: #434B5C;\n",
              "      box-shadow: 0px 1px 3px 1px rgba(0, 0, 0, 0.15);\n",
              "      filter: drop-shadow(0px 1px 2px rgba(0, 0, 0, 0.3));\n",
              "      fill: #FFFFFF;\n",
              "    }\n",
              "  </style>\n",
              "\n",
              "      <script>\n",
              "        const buttonEl =\n",
              "          document.querySelector('#df-d0e0048e-04d7-4611-9463-f320fa6e74b4 button.colab-df-convert');\n",
              "        buttonEl.style.display =\n",
              "          google.colab.kernel.accessAllowed ? 'block' : 'none';\n",
              "\n",
              "        async function convertToInteractive(key) {\n",
              "          const element = document.querySelector('#df-d0e0048e-04d7-4611-9463-f320fa6e74b4');\n",
              "          const dataTable =\n",
              "            await google.colab.kernel.invokeFunction('convertToInteractive',\n",
              "                                                     [key], {});\n",
              "          if (!dataTable) return;\n",
              "\n",
              "          const docLinkHtml = 'Like what you see? Visit the ' +\n",
              "            '<a target=\"_blank\" href=https://colab.research.google.com/notebooks/data_table.ipynb>data table notebook</a>'\n",
              "            + ' to learn more about interactive tables.';\n",
              "          element.innerHTML = '';\n",
              "          dataTable['output_type'] = 'display_data';\n",
              "          await google.colab.output.renderOutput(dataTable, element);\n",
              "          const docLink = document.createElement('div');\n",
              "          docLink.innerHTML = docLinkHtml;\n",
              "          element.appendChild(docLink);\n",
              "        }\n",
              "      </script>\n",
              "    </div>\n",
              "  </div>\n",
              "  "
            ]
          },
          "metadata": {},
          "execution_count": 3
        }
      ]
    },
    {
      "cell_type": "code",
      "source": [],
      "metadata": {
        "id": "6GmljVQjHe8X"
      },
      "execution_count": null,
      "outputs": []
    },
    {
      "cell_type": "markdown",
      "source": [
        "### Choice of the fraction of the dataset.\n",
        "### Removal of the transcription error.\n",
        "### Removal of the unwanted columns."
      ],
      "metadata": {
        "id": "4teX3LNn3BJU"
      }
    },
    {
      "cell_type": "code",
      "source": [
        "list_columns_to_remove=[\"segmentation_result\",\"gray_level\",\"x\",\"y\",\"pxw\",\"pxh\",\"grammatical_tag\",\"number_components\"]\n",
        "fraction = 0.5\n",
        "df = word_txt[word_txt.segmentation_result == \"ok\"]\\\n",
        "    .drop(columns=list_columns_to_remove)\\\n",
        "    .sample(frac=fraction)\n",
        "  \n",
        "print(\"df Length: \",len(df))\n",
        "df.head()"
      ],
      "metadata": {
        "colab": {
          "base_uri": "https://localhost:8080/",
          "height": 224
        },
        "id": "EHQ1vKx53Wbj",
        "outputId": "d9a5c58f-175a-4ac2-df24-639d5b03ba32"
      },
      "execution_count": null,
      "outputs": [
        {
          "output_type": "stream",
          "name": "stdout",
          "text": [
            "df Length:  48228\n"
          ]
        },
        {
          "output_type": "execute_result",
          "data": {
            "text/plain": [
              "              word_id transcription\n",
              "45738   f01-070-06-11           its\n",
              "6701    a02-111-00-00       Instead\n",
              "97812   m06-031-03-08          make\n",
              "27516  c03-094a-05-03     comically\n",
              "23980  c03-000b-01-00         Taste"
            ],
            "text/html": [
              "\n",
              "  <div id=\"df-42c27639-e0bf-4806-a3e1-7e0fde8921ba\">\n",
              "    <div class=\"colab-df-container\">\n",
              "      <div>\n",
              "<style scoped>\n",
              "    .dataframe tbody tr th:only-of-type {\n",
              "        vertical-align: middle;\n",
              "    }\n",
              "\n",
              "    .dataframe tbody tr th {\n",
              "        vertical-align: top;\n",
              "    }\n",
              "\n",
              "    .dataframe thead th {\n",
              "        text-align: right;\n",
              "    }\n",
              "</style>\n",
              "<table border=\"1\" class=\"dataframe\">\n",
              "  <thead>\n",
              "    <tr style=\"text-align: right;\">\n",
              "      <th></th>\n",
              "      <th>word_id</th>\n",
              "      <th>transcription</th>\n",
              "    </tr>\n",
              "  </thead>\n",
              "  <tbody>\n",
              "    <tr>\n",
              "      <th>45738</th>\n",
              "      <td>f01-070-06-11</td>\n",
              "      <td>its</td>\n",
              "    </tr>\n",
              "    <tr>\n",
              "      <th>6701</th>\n",
              "      <td>a02-111-00-00</td>\n",
              "      <td>Instead</td>\n",
              "    </tr>\n",
              "    <tr>\n",
              "      <th>97812</th>\n",
              "      <td>m06-031-03-08</td>\n",
              "      <td>make</td>\n",
              "    </tr>\n",
              "    <tr>\n",
              "      <th>27516</th>\n",
              "      <td>c03-094a-05-03</td>\n",
              "      <td>comically</td>\n",
              "    </tr>\n",
              "    <tr>\n",
              "      <th>23980</th>\n",
              "      <td>c03-000b-01-00</td>\n",
              "      <td>Taste</td>\n",
              "    </tr>\n",
              "  </tbody>\n",
              "</table>\n",
              "</div>\n",
              "      <button class=\"colab-df-convert\" onclick=\"convertToInteractive('df-42c27639-e0bf-4806-a3e1-7e0fde8921ba')\"\n",
              "              title=\"Convert this dataframe to an interactive table.\"\n",
              "              style=\"display:none;\">\n",
              "        \n",
              "  <svg xmlns=\"http://www.w3.org/2000/svg\" height=\"24px\"viewBox=\"0 0 24 24\"\n",
              "       width=\"24px\">\n",
              "    <path d=\"M0 0h24v24H0V0z\" fill=\"none\"/>\n",
              "    <path d=\"M18.56 5.44l.94 2.06.94-2.06 2.06-.94-2.06-.94-.94-2.06-.94 2.06-2.06.94zm-11 1L8.5 8.5l.94-2.06 2.06-.94-2.06-.94L8.5 2.5l-.94 2.06-2.06.94zm10 10l.94 2.06.94-2.06 2.06-.94-2.06-.94-.94-2.06-.94 2.06-2.06.94z\"/><path d=\"M17.41 7.96l-1.37-1.37c-.4-.4-.92-.59-1.43-.59-.52 0-1.04.2-1.43.59L10.3 9.45l-7.72 7.72c-.78.78-.78 2.05 0 2.83L4 21.41c.39.39.9.59 1.41.59.51 0 1.02-.2 1.41-.59l7.78-7.78 2.81-2.81c.8-.78.8-2.07 0-2.86zM5.41 20L4 18.59l7.72-7.72 1.47 1.35L5.41 20z\"/>\n",
              "  </svg>\n",
              "      </button>\n",
              "      \n",
              "  <style>\n",
              "    .colab-df-container {\n",
              "      display:flex;\n",
              "      flex-wrap:wrap;\n",
              "      gap: 12px;\n",
              "    }\n",
              "\n",
              "    .colab-df-convert {\n",
              "      background-color: #E8F0FE;\n",
              "      border: none;\n",
              "      border-radius: 50%;\n",
              "      cursor: pointer;\n",
              "      display: none;\n",
              "      fill: #1967D2;\n",
              "      height: 32px;\n",
              "      padding: 0 0 0 0;\n",
              "      width: 32px;\n",
              "    }\n",
              "\n",
              "    .colab-df-convert:hover {\n",
              "      background-color: #E2EBFA;\n",
              "      box-shadow: 0px 1px 2px rgba(60, 64, 67, 0.3), 0px 1px 3px 1px rgba(60, 64, 67, 0.15);\n",
              "      fill: #174EA6;\n",
              "    }\n",
              "\n",
              "    [theme=dark] .colab-df-convert {\n",
              "      background-color: #3B4455;\n",
              "      fill: #D2E3FC;\n",
              "    }\n",
              "\n",
              "    [theme=dark] .colab-df-convert:hover {\n",
              "      background-color: #434B5C;\n",
              "      box-shadow: 0px 1px 3px 1px rgba(0, 0, 0, 0.15);\n",
              "      filter: drop-shadow(0px 1px 2px rgba(0, 0, 0, 0.3));\n",
              "      fill: #FFFFFF;\n",
              "    }\n",
              "  </style>\n",
              "\n",
              "      <script>\n",
              "        const buttonEl =\n",
              "          document.querySelector('#df-42c27639-e0bf-4806-a3e1-7e0fde8921ba button.colab-df-convert');\n",
              "        buttonEl.style.display =\n",
              "          google.colab.kernel.accessAllowed ? 'block' : 'none';\n",
              "\n",
              "        async function convertToInteractive(key) {\n",
              "          const element = document.querySelector('#df-42c27639-e0bf-4806-a3e1-7e0fde8921ba');\n",
              "          const dataTable =\n",
              "            await google.colab.kernel.invokeFunction('convertToInteractive',\n",
              "                                                     [key], {});\n",
              "          if (!dataTable) return;\n",
              "\n",
              "          const docLinkHtml = 'Like what you see? Visit the ' +\n",
              "            '<a target=\"_blank\" href=https://colab.research.google.com/notebooks/data_table.ipynb>data table notebook</a>'\n",
              "            + ' to learn more about interactive tables.';\n",
              "          element.innerHTML = '';\n",
              "          dataTable['output_type'] = 'display_data';\n",
              "          await google.colab.output.renderOutput(dataTable, element);\n",
              "          const docLink = document.createElement('div');\n",
              "          docLink.innerHTML = docLinkHtml;\n",
              "          element.appendChild(docLink);\n",
              "        }\n",
              "      </script>\n",
              "    </div>\n",
              "  </div>\n",
              "  "
            ]
          },
          "metadata": {},
          "execution_count": 4
        }
      ]
    },
    {
      "cell_type": "code",
      "source": [],
      "metadata": {
        "id": "jDP9ISHGHDTF"
      },
      "execution_count": null,
      "outputs": []
    },
    {
      "cell_type": "markdown",
      "source": [
        "## Separation to Train dataset and Test dataset"
      ],
      "metadata": {
        "id": "zIPE0VW26JiS"
      }
    },
    {
      "cell_type": "code",
      "source": [
        "df_train, df_test = train_test_split(df, test_size=0.2)\n",
        "\n",
        "y_train = df_train.transcription\n",
        "y_test = df_test.transcription"
      ],
      "metadata": {
        "id": "nO2CfMbz6OFH"
      },
      "execution_count": null,
      "outputs": []
    },
    {
      "cell_type": "code",
      "source": [
        "df_train"
      ],
      "metadata": {
        "colab": {
          "base_uri": "https://localhost:8080/",
          "height": 424
        },
        "id": "VPulEn9dshRq",
        "outputId": "cec435ef-b6ea-4aab-9886-45810d8fb31e"
      },
      "execution_count": null,
      "outputs": [
        {
          "output_type": "execute_result",
          "data": {
            "text/plain": [
              "              word_id transcription\n",
              "60700  g06-026g-03-02         heard\n",
              "12414   a05-121-05-02         Canon\n",
              "85517   k07-085-05-06       whether\n",
              "59250  g06-018e-06-05           yet\n",
              "75741   h07-023-00-07          town\n",
              "...               ...           ...\n",
              "66880  g06-047i-01-00       Burdett\n",
              "61841  g06-031f-03-06           the\n",
              "4308    a01-122-02-05     commented\n",
              "48522   f04-057-03-01       emerged\n",
              "39266   e01-050-03-03           the\n",
              "\n",
              "[38582 rows x 2 columns]"
            ],
            "text/html": [
              "\n",
              "  <div id=\"df-7d5b867f-f05f-423d-8f8a-b1f67b1dc7f0\">\n",
              "    <div class=\"colab-df-container\">\n",
              "      <div>\n",
              "<style scoped>\n",
              "    .dataframe tbody tr th:only-of-type {\n",
              "        vertical-align: middle;\n",
              "    }\n",
              "\n",
              "    .dataframe tbody tr th {\n",
              "        vertical-align: top;\n",
              "    }\n",
              "\n",
              "    .dataframe thead th {\n",
              "        text-align: right;\n",
              "    }\n",
              "</style>\n",
              "<table border=\"1\" class=\"dataframe\">\n",
              "  <thead>\n",
              "    <tr style=\"text-align: right;\">\n",
              "      <th></th>\n",
              "      <th>word_id</th>\n",
              "      <th>transcription</th>\n",
              "    </tr>\n",
              "  </thead>\n",
              "  <tbody>\n",
              "    <tr>\n",
              "      <th>60700</th>\n",
              "      <td>g06-026g-03-02</td>\n",
              "      <td>heard</td>\n",
              "    </tr>\n",
              "    <tr>\n",
              "      <th>12414</th>\n",
              "      <td>a05-121-05-02</td>\n",
              "      <td>Canon</td>\n",
              "    </tr>\n",
              "    <tr>\n",
              "      <th>85517</th>\n",
              "      <td>k07-085-05-06</td>\n",
              "      <td>whether</td>\n",
              "    </tr>\n",
              "    <tr>\n",
              "      <th>59250</th>\n",
              "      <td>g06-018e-06-05</td>\n",
              "      <td>yet</td>\n",
              "    </tr>\n",
              "    <tr>\n",
              "      <th>75741</th>\n",
              "      <td>h07-023-00-07</td>\n",
              "      <td>town</td>\n",
              "    </tr>\n",
              "    <tr>\n",
              "      <th>...</th>\n",
              "      <td>...</td>\n",
              "      <td>...</td>\n",
              "    </tr>\n",
              "    <tr>\n",
              "      <th>66880</th>\n",
              "      <td>g06-047i-01-00</td>\n",
              "      <td>Burdett</td>\n",
              "    </tr>\n",
              "    <tr>\n",
              "      <th>61841</th>\n",
              "      <td>g06-031f-03-06</td>\n",
              "      <td>the</td>\n",
              "    </tr>\n",
              "    <tr>\n",
              "      <th>4308</th>\n",
              "      <td>a01-122-02-05</td>\n",
              "      <td>commented</td>\n",
              "    </tr>\n",
              "    <tr>\n",
              "      <th>48522</th>\n",
              "      <td>f04-057-03-01</td>\n",
              "      <td>emerged</td>\n",
              "    </tr>\n",
              "    <tr>\n",
              "      <th>39266</th>\n",
              "      <td>e01-050-03-03</td>\n",
              "      <td>the</td>\n",
              "    </tr>\n",
              "  </tbody>\n",
              "</table>\n",
              "<p>38582 rows × 2 columns</p>\n",
              "</div>\n",
              "      <button class=\"colab-df-convert\" onclick=\"convertToInteractive('df-7d5b867f-f05f-423d-8f8a-b1f67b1dc7f0')\"\n",
              "              title=\"Convert this dataframe to an interactive table.\"\n",
              "              style=\"display:none;\">\n",
              "        \n",
              "  <svg xmlns=\"http://www.w3.org/2000/svg\" height=\"24px\"viewBox=\"0 0 24 24\"\n",
              "       width=\"24px\">\n",
              "    <path d=\"M0 0h24v24H0V0z\" fill=\"none\"/>\n",
              "    <path d=\"M18.56 5.44l.94 2.06.94-2.06 2.06-.94-2.06-.94-.94-2.06-.94 2.06-2.06.94zm-11 1L8.5 8.5l.94-2.06 2.06-.94-2.06-.94L8.5 2.5l-.94 2.06-2.06.94zm10 10l.94 2.06.94-2.06 2.06-.94-2.06-.94-.94-2.06-.94 2.06-2.06.94z\"/><path d=\"M17.41 7.96l-1.37-1.37c-.4-.4-.92-.59-1.43-.59-.52 0-1.04.2-1.43.59L10.3 9.45l-7.72 7.72c-.78.78-.78 2.05 0 2.83L4 21.41c.39.39.9.59 1.41.59.51 0 1.02-.2 1.41-.59l7.78-7.78 2.81-2.81c.8-.78.8-2.07 0-2.86zM5.41 20L4 18.59l7.72-7.72 1.47 1.35L5.41 20z\"/>\n",
              "  </svg>\n",
              "      </button>\n",
              "      \n",
              "  <style>\n",
              "    .colab-df-container {\n",
              "      display:flex;\n",
              "      flex-wrap:wrap;\n",
              "      gap: 12px;\n",
              "    }\n",
              "\n",
              "    .colab-df-convert {\n",
              "      background-color: #E8F0FE;\n",
              "      border: none;\n",
              "      border-radius: 50%;\n",
              "      cursor: pointer;\n",
              "      display: none;\n",
              "      fill: #1967D2;\n",
              "      height: 32px;\n",
              "      padding: 0 0 0 0;\n",
              "      width: 32px;\n",
              "    }\n",
              "\n",
              "    .colab-df-convert:hover {\n",
              "      background-color: #E2EBFA;\n",
              "      box-shadow: 0px 1px 2px rgba(60, 64, 67, 0.3), 0px 1px 3px 1px rgba(60, 64, 67, 0.15);\n",
              "      fill: #174EA6;\n",
              "    }\n",
              "\n",
              "    [theme=dark] .colab-df-convert {\n",
              "      background-color: #3B4455;\n",
              "      fill: #D2E3FC;\n",
              "    }\n",
              "\n",
              "    [theme=dark] .colab-df-convert:hover {\n",
              "      background-color: #434B5C;\n",
              "      box-shadow: 0px 1px 3px 1px rgba(0, 0, 0, 0.15);\n",
              "      filter: drop-shadow(0px 1px 2px rgba(0, 0, 0, 0.3));\n",
              "      fill: #FFFFFF;\n",
              "    }\n",
              "  </style>\n",
              "\n",
              "      <script>\n",
              "        const buttonEl =\n",
              "          document.querySelector('#df-7d5b867f-f05f-423d-8f8a-b1f67b1dc7f0 button.colab-df-convert');\n",
              "        buttonEl.style.display =\n",
              "          google.colab.kernel.accessAllowed ? 'block' : 'none';\n",
              "\n",
              "        async function convertToInteractive(key) {\n",
              "          const element = document.querySelector('#df-7d5b867f-f05f-423d-8f8a-b1f67b1dc7f0');\n",
              "          const dataTable =\n",
              "            await google.colab.kernel.invokeFunction('convertToInteractive',\n",
              "                                                     [key], {});\n",
              "          if (!dataTable) return;\n",
              "\n",
              "          const docLinkHtml = 'Like what you see? Visit the ' +\n",
              "            '<a target=\"_blank\" href=https://colab.research.google.com/notebooks/data_table.ipynb>data table notebook</a>'\n",
              "            + ' to learn more about interactive tables.';\n",
              "          element.innerHTML = '';\n",
              "          dataTable['output_type'] = 'display_data';\n",
              "          await google.colab.output.renderOutput(dataTable, element);\n",
              "          const docLink = document.createElement('div');\n",
              "          docLink.innerHTML = docLinkHtml;\n",
              "          element.appendChild(docLink);\n",
              "        }\n",
              "      </script>\n",
              "    </div>\n",
              "  </div>\n",
              "  "
            ]
          },
          "metadata": {},
          "execution_count": 6
        }
      ]
    },
    {
      "cell_type": "code",
      "source": [],
      "metadata": {
        "id": "2xb62bBfsmXD"
      },
      "execution_count": null,
      "outputs": []
    },
    {
      "cell_type": "markdown",
      "source": [
        "## Loading the images (features)"
      ],
      "metadata": {
        "id": "uH7QYAXV17ci"
      }
    },
    {
      "cell_type": "code",
      "source": [
        "def img_word(word):\n",
        "    path=\"data/words/\"+word.split(\"-\")[0]+\"/\"+word.split(\"-\")[0]+\"-\"+word.split(\"-\")[1]+\"/\"+word+\".png\"\n",
        "    word_img=cv2.imread(path)\n",
        "\n",
        "    return word_img\n",
        "\n",
        "X_train= df_train.word_id.apply(img_word)\n",
        "X_test = df_test.word_id.apply(img_word)\n",
        "\n",
        "#Removal of the index in which the image have not been loaded (error or image not in the dataset)  \n",
        "y_train=y_train.drop(index=y_train[X_train.isna()].index)\n",
        "y_test=y_test.drop(index=y_test[X_test.isna()].index)\n",
        "X_test=X_test[X_test.isna()==False]\n",
        "X_train=X_train[X_train.isna()==False]"
      ],
      "metadata": {
        "id": "CMBqoIx12DWu"
      },
      "execution_count": null,
      "outputs": []
    },
    {
      "cell_type": "markdown",
      "source": [
        "### Display of several images"
      ],
      "metadata": {
        "id": "M1IDDMpL75er"
      }
    },
    {
      "cell_type": "code",
      "source": [
        "j=1\n",
        "plt.figure(figsize=(12,8))\n",
        "for rand in np.random.choice(np.arange(0, len(X_train)), size=10):\n",
        "    plt.subplot(2,5,j)\n",
        "    word = y_train.iloc[rand]\n",
        "    plt.imshow(X_train.iloc[rand])\n",
        "    plt.title(word);\n",
        "\n",
        "    j=j+1"
      ],
      "metadata": {
        "colab": {
          "base_uri": "https://localhost:8080/",
          "height": 384
        },
        "id": "DmiEPMlj75-B",
        "outputId": "942933d1-036c-4d4f-dd5f-819a2cc41c92"
      },
      "execution_count": null,
      "outputs": [
        {
          "output_type": "display_data",
          "data": {
            "text/plain": [
              "<Figure size 864x576 with 10 Axes>"
            ],
            "image/png": "[encoded data removed]"
          },
          "metadata": {
            "needs_background": "light"
          }
        }
      ]
    },
    {
      "cell_type": "markdown",
      "source": [
        "### Resizing homogenization and no distortion"
      ],
      "metadata": {
        "id": "ScC__IzZ7g5_"
      }
    },
    {
      "cell_type": "code",
      "source": [
        "def resize_no_distortion(img,resize):\n",
        "  reshape_size=resize\n",
        "  sw, sh=reshape_size\n",
        "\n",
        "  reshape_ratio=sh/sw\n",
        "\n",
        "  #Recovery of the height and width of the image\n",
        "  h, w = img.shape[:2]\n",
        "  \n",
        "  ratio_image=h/w\n",
        "\n",
        "  #Recovery of the number of canals\n",
        "  c = img.shape[2] if len(img.shape)>2 else 1\n",
        "  \n",
        "\n",
        "  #dif = max(h,w)\n",
        "  dif = h if h > w else w\n",
        "  \n",
        "\n",
        "  #Creation of the interpolation INTER_AREA\n",
        "  interpolation = cv2.INTER_AREA \n",
        "\n",
        "  #Creation of mask shape\n",
        "  if ratio_image > reshape_ratio:\n",
        "\n",
        "    mask_h=h\n",
        "\n",
        "    delta_w = (h-reshape_ratio*w)/(2*reshape_ratio)\n",
        "    mask_w = w + 1*delta_w\n",
        "\n",
        "  elif ratio_image < reshape_ratio:\n",
        "    mask_w=w\n",
        "\n",
        "    delta_h = (reshape_ratio*w - h)/2\n",
        "    mask_h = h + 2*delta_h\n",
        "\n",
        "  else:\n",
        "    mask_w=w\n",
        "    mask_h=h\n",
        "\n",
        "  mask_w=int(mask_w)\n",
        "  mask_h=int(mask_h)\n",
        "\n",
        "#Definition of the image position on the mask\n",
        "  x_pos = (mask_w - w)//2\n",
        "  y_pos = (mask_h - h)//2\n",
        "\n",
        "#Addition of the image on the mask\n",
        "  if len(img.shape) == 2:\n",
        "      mask = np.zeros((mask_h, mask_w), dtype=img.dtype)\n",
        "      mask[y_pos:y_pos+h, x_pos:x_pos+w] = img[:h, :w]\n",
        "  else:\n",
        "      mask = np.zeros((mask_h, mask_w, c), dtype=img.dtype)\n",
        "      mask[y_pos:y_pos+h, x_pos:x_pos+w, :] = img[:h, :w, :]\n",
        "  \n",
        "  mask=mask[:,:].mean(axis=2)\n",
        "\n",
        "#Resizing of the mask to the wanted shape\n",
        "  return cv2.resize(mask, reshape_size, interpolation)"
      ],
      "metadata": {
        "id": "N0aFkRMqdVtr"
      },
      "execution_count": null,
      "outputs": []
    },
    {
      "cell_type": "markdown",
      "source": [
        "## Resizing choice : (132,32)"
      ],
      "metadata": {
        "id": "CqsgaQKpzslw"
      }
    },
    {
      "cell_type": "code",
      "source": [
        "#Application of the resizing function to the X_train & X_test dataset\n",
        "w=132\n",
        "h=32\n",
        "\n",
        "def f(img):\n",
        "  return resize_no_distortion(img,(w,h))\n",
        "\n",
        "X_train_reshaped = np.stack(X_train.apply(f))\n",
        "X_test_reshaped = np.stack(X_test.apply(f))"
      ],
      "metadata": {
        "id": "2R6e4a0haVuI"
      },
      "execution_count": null,
      "outputs": []
    },
    {
      "cell_type": "code",
      "source": [
        "#Display of a random part of the dataset\n",
        "j=1\n",
        "plt.figure(figsize=(12,8))\n",
        "for rand in np.random.choice(np.arange(0, len(X_train_reshaped)), size=10):\n",
        "    plt.subplot(2,5,j)\n",
        "    word = y_train.iloc[rand]\n",
        "    plt.imshow(X_train_reshaped[rand])\n",
        "    plt.title(word);\n",
        "\n",
        "    j=j+1"
      ],
      "metadata": {
        "colab": {
          "base_uri": "https://localhost:8080/",
          "height": 329
        },
        "id": "muWlvzXbT37v",
        "outputId": "0157894c-b19f-46d1-daa6-5165eda9fc12"
      },
      "execution_count": null,
      "outputs": [
        {
          "output_type": "display_data",
          "data": {
            "text/plain": [
              "<Figure size 864x576 with 10 Axes>"
            ],
            "image/png": "[encoded data removed]"
          },
          "metadata": {
            "needs_background": "light"
          }
        }
      ]
    },
    {
      "cell_type": "markdown",
      "source": [
        "## Vectorization of the labels"
      ],
      "metadata": {
        "id": "EtznC98Gf-Wl"
      }
    },
    {
      "cell_type": "code",
      "source": [
        "from sklearn import preprocessing\n",
        "from tensorflow.keras.layers.experimental.preprocessing import StringLookup\n",
        "\n",
        "max_length = max(y_train.apply(len).max(),y_test.apply(len).max())\n",
        "le = preprocessing.LabelEncoder()\n",
        "le.fit(list(set(y_train.sum()+y_test.sum())))\n",
        "\n",
        "print(\"Classes of LabelEncoder: \",le.classes_)\n",
        "\n",
        "def word_vectorization(word,max_length,label_encoder):\n",
        "  le=label_encoder\n",
        "  vector = le.transform(list(word))\n",
        "  if len(vector) < max_length:\n",
        "    addition=(np.ones((max_length-len(vector)))*99).astype(\"int\")\n",
        "    vector=np.concatenate([vector,addition])\n",
        "\n",
        "  return vector"
      ],
      "metadata": {
        "colab": {
          "base_uri": "https://localhost:8080/"
        },
        "id": "LitIS2vKd49F",
        "outputId": "b7a32992-5dd1-4145-ef89-52646c9645a4"
      },
      "execution_count": null,
      "outputs": [
        {
          "output_type": "stream",
          "name": "stdout",
          "text": [
            "Classes of LabelEncoder:  ['!' '\"' '#' '&' \"'\" '(' ')' '*' '+' ',' '-' '.' '/' '0' '1' '2' '3' '4'\n",
            " '5' '6' '7' '8' '9' ':' ';' '?' 'A' 'B' 'C' 'D' 'E' 'F' 'G' 'H' 'I' 'J'\n",
            " 'K' 'L' 'M' 'N' 'O' 'P' 'Q' 'R' 'S' 'T' 'U' 'V' 'W' 'X' 'Y' 'Z' 'a' 'b'\n",
            " 'c' 'd' 'e' 'f' 'g' 'h' 'i' 'j' 'k' 'l' 'm' 'n' 'o' 'p' 'q' 'r' 's' 't'\n",
            " 'u' 'v' 'w' 'x' 'y' 'z']\n"
          ]
        }
      ]
    },
    {
      "cell_type": "code",
      "source": [
        "print(y_train_encode.shape)\n",
        "print(max_length)"
      ],
      "metadata": {
        "colab": {
          "base_uri": "https://localhost:8080/"
        },
        "id": "VdxR-2_woD4J",
        "outputId": "7902dbf6-b4ca-4b75-f214-6cd0456757c4"
      },
      "execution_count": null,
      "outputs": [
        {
          "output_type": "stream",
          "name": "stdout",
          "text": [
            "(38582, 19)\n",
            "19\n"
          ]
        }
      ]
    },
    {
      "cell_type": "code",
      "source": [
        "def f(word):\n",
        "  return word_vectorization(word,max_length,le)\n",
        "\n",
        "y_train_encode = np.stack(y_train.apply(f)) #use of np.stack to have one array and not an array of array\n",
        "y_test_encode = np.stack(y_test.apply(f))"
      ],
      "metadata": {
        "id": "6HCgFRvId46G"
      },
      "execution_count": null,
      "outputs": []
    },
    {
      "cell_type": "markdown",
      "source": [
        "## Modelisation"
      ],
      "metadata": {
        "id": "vSOxAd01zY5-"
      }
    },
    {
      "cell_type": "code",
      "source": [
        "from tensorflow.keras.optimizers import Adam\n",
        "from tensorflow.keras import layers\n",
        "import tensorflow as tf\n",
        "from tensorflow.keras import regularizers\n",
        "from tensorflow.keras.models import Sequential, Model\n",
        "from tensorflow.keras.layers import Dense, Activation, Input\n",
        "from tensorflow.keras.layers import Dropout\n",
        "from tensorflow.keras.layers import Flatten\n",
        "from tensorflow.keras.layers import Conv2D\n",
        "from tensorflow.keras.layers import MaxPooling2D\n",
        "\n",
        "model = Sequential()\n",
        "model.add(Conv2D(filters=32, kernel_size=(3, 3), activation='relu', input_shape=(h,w,1)))\n",
        "model.add(layers.MaxPool2D(pool_size=(2, 2), strides=2))\n",
        "model.add(Conv2D(filters=64, kernel_size=(3, 3), activation='relu', padding = 'same'))\n",
        "model.add(layers.MaxPool2D(pool_size=(2, 2), strides=2))\n",
        "model.add(Conv2D(filters=128, kernel_size=(3, 3), activation='relu', padding = 'valid'))\n",
        "model.add(layers.MaxPool2D(pool_size=(2, 2), strides=2))\n",
        "model.add(Flatten())\n",
        "model.add(Dense(64,activation =\"relu\"))\n",
        "model.add(Dense(128,activation =\"relu\"))\n",
        "model.add(Dense(max_length,activation =\"relu\"))\n",
        "\n",
        "lenet=model\n",
        "\n",
        "lenet.summary()\n",
        "\n",
        "model.compile(optimizer = Adam(learning_rate=0.001), loss='categorical_crossentropy', metrics=['accuracy'])"
      ],
      "metadata": {
        "colab": {
          "base_uri": "https://localhost:8080/"
        },
        "id": "HFfhoHpwd43k",
        "outputId": "7e28f2ae-fc59-456c-82dc-d2a84227231f"
      },
      "execution_count": null,
      "outputs": [
        {
          "output_type": "stream",
          "name": "stdout",
          "text": [
            "Model: \"sequential_1\"\n",
            "_________________________________________________________________\n",
            " Layer (type)                Output Shape              Param #   \n",
            "=================================================================\n",
            " conv2d_1 (Conv2D)           (None, 30, 130, 32)       320       \n",
            "                                                                 \n",
            " max_pooling2d (MaxPooling2D  (None, 15, 65, 32)       0         \n",
            " )                                                               \n",
            "                                                                 \n",
            " conv2d_2 (Conv2D)           (None, 15, 65, 64)        18496     \n",
            "                                                                 \n",
            " max_pooling2d_1 (MaxPooling  (None, 7, 32, 64)        0         \n",
            " 2D)                                                             \n",
            "                                                                 \n",
            " conv2d_3 (Conv2D)           (None, 5, 30, 128)        73856     \n",
            "                                                                 \n",
            " max_pooling2d_2 (MaxPooling  (None, 2, 15, 128)       0         \n",
            " 2D)                                                             \n",
            "                                                                 \n",
            " flatten (Flatten)           (None, 3840)              0         \n",
            "                                                                 \n",
            " dense (Dense)               (None, 64)                245824    \n",
            "                                                                 \n",
            " dense_1 (Dense)             (None, 128)               8320      \n",
            "                                                                 \n",
            " dense_2 (Dense)             (None, 19)                2451      \n",
            "                                                                 \n",
            "=================================================================\n",
            "Total params: 349,267\n",
            "Trainable params: 349,267\n",
            "Non-trainable params: 0\n",
            "_________________________________________________________________\n"
          ]
        }
      ]
    },
    {
      "cell_type": "code",
      "source": [],
      "metadata": {
        "colab": {
          "base_uri": "https://localhost:8080/"
        },
        "id": "jg_g8fAznqmu",
        "outputId": "29821d53-abe2-4ee4-8fcd-1748256d6716"
      },
      "execution_count": null,
      "outputs": [
        {
          "output_type": "execute_result",
          "data": {
            "text/plain": [
              "array([[64, 52, 55, ..., 99, 99, 99],\n",
              "       [52, 63, 70, ..., 99, 99, 99],\n",
              "       [59, 56, 99, ..., 99, 99, 99],\n",
              "       ...,\n",
              "       [56, 65, 54, ..., 99, 99, 99],\n",
              "       [71, 59, 56, ..., 99, 99, 99],\n",
              "       [53, 69, 60, ..., 99, 99, 99]])"
            ]
          },
          "metadata": {},
          "execution_count": 16
        }
      ]
    },
    {
      "cell_type": "code",
      "source": [
        "epochs=5\n",
        "training_history_lenet=lenet.fit(X_train_reshaped,y_train_encode,epochs=epochs,batch_size=150, validation_data = (X_test_reshaped,y_test_encode))"
      ],
      "metadata": {
        "colab": {
          "base_uri": "https://localhost:8080/"
        },
        "id": "SQRf53-yd40p",
        "outputId": "f81d7a1c-87a4-4ac3-ba92-18d96349bc1b"
      },
      "execution_count": null,
      "outputs": [
        {
          "output_type": "stream",
          "name": "stdout",
          "text": [
            "Epoch 1/5\n",
            "258/258 [==============================] - 21s 29ms/step - loss: 6323.2251 - accuracy: 0.0048 - val_loss: 6245.6797 - val_accuracy: 0.0052\n",
            "Epoch 2/5\n",
            "258/258 [==============================] - 6s 24ms/step - loss: 6243.8936 - accuracy: 0.0089 - val_loss: 6244.2646 - val_accuracy: 0.0068\n",
            "Epoch 3/5\n",
            "258/258 [==============================] - 6s 24ms/step - loss: 6243.0298 - accuracy: 0.0086 - val_loss: 6243.7637 - val_accuracy: 0.0092\n",
            "Epoch 4/5\n",
            "258/258 [==============================] - 7s 25ms/step - loss: 6242.6851 - accuracy: 0.0116 - val_loss: 6243.4146 - val_accuracy: 0.0041\n",
            "Epoch 5/5\n",
            "258/258 [==============================] - 6s 25ms/step - loss: 6242.3940 - accuracy: 0.0139 - val_loss: 6243.3340 - val_accuracy: 0.0289\n"
          ]
        }
      ]
    },
    {
      "cell_type": "code",
      "source": [
        "train_acc_lenet = training_history_lenet.history['accuracy']\n",
        "val_acc_lenet = training_history_lenet.history['val_accuracy']\n",
        "\n"
      ],
      "metadata": {
        "id": "BYUxvwngd4yL"
      },
      "execution_count": null,
      "outputs": []
    },
    {
      "cell_type": "code",
      "source": [
        "plt.plot(range(1,epochs+1),val_acc_lenet,label=\"lenet_validation\")\n",
        "plt.plot(range(1,epochs+1),train_acc_lenet,label=\"lenet_train\")\n",
        "plt.legend();"
      ],
      "metadata": {
        "id": "PHkI_qdqyyu2",
        "colab": {
          "base_uri": "https://localhost:8080/",
          "height": 268
        },
        "outputId": "a4d250b3-1f15-4e15-b70b-30db3211292a"
      },
      "execution_count": null,
      "outputs": [
        {
          "output_type": "display_data",
          "data": {
            "text/plain": [
              "<Figure size 432x288 with 1 Axes>"
            ],
            "image/png": "[encoded data removed]"
          },
          "metadata": {
            "needs_background": "light"
          }
        }
      ]
    },
    {
      "cell_type": "markdown",
      "source": [
        "## Modelisation 2 failed"
      ],
      "metadata": {
        "id": "MWKIODt-6DWL"
      }
    },
    {
      "cell_type": "code",
      "source": [
        "#@title\n",
        "from tensorflow import keras\n",
        "import tensorflow as tf\n",
        "\n",
        "class CTCLayer(keras.layers.Layer):\n",
        "    def __init__(self, name=None):\n",
        "        super().__init__(name=name)\n",
        "        self.loss_fn = keras.backend.ctc_batch_cost\n",
        "\n",
        "    def call(self, y_true, y_pred):\n",
        "        batch_len = tf.cast(tf.shape(y_true)[0], dtype=\"int64\")\n",
        "        input_length = tf.cast(tf.shape(y_pred)[1], dtype=\"int64\")\n",
        "        label_length = tf.cast(tf.shape(y_true)[1], dtype=\"int64\")\n",
        "\n",
        "        input_length = input_length * tf.ones(shape=(batch_len, 1), dtype=\"int64\")\n",
        "        label_length = label_length * tf.ones(shape=(batch_len, 1), dtype=\"int64\")\n",
        "        loss = self.loss_fn(y_true, y_pred, input_length, label_length)\n",
        "        self.add_loss(loss)\n",
        "\n",
        "        # At test time, just return the computed predictions.\n",
        "        return y_pred\n",
        "\n",
        "\n",
        "def build_model():\n",
        "    # Inputs to the model\n",
        "    input_img = keras.Input(shape=(h, w, 1), name=\"image\")\n",
        "    labels = keras.layers.Input(name=\"label\", shape=(None,))\n",
        "\n",
        "    # First conv block.\n",
        "    x = keras.layers.Conv2D(\n",
        "        32,\n",
        "        (3, 3),\n",
        "        activation=\"relu\",\n",
        "        kernel_initializer=\"he_normal\",\n",
        "        padding=\"same\",\n",
        "        name=\"Conv1\",\n",
        "    )(input_img)\n",
        "    x = keras.layers.MaxPooling2D((2, 2), name=\"pool1\")(x)\n",
        "\n",
        "    # Second conv block.\n",
        "    x = keras.layers.Conv2D(\n",
        "        64,\n",
        "        (3, 3),\n",
        "        activation=\"relu\",\n",
        "        kernel_initializer=\"he_normal\",\n",
        "        padding=\"same\",\n",
        "        name=\"Conv2\",\n",
        "    )(x)\n",
        "    x = keras.layers.MaxPooling2D((2, 2), name=\"pool2\")(x)\n",
        "\n",
        "    # We have used two max pool with pool size and strides 2.\n",
        "    # Hence, downsampled feature maps are 4x smaller. The number of\n",
        "    # filters in the last layer is 64. Reshape accordingly before\n",
        "    # passing the output to the RNN part of the model.\n",
        "    new_shape = ((w // 4), (h // 4) * 64)\n",
        "    x = keras.layers.Reshape(target_shape=new_shape, name=\"reshape\")(x)\n",
        "    x = keras.layers.Dense(64, activation=\"relu\", name=\"dense1\")(x)\n",
        "    x = keras.layers.Dropout(0.2)(x)\n",
        "\n",
        "    # RNNs.\n",
        "    x = keras.layers.Bidirectional(\n",
        "        keras.layers.LSTM(128, return_sequences=True, dropout=0.25)\n",
        "    )(x)\n",
        "    x = keras.layers.Bidirectional(\n",
        "        keras.layers.LSTM(64, return_sequences=True, dropout=0.25)\n",
        "    )(x)\n",
        "\n",
        "    # +2 is to account for the two special tokens introduced by the CTC loss.\n",
        "    # The recommendation comes here: https://git.io/J0eXP.\n",
        "    x = keras.layers.Dense(\n",
        "        len(le.classes_) + 2, activation=\"softmax\", name=\"dense2\"\n",
        "    )(x)\n",
        "\n",
        "    # Add CTC layer for calculating CTC loss at each step.\n",
        "    output = CTCLayer(name=\"ctc_loss\")(labels, x)\n",
        "\n",
        "    # Define the model.\n",
        "    model = keras.models.Model(\n",
        "        inputs=[input_img,labels], outputs=output, name=\"handwriting_recognizer\"\n",
        "    )\n",
        "    # Optimizer.\n",
        "    opt = keras.optimizers.Adam()\n",
        "    # Compile the model and return.\n",
        "    model.compile(optimizer=opt)\n",
        "    return model\n",
        "\n",
        "\n",
        "# Get the model.\n",
        "model = build_model()\n",
        "model.summary()"
      ],
      "metadata": {
        "colab": {
          "base_uri": "https://localhost:8080/"
        },
        "id": "KAzuUdGo6G-p",
        "outputId": "ae7e8c79-fe18-4225-cf0d-56b17dc531e8",
        "cellView": "form"
      },
      "execution_count": null,
      "outputs": [
        {
          "output_type": "stream",
          "name": "stdout",
          "text": [
            "Model: \"handwriting_recognizer\"\n",
            "__________________________________________________________________________________________________\n",
            " Layer (type)                   Output Shape         Param #     Connected to                     \n",
            "==================================================================================================\n",
            " image (InputLayer)             [(None, 32, 132, 1)  0           []                               \n",
            "                                ]                                                                 \n",
            "                                                                                                  \n",
            " Conv1 (Conv2D)                 (None, 32, 132, 32)  320         ['image[0][0]']                  \n",
            "                                                                                                  \n",
            " pool1 (MaxPooling2D)           (None, 16, 66, 32)   0           ['Conv1[0][0]']                  \n",
            "                                                                                                  \n",
            " Conv2 (Conv2D)                 (None, 16, 66, 64)   18496       ['pool1[0][0]']                  \n",
            "                                                                                                  \n",
            " pool2 (MaxPooling2D)           (None, 8, 33, 64)    0           ['Conv2[0][0]']                  \n",
            "                                                                                                  \n",
            " reshape (Reshape)              (None, 33, 512)      0           ['pool2[0][0]']                  \n",
            "                                                                                                  \n",
            " dense1 (Dense)                 (None, 33, 64)       32832       ['reshape[0][0]']                \n",
            "                                                                                                  \n",
            " dropout_10 (Dropout)           (None, 33, 64)       0           ['dense1[0][0]']                 \n",
            "                                                                                                  \n",
            " bidirectional_20 (Bidirectiona  (None, 33, 256)     197632      ['dropout_10[0][0]']             \n",
            " l)                                                                                               \n",
            "                                                                                                  \n",
            " bidirectional_21 (Bidirectiona  (None, 33, 128)     164352      ['bidirectional_20[0][0]']       \n",
            " l)                                                                                               \n",
            "                                                                                                  \n",
            " label (InputLayer)             [(None, None)]       0           []                               \n",
            "                                                                                                  \n",
            " dense2 (Dense)                 (None, 33, 80)       10320       ['bidirectional_21[0][0]']       \n",
            "                                                                                                  \n",
            " ctc_loss (CTCLayer)            (None, 33, 80)       0           ['label[0][0]',                  \n",
            "                                                                  'dense2[0][0]']                 \n",
            "                                                                                                  \n",
            "==================================================================================================\n",
            "Total params: 423,952\n",
            "Trainable params: 423,952\n",
            "Non-trainable params: 0\n",
            "__________________________________________________________________________________________________\n"
          ]
        }
      ]
    },
    {
      "cell_type": "code",
      "source": [
        "#@title\n",
        "validation_images = []\n",
        "validation_labels = []\n",
        "\n",
        "for batch in validation_ds:\n",
        "    validation_images.append(batch[\"image\"])\n",
        "    validation_labels.append(batch[\"label\"])"
      ],
      "metadata": {
        "colab": {
          "base_uri": "https://localhost:8080/",
          "height": 217
        },
        "id": "oKW7xtMs6GzU",
        "outputId": "61ccd9c2-809c-468b-f54c-cbab866736ff",
        "cellView": "form"
      },
      "execution_count": null,
      "outputs": [
        {
          "output_type": "error",
          "ename": "TypeError",
          "evalue": "ignored",
          "traceback": [
            "\u001b[0;31m---------------------------------------------------------------------------\u001b[0m",
            "\u001b[0;31mTypeError\u001b[0m                                 Traceback (most recent call last)",
            "\u001b[0;32m<ipython-input-52-262b078f31e3>\u001b[0m in \u001b[0;36m<module>\u001b[0;34m\u001b[0m\n\u001b[1;32m      3\u001b[0m \u001b[0;34m\u001b[0m\u001b[0m\n\u001b[1;32m      4\u001b[0m \u001b[0;32mfor\u001b[0m \u001b[0mbatch\u001b[0m \u001b[0;32min\u001b[0m \u001b[0mvalidation_ds\u001b[0m\u001b[0;34m:\u001b[0m\u001b[0;34m\u001b[0m\u001b[0;34m\u001b[0m\u001b[0m\n\u001b[0;32m----> 5\u001b[0;31m     \u001b[0mvalidation_images\u001b[0m\u001b[0;34m.\u001b[0m\u001b[0mappend\u001b[0m\u001b[0;34m(\u001b[0m\u001b[0mbatch\u001b[0m\u001b[0;34m[\u001b[0m\u001b[0;34m\"image\"\u001b[0m\u001b[0;34m]\u001b[0m\u001b[0;34m)\u001b[0m\u001b[0;34m\u001b[0m\u001b[0;34m\u001b[0m\u001b[0m\n\u001b[0m\u001b[1;32m      6\u001b[0m     \u001b[0mvalidation_labels\u001b[0m\u001b[0;34m.\u001b[0m\u001b[0mappend\u001b[0m\u001b[0;34m(\u001b[0m\u001b[0mbatch\u001b[0m\u001b[0;34m[\u001b[0m\u001b[0;34m\"label\"\u001b[0m\u001b[0;34m]\u001b[0m\u001b[0;34m)\u001b[0m\u001b[0;34m\u001b[0m\u001b[0;34m\u001b[0m\u001b[0m\n",
            "\u001b[0;31mTypeError\u001b[0m: tuple indices must be integers or slices, not str"
          ]
        }
      ]
    },
    {
      "cell_type": "code",
      "source": [
        "#@title\n",
        "epochs = 10  # To get good results this should be at least 50.\n",
        "\n",
        "model = build_model()\n",
        "prediction_model = keras.models.Model(\n",
        "    model.get_layer(name=\"image\").input, model.get_layer(name=\"dense2\").output\n",
        ")\n",
        "\n",
        "\n",
        "# Train the model.\n",
        "history = model.fit(\n",
        "    X_train_reshaped, y_train_encode,\n",
        "    \n",
        "    epochs=epochs,\n",
        "    callbacks=[edit_distance_callback],\n",
        "    )"
      ],
      "metadata": {
        "id": "8abCQDmx6GwP",
        "colab": {
          "base_uri": "https://localhost:8080/",
          "height": 217
        },
        "cellView": "form",
        "outputId": "0f1ae339-39d3-4800-d9d3-11618a622557"
      },
      "execution_count": null,
      "outputs": [
        {
          "output_type": "error",
          "ename": "NameError",
          "evalue": "ignored",
          "traceback": [
            "\u001b[0;31m---------------------------------------------------------------------------\u001b[0m",
            "\u001b[0;31mNameError\u001b[0m                                 Traceback (most recent call last)",
            "\u001b[0;32m<ipython-input-53-6c17adc7c190>\u001b[0m in \u001b[0;36m<module>\u001b[0;34m\u001b[0m\n\u001b[1;32m     12\u001b[0m \u001b[0;34m\u001b[0m\u001b[0m\n\u001b[1;32m     13\u001b[0m     \u001b[0mepochs\u001b[0m\u001b[0;34m=\u001b[0m\u001b[0mepochs\u001b[0m\u001b[0;34m,\u001b[0m\u001b[0;34m\u001b[0m\u001b[0;34m\u001b[0m\u001b[0m\n\u001b[0;32m---> 14\u001b[0;31m     \u001b[0mcallbacks\u001b[0m\u001b[0;34m=\u001b[0m\u001b[0;34m[\u001b[0m\u001b[0medit_distance_callback\u001b[0m\u001b[0;34m]\u001b[0m\u001b[0;34m,\u001b[0m\u001b[0;34m\u001b[0m\u001b[0;34m\u001b[0m\u001b[0m\n\u001b[0m\u001b[1;32m     15\u001b[0m     )\n",
            "\u001b[0;31mNameError\u001b[0m: name 'edit_distance_callback' is not defined"
          ]
        }
      ]
    },
    {
      "cell_type": "code",
      "source": [
        "#@title\n",
        "\n",
        "train_ds =  tf.data.Dataset.from_tensor_slices((X_train_reshaped, y_train_encode))\n",
        "validation_ds = tf.data.Dataset.from_tensor_slices((X_test_reshaped, y_test_encode))"
      ],
      "metadata": {
        "id": "LWqoAYnt6Gty",
        "cellView": "form"
      },
      "execution_count": null,
      "outputs": []
    },
    {
      "cell_type": "code",
      "source": [
        "#@title\n",
        "train_ds"
      ],
      "metadata": {
        "id": "z9JQPWez6Gmx",
        "colab": {
          "base_uri": "https://localhost:8080/"
        },
        "cellView": "form",
        "outputId": "25ce01f8-978b-41ab-e48c-e3f07901e4b6"
      },
      "execution_count": null,
      "outputs": [
        {
          "output_type": "execute_result",
          "data": {
            "text/plain": [
              "<TensorSliceDataset element_spec=(TensorSpec(shape=(32, 132), dtype=tf.float64, name=None), TensorSpec(shape=(19,), dtype=tf.int64, name=None))>"
            ]
          },
          "metadata": {},
          "execution_count": 39
        }
      ]
    },
    {
      "cell_type": "code",
      "source": [
        "#@title\n"
      ],
      "metadata": {
        "cellView": "form",
        "id": "re-YDvMayVV4"
      },
      "execution_count": null,
      "outputs": []
    },
    {
      "cell_type": "code",
      "source": [
        "#@title\n"
      ],
      "metadata": {
        "cellView": "form",
        "id": "q6Pof7_FyVS7"
      },
      "execution_count": null,
      "outputs": []
    },
    {
      "cell_type": "code",
      "source": [
        "#@title\n"
      ],
      "metadata": {
        "cellView": "form",
        "id": "3ktQIvXVyVP6"
      },
      "execution_count": null,
      "outputs": []
    },
    {
      "cell_type": "code",
      "source": [
        "#@title\n"
      ],
      "metadata": {
        "cellView": "form",
        "id": "yxLZAGi_yVNV"
      },
      "execution_count": null,
      "outputs": []
    },
    {
      "cell_type": "code",
      "source": [
        "#@title\n"
      ],
      "metadata": {
        "cellView": "form",
        "id": "EHIywWDOyVLB"
      },
      "execution_count": null,
      "outputs": []
    },
    {
      "cell_type": "markdown",
      "source": [
        "## Prediction"
      ],
      "metadata": {
        "id": "Ray4BPrr8c9N"
      }
    },
    {
      "cell_type": "code",
      "source": [
        "test_pred=lenet.predict(X_test_reshaped)"
      ],
      "metadata": {
        "id": "DW6st3FEyytA"
      },
      "execution_count": null,
      "outputs": []
    },
    {
      "cell_type": "code",
      "source": [
        "test_pred"
      ],
      "metadata": {
        "colab": {
          "base_uri": "https://localhost:8080/"
        },
        "id": "SFXks3vzyyqN",
        "outputId": "a570010d-87a8-4aa4-9ef6-32a8f864078c"
      },
      "execution_count": null,
      "outputs": [
        {
          "output_type": "execute_result",
          "data": {
            "text/plain": [
              "array([[   0.     , 1908.4453 , 1940.1469 , ...,    0.     , 1964.9077 ,\n",
              "        1919.4657 ],\n",
              "       [ 972.7922 , 2192.7898 , 2605.5005 , ...,    0.     , 4136.4385 ,\n",
              "        3887.572  ],\n",
              "       [ 224.13309, 1716.5332 , 2935.755  , ...,    0.     , 3203.0735 ,\n",
              "        3052.4307 ],\n",
              "       ...,\n",
              "       [1392.0353 , 2610.4639 , 3186.5425 , ...,    0.     , 5072.811  ,\n",
              "        4880.812  ],\n",
              "       [1241.973  , 2485.3174 , 2931.2793 , ...,    0.     , 4719.124  ,\n",
              "        4542.7817 ],\n",
              "       [ 324.49588, 2228.5256 , 2748.9082 , ...,    0.     , 4047.7512 ,\n",
              "        3847.4778 ]], dtype=float32)"
            ]
          },
          "metadata": {},
          "execution_count": 20
        }
      ]
    },
    {
      "cell_type": "code",
      "source": [
        "test_pred.shape"
      ],
      "metadata": {
        "id": "vgU_WI7Cyynu",
        "colab": {
          "base_uri": "https://localhost:8080/"
        },
        "outputId": "997f5527-8642-4d53-8e83-cf68aa38da2f"
      },
      "execution_count": null,
      "outputs": [
        {
          "output_type": "execute_result",
          "data": {
            "text/plain": [
              "(3859, 19)"
            ]
          },
          "metadata": {},
          "execution_count": 25
        }
      ]
    },
    {
      "cell_type": "code",
      "source": [
        "y_train_encode.shape"
      ],
      "metadata": {
        "id": "rA5UGhxgyylX",
        "colab": {
          "base_uri": "https://localhost:8080/"
        },
        "outputId": "854746ae-0a02-41ad-b308-e53bbd3cf216"
      },
      "execution_count": null,
      "outputs": [
        {
          "output_type": "execute_result",
          "data": {
            "text/plain": [
              "(15432, 19)"
            ]
          },
          "metadata": {},
          "execution_count": 27
        }
      ]
    },
    {
      "cell_type": "code",
      "source": [],
      "metadata": {
        "id": "9ZzQyOncyyit"
      },
      "execution_count": null,
      "outputs": []
    },
    {
      "cell_type": "code",
      "source": [],
      "metadata": {
        "id": "W7eNW9sKyygX"
      },
      "execution_count": null,
      "outputs": []
    },
    {
      "cell_type": "markdown",
      "source": [
        "## Decode the vector"
      ],
      "metadata": {
        "id": "FPRodf3hy6BF"
      }
    },
    {
      "cell_type": "code",
      "source": [
        "def decode(vector,label_encoder):\n",
        "  le=label_encoder\n",
        "  vector_clean=vector[vector!=99]\n",
        "  vector_decoded=le.inverse_transform(vector_clean)\n",
        "\n",
        "  return vector_decoded"
      ],
      "metadata": {
        "id": "cOpqRc60yyde"
      },
      "execution_count": null,
      "outputs": []
    },
    {
      "cell_type": "code",
      "source": [
        "  def f(vector):\n",
        "  return decode(vector,le)\n",
        "y_train_encode.apply(f)"
      ],
      "metadata": {
        "id": "poycif5Xxjk0"
      },
      "execution_count": null,
      "outputs": []
    }
  ]
}