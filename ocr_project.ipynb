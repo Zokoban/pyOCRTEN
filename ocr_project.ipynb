{
  "nbformat": 4,
  "nbformat_minor": 0,
  "metadata": {
    "colab": {
      "provenance": [],
      "collapsed_sections": [
        "vSOxAd01zY5-"
      ],
      "authorship_tag": "ABX9TyMpjBAh+C0mfOF9Aj7R14sd",
      "include_colab_link": true
    },
    "kernelspec": {
      "name": "python3",
      "display_name": "Python 3"
    },
    "language_info": {
      "name": "python"
    },
    "accelerator": "GPU"
  },
  "cells": [
    {
      "cell_type": "markdown",
      "metadata": {
        "id": "view-in-github",
        "colab_type": "text"
      },
      "source": [
        "<a href=\"https://colab.research.google.com/github/Zokoban/pyOCRTEN/blob/Full_TensorFlow/ocr_project.ipynb\" target=\"_parent\"><img src=\"https://colab.research.google.com/assets/colab-badge.svg\" alt=\"Open In Colab\"/></a>"
      ]
    },
    {
      "cell_type": "markdown",
      "source": [
        "## Download all data on the drive "
      ],
      "metadata": {
        "id": "rY2t8iv40Atm"
      }
    },
    {
      "cell_type": "code",
      "source": [
        "!wget -q https://git.io/J0fjL -O IAM_Words.zip\n",
        "!unzip -qq IAM_Words.zip\n",
        "!\n",
        "!mkdir data\n",
        "!mkdir data/words\n",
        "!tar -xf IAM_Words/words.tgz -C data/words\n",
        "!mv IAM_Words/words.txt data"
      ],
      "metadata": {
        "id": "pQd5d8OitoDO"
      },
      "execution_count": 3,
      "outputs": []
    },
    {
      "cell_type": "markdown",
      "source": [
        "## Load all the required packages"
      ],
      "metadata": {
        "id": "TQBEwYLH0FP5"
      }
    },
    {
      "cell_type": "code",
      "source": [
        "import pandas as pd\n",
        "import numpy as np\n",
        "import csv\n",
        "import cv2\n",
        "import matplotlib.pyplot as plt\n",
        "%matplotlib inline\n",
        "\n",
        "from sklearn.model_selection import train_test_split\n",
        "from tensorflow.keras.utils import to_categorical"
      ],
      "metadata": {
        "id": "PiYqf_7Uz_YR"
      },
      "execution_count": 4,
      "outputs": []
    },
    {
      "cell_type": "markdown",
      "source": [
        "## Load word.txt file"
      ],
      "metadata": {
        "id": "Xiv8jaZB0LZo"
      }
    },
    {
      "cell_type": "code",
      "source": [
        "word_txt=pd.read_csv(\"data/words.txt\", \n",
        "                     sep=' ', \n",
        "                     names=[\"word_id\",\"segmentation_result\",\"gray_level\",\"x\",\"y\",\"pxw\",\"pxh\",\"grammatical_tag\",\"transcription_1\",\"transcription_2\",\"transcription_3\"], \n",
        "                     quoting=csv.QUOTE_NONE, \n",
        "                     skiprows=18, \n",
        "                     on_bad_lines=\"warn\")\n",
        "\n",
        "def f(x):\n",
        "    if x == \"nan\":\n",
        "        return \"\"\n",
        "    else:\n",
        "        return x\n",
        "word_txt[\"transcription\"]=word_txt.transcription_1.astype(\"str\")+word_txt.transcription_2.astype(\"str\").apply(f)+word_txt.transcription_3.astype(\"str\").apply(f)\n",
        "word_txt=word_txt.drop(columns=[\"transcription_1\",\"transcription_2\",\"transcription_3\"])\n",
        "\n",
        "def f(x):\n",
        "    return len(x)\n",
        "\n",
        "word_txt[\"number_components\"]=word_txt.transcription.apply(f)\n",
        "\n",
        "print(\"word_txt Length: \",len(word_txt))\n",
        "word_txt.head()"
      ],
      "metadata": {
        "colab": {
          "base_uri": "https://localhost:8080/",
          "height": 224
        },
        "id": "mWa3zM2KvL5q",
        "outputId": "00c0ca37-d9f1-4da3-e2f1-e87172d985dd"
      },
      "execution_count": 5,
      "outputs": [
        {
          "output_type": "stream",
          "name": "stdout",
          "text": [
            "word_txt Length:  115320\n"
          ]
        },
        {
          "output_type": "execute_result",
          "data": {
            "text/plain": [
              "          word_id segmentation_result  gray_level     x    y  pxw  pxh  \\\n",
              "0  a01-000u-00-00                  ok         154   408  768   27   51   \n",
              "1  a01-000u-00-01                  ok         154   507  766  213   48   \n",
              "2  a01-000u-00-02                  ok         154   796  764   70   50   \n",
              "3  a01-000u-00-03                  ok         154   919  757  166   78   \n",
              "4  a01-000u-00-04                  ok         154  1185  754  126   61   \n",
              "\n",
              "  grammatical_tag transcription  number_components  \n",
              "0              AT             A                  1  \n",
              "1              NN          MOVE                  4  \n",
              "2              TO            to                  2  \n",
              "3              VB          stop                  4  \n",
              "4             NPT           Mr.                  3  "
            ],
            "text/html": [
              "\n",
              "  <div id=\"df-40576c8d-f81e-45d5-a61b-429099e7be12\">\n",
              "    <div class=\"colab-df-container\">\n",
              "      <div>\n",
              "<style scoped>\n",
              "    .dataframe tbody tr th:only-of-type {\n",
              "        vertical-align: middle;\n",
              "    }\n",
              "\n",
              "    .dataframe tbody tr th {\n",
              "        vertical-align: top;\n",
              "    }\n",
              "\n",
              "    .dataframe thead th {\n",
              "        text-align: right;\n",
              "    }\n",
              "</style>\n",
              "<table border=\"1\" class=\"dataframe\">\n",
              "  <thead>\n",
              "    <tr style=\"text-align: right;\">\n",
              "      <th></th>\n",
              "      <th>word_id</th>\n",
              "      <th>segmentation_result</th>\n",
              "      <th>gray_level</th>\n",
              "      <th>x</th>\n",
              "      <th>y</th>\n",
              "      <th>pxw</th>\n",
              "      <th>pxh</th>\n",
              "      <th>grammatical_tag</th>\n",
              "      <th>transcription</th>\n",
              "      <th>number_components</th>\n",
              "    </tr>\n",
              "  </thead>\n",
              "  <tbody>\n",
              "    <tr>\n",
              "      <th>0</th>\n",
              "      <td>a01-000u-00-00</td>\n",
              "      <td>ok</td>\n",
              "      <td>154</td>\n",
              "      <td>408</td>\n",
              "      <td>768</td>\n",
              "      <td>27</td>\n",
              "      <td>51</td>\n",
              "      <td>AT</td>\n",
              "      <td>A</td>\n",
              "      <td>1</td>\n",
              "    </tr>\n",
              "    <tr>\n",
              "      <th>1</th>\n",
              "      <td>a01-000u-00-01</td>\n",
              "      <td>ok</td>\n",
              "      <td>154</td>\n",
              "      <td>507</td>\n",
              "      <td>766</td>\n",
              "      <td>213</td>\n",
              "      <td>48</td>\n",
              "      <td>NN</td>\n",
              "      <td>MOVE</td>\n",
              "      <td>4</td>\n",
              "    </tr>\n",
              "    <tr>\n",
              "      <th>2</th>\n",
              "      <td>a01-000u-00-02</td>\n",
              "      <td>ok</td>\n",
              "      <td>154</td>\n",
              "      <td>796</td>\n",
              "      <td>764</td>\n",
              "      <td>70</td>\n",
              "      <td>50</td>\n",
              "      <td>TO</td>\n",
              "      <td>to</td>\n",
              "      <td>2</td>\n",
              "    </tr>\n",
              "    <tr>\n",
              "      <th>3</th>\n",
              "      <td>a01-000u-00-03</td>\n",
              "      <td>ok</td>\n",
              "      <td>154</td>\n",
              "      <td>919</td>\n",
              "      <td>757</td>\n",
              "      <td>166</td>\n",
              "      <td>78</td>\n",
              "      <td>VB</td>\n",
              "      <td>stop</td>\n",
              "      <td>4</td>\n",
              "    </tr>\n",
              "    <tr>\n",
              "      <th>4</th>\n",
              "      <td>a01-000u-00-04</td>\n",
              "      <td>ok</td>\n",
              "      <td>154</td>\n",
              "      <td>1185</td>\n",
              "      <td>754</td>\n",
              "      <td>126</td>\n",
              "      <td>61</td>\n",
              "      <td>NPT</td>\n",
              "      <td>Mr.</td>\n",
              "      <td>3</td>\n",
              "    </tr>\n",
              "  </tbody>\n",
              "</table>\n",
              "</div>\n",
              "      <button class=\"colab-df-convert\" onclick=\"convertToInteractive('df-40576c8d-f81e-45d5-a61b-429099e7be12')\"\n",
              "              title=\"Convert this dataframe to an interactive table.\"\n",
              "              style=\"display:none;\">\n",
              "        \n",
              "  <svg xmlns=\"http://www.w3.org/2000/svg\" height=\"24px\"viewBox=\"0 0 24 24\"\n",
              "       width=\"24px\">\n",
              "    <path d=\"M0 0h24v24H0V0z\" fill=\"none\"/>\n",
              "    <path d=\"M18.56 5.44l.94 2.06.94-2.06 2.06-.94-2.06-.94-.94-2.06-.94 2.06-2.06.94zm-11 1L8.5 8.5l.94-2.06 2.06-.94-2.06-.94L8.5 2.5l-.94 2.06-2.06.94zm10 10l.94 2.06.94-2.06 2.06-.94-2.06-.94-.94-2.06-.94 2.06-2.06.94z\"/><path d=\"M17.41 7.96l-1.37-1.37c-.4-.4-.92-.59-1.43-.59-.52 0-1.04.2-1.43.59L10.3 9.45l-7.72 7.72c-.78.78-.78 2.05 0 2.83L4 21.41c.39.39.9.59 1.41.59.51 0 1.02-.2 1.41-.59l7.78-7.78 2.81-2.81c.8-.78.8-2.07 0-2.86zM5.41 20L4 18.59l7.72-7.72 1.47 1.35L5.41 20z\"/>\n",
              "  </svg>\n",
              "      </button>\n",
              "      \n",
              "  <style>\n",
              "    .colab-df-container {\n",
              "      display:flex;\n",
              "      flex-wrap:wrap;\n",
              "      gap: 12px;\n",
              "    }\n",
              "\n",
              "    .colab-df-convert {\n",
              "      background-color: #E8F0FE;\n",
              "      border: none;\n",
              "      border-radius: 50%;\n",
              "      cursor: pointer;\n",
              "      display: none;\n",
              "      fill: #1967D2;\n",
              "      height: 32px;\n",
              "      padding: 0 0 0 0;\n",
              "      width: 32px;\n",
              "    }\n",
              "\n",
              "    .colab-df-convert:hover {\n",
              "      background-color: #E2EBFA;\n",
              "      box-shadow: 0px 1px 2px rgba(60, 64, 67, 0.3), 0px 1px 3px 1px rgba(60, 64, 67, 0.15);\n",
              "      fill: #174EA6;\n",
              "    }\n",
              "\n",
              "    [theme=dark] .colab-df-convert {\n",
              "      background-color: #3B4455;\n",
              "      fill: #D2E3FC;\n",
              "    }\n",
              "\n",
              "    [theme=dark] .colab-df-convert:hover {\n",
              "      background-color: #434B5C;\n",
              "      box-shadow: 0px 1px 3px 1px rgba(0, 0, 0, 0.15);\n",
              "      filter: drop-shadow(0px 1px 2px rgba(0, 0, 0, 0.3));\n",
              "      fill: #FFFFFF;\n",
              "    }\n",
              "  </style>\n",
              "\n",
              "      <script>\n",
              "        const buttonEl =\n",
              "          document.querySelector('#df-40576c8d-f81e-45d5-a61b-429099e7be12 button.colab-df-convert');\n",
              "        buttonEl.style.display =\n",
              "          google.colab.kernel.accessAllowed ? 'block' : 'none';\n",
              "\n",
              "        async function convertToInteractive(key) {\n",
              "          const element = document.querySelector('#df-40576c8d-f81e-45d5-a61b-429099e7be12');\n",
              "          const dataTable =\n",
              "            await google.colab.kernel.invokeFunction('convertToInteractive',\n",
              "                                                     [key], {});\n",
              "          if (!dataTable) return;\n",
              "\n",
              "          const docLinkHtml = 'Like what you see? Visit the ' +\n",
              "            '<a target=\"_blank\" href=https://colab.research.google.com/notebooks/data_table.ipynb>data table notebook</a>'\n",
              "            + ' to learn more about interactive tables.';\n",
              "          element.innerHTML = '';\n",
              "          dataTable['output_type'] = 'display_data';\n",
              "          await google.colab.output.renderOutput(dataTable, element);\n",
              "          const docLink = document.createElement('div');\n",
              "          docLink.innerHTML = docLinkHtml;\n",
              "          element.appendChild(docLink);\n",
              "        }\n",
              "      </script>\n",
              "    </div>\n",
              "  </div>\n",
              "  "
            ]
          },
          "metadata": {},
          "execution_count": 5
        }
      ]
    },
    {
      "cell_type": "markdown",
      "source": [
        "### Choice of the fraction of the dataset.\n",
        "### Removal of the transcription error.\n",
        "### Removal of the unwanted columns."
      ],
      "metadata": {
        "id": "4teX3LNn3BJU"
      }
    },
    {
      "cell_type": "code",
      "source": [
        "#############\n",
        "# Variables #\n",
        "#############\n",
        "\n",
        "fraction = 0.5\n",
        "data_dir = \"data/words/\"\n",
        "image_extensions = [\".png\"]  # add there all your images file extensions\n",
        "img_type_accepted_by_tf = [\"png\"]\n",
        "\n",
        "#--------------------------------------------------------------------------\n",
        "from pathlib import Path\n",
        "import imghdr\n",
        "\n",
        "def img_path(word):\n",
        "    path=data_dir+word.split(\"-\")[0]+\"/\"+word.split(\"-\")[0]+\"-\"+word.split(\"-\")[1]+\"/\"+word+\".png\"\n",
        "    \n",
        "    return path\n",
        "\n",
        "def removal_of_corrupt_image(df):\n",
        "  index_to_drop=[]\n",
        "  for filepath in Path(data_dir).rglob(\"*\"):\n",
        "      if filepath.suffix.lower() in image_extensions:\n",
        "          img_type = imghdr.what(filepath)\n",
        "          if img_type is None:\n",
        "              index_to_drop.append(df[df.filepath==str(filepath)].index)\n",
        "              df=df.drop(labels=df[df.filepath==str(filepath)].index)\n",
        "              print(f\"{filepath} is not an image\")\n",
        "          elif img_type not in img_type_accepted_by_tf:\n",
        "              df=df.drop(labels=df[df.filepath==str(filepath)].index)\n",
        "              print(f\"{filepath} is a {img_type}, not accepted by TensorFlow and is drop\")\n",
        "  return df\n",
        "\n",
        "##################################\n",
        "#   Removal of unwanted Column   #\n",
        "##################################\n",
        "\n",
        "list_columns_to_remove=[\"segmentation_result\",\"gray_level\",\"x\",\"y\",\"pxw\",\"pxh\",\"grammatical_tag\",\"number_components\"]\n",
        "\n",
        "df = word_txt[word_txt.segmentation_result == \"ok\"]\\\n",
        "    .drop(columns=list_columns_to_remove)\\\n",
        "    .sample(frac=fraction,random_state=1234)\n",
        "\n",
        "#----------------------------------------------------\n",
        "\n",
        "###############################\n",
        "#    Removal of corrupt image #\n",
        "###############################\n",
        "\n",
        "print(\"df Length: \",len(df))\n",
        "df[\"filepath\"]=df.word_id.apply(img_path)\n",
        "df=removal_of_corrupt_image(df)\n",
        "print(\"df Length: \",len(df))\n",
        "df.head()"
      ],
      "metadata": {
        "colab": {
          "base_uri": "https://localhost:8080/",
          "height": 276
        },
        "id": "EHQ1vKx53Wbj",
        "outputId": "111bd8cf-84fc-47e6-ed1c-de8e5ca9d220"
      },
      "execution_count": 6,
      "outputs": [
        {
          "output_type": "stream",
          "name": "stdout",
          "text": [
            "df Length:  48228\n",
            "data/words/a01/a01-117/a01-117-05-02.png is not an image\n",
            "data/words/r06/r06-022/r06-022-03-05.png is not an image\n",
            "df Length:  48227\n"
          ]
        },
        {
          "output_type": "execute_result",
          "data": {
            "text/plain": [
              "              word_id transcription  \\\n",
              "23187   c02-022-03-01     indignity   \n",
              "38064   d06-107-08-01          with   \n",
              "20965   b06-023-03-03            an   \n",
              "77141  h07-063b-00-00          More   \n",
              "56002   g04-063-03-05     volunteer   \n",
              "\n",
              "                                         filepath  \n",
              "23187    data/words/c02/c02-022/c02-022-03-01.png  \n",
              "38064    data/words/d06/d06-107/d06-107-08-01.png  \n",
              "20965    data/words/b06/b06-023/b06-023-03-03.png  \n",
              "77141  data/words/h07/h07-063b/h07-063b-00-00.png  \n",
              "56002    data/words/g04/g04-063/g04-063-03-05.png  "
            ],
            "text/html": [
              "\n",
              "  <div id=\"df-b15c8c63-72ea-445e-9d6b-ee5c7bd7f64c\">\n",
              "    <div class=\"colab-df-container\">\n",
              "      <div>\n",
              "<style scoped>\n",
              "    .dataframe tbody tr th:only-of-type {\n",
              "        vertical-align: middle;\n",
              "    }\n",
              "\n",
              "    .dataframe tbody tr th {\n",
              "        vertical-align: top;\n",
              "    }\n",
              "\n",
              "    .dataframe thead th {\n",
              "        text-align: right;\n",
              "    }\n",
              "</style>\n",
              "<table border=\"1\" class=\"dataframe\">\n",
              "  <thead>\n",
              "    <tr style=\"text-align: right;\">\n",
              "      <th></th>\n",
              "      <th>word_id</th>\n",
              "      <th>transcription</th>\n",
              "      <th>filepath</th>\n",
              "    </tr>\n",
              "  </thead>\n",
              "  <tbody>\n",
              "    <tr>\n",
              "      <th>23187</th>\n",
              "      <td>c02-022-03-01</td>\n",
              "      <td>indignity</td>\n",
              "      <td>data/words/c02/c02-022/c02-022-03-01.png</td>\n",
              "    </tr>\n",
              "    <tr>\n",
              "      <th>38064</th>\n",
              "      <td>d06-107-08-01</td>\n",
              "      <td>with</td>\n",
              "      <td>data/words/d06/d06-107/d06-107-08-01.png</td>\n",
              "    </tr>\n",
              "    <tr>\n",
              "      <th>20965</th>\n",
              "      <td>b06-023-03-03</td>\n",
              "      <td>an</td>\n",
              "      <td>data/words/b06/b06-023/b06-023-03-03.png</td>\n",
              "    </tr>\n",
              "    <tr>\n",
              "      <th>77141</th>\n",
              "      <td>h07-063b-00-00</td>\n",
              "      <td>More</td>\n",
              "      <td>data/words/h07/h07-063b/h07-063b-00-00.png</td>\n",
              "    </tr>\n",
              "    <tr>\n",
              "      <th>56002</th>\n",
              "      <td>g04-063-03-05</td>\n",
              "      <td>volunteer</td>\n",
              "      <td>data/words/g04/g04-063/g04-063-03-05.png</td>\n",
              "    </tr>\n",
              "  </tbody>\n",
              "</table>\n",
              "</div>\n",
              "      <button class=\"colab-df-convert\" onclick=\"convertToInteractive('df-b15c8c63-72ea-445e-9d6b-ee5c7bd7f64c')\"\n",
              "              title=\"Convert this dataframe to an interactive table.\"\n",
              "              style=\"display:none;\">\n",
              "        \n",
              "  <svg xmlns=\"http://www.w3.org/2000/svg\" height=\"24px\"viewBox=\"0 0 24 24\"\n",
              "       width=\"24px\">\n",
              "    <path d=\"M0 0h24v24H0V0z\" fill=\"none\"/>\n",
              "    <path d=\"M18.56 5.44l.94 2.06.94-2.06 2.06-.94-2.06-.94-.94-2.06-.94 2.06-2.06.94zm-11 1L8.5 8.5l.94-2.06 2.06-.94-2.06-.94L8.5 2.5l-.94 2.06-2.06.94zm10 10l.94 2.06.94-2.06 2.06-.94-2.06-.94-.94-2.06-.94 2.06-2.06.94z\"/><path d=\"M17.41 7.96l-1.37-1.37c-.4-.4-.92-.59-1.43-.59-.52 0-1.04.2-1.43.59L10.3 9.45l-7.72 7.72c-.78.78-.78 2.05 0 2.83L4 21.41c.39.39.9.59 1.41.59.51 0 1.02-.2 1.41-.59l7.78-7.78 2.81-2.81c.8-.78.8-2.07 0-2.86zM5.41 20L4 18.59l7.72-7.72 1.47 1.35L5.41 20z\"/>\n",
              "  </svg>\n",
              "      </button>\n",
              "      \n",
              "  <style>\n",
              "    .colab-df-container {\n",
              "      display:flex;\n",
              "      flex-wrap:wrap;\n",
              "      gap: 12px;\n",
              "    }\n",
              "\n",
              "    .colab-df-convert {\n",
              "      background-color: #E8F0FE;\n",
              "      border: none;\n",
              "      border-radius: 50%;\n",
              "      cursor: pointer;\n",
              "      display: none;\n",
              "      fill: #1967D2;\n",
              "      height: 32px;\n",
              "      padding: 0 0 0 0;\n",
              "      width: 32px;\n",
              "    }\n",
              "\n",
              "    .colab-df-convert:hover {\n",
              "      background-color: #E2EBFA;\n",
              "      box-shadow: 0px 1px 2px rgba(60, 64, 67, 0.3), 0px 1px 3px 1px rgba(60, 64, 67, 0.15);\n",
              "      fill: #174EA6;\n",
              "    }\n",
              "\n",
              "    [theme=dark] .colab-df-convert {\n",
              "      background-color: #3B4455;\n",
              "      fill: #D2E3FC;\n",
              "    }\n",
              "\n",
              "    [theme=dark] .colab-df-convert:hover {\n",
              "      background-color: #434B5C;\n",
              "      box-shadow: 0px 1px 3px 1px rgba(0, 0, 0, 0.15);\n",
              "      filter: drop-shadow(0px 1px 2px rgba(0, 0, 0, 0.3));\n",
              "      fill: #FFFFFF;\n",
              "    }\n",
              "  </style>\n",
              "\n",
              "      <script>\n",
              "        const buttonEl =\n",
              "          document.querySelector('#df-b15c8c63-72ea-445e-9d6b-ee5c7bd7f64c button.colab-df-convert');\n",
              "        buttonEl.style.display =\n",
              "          google.colab.kernel.accessAllowed ? 'block' : 'none';\n",
              "\n",
              "        async function convertToInteractive(key) {\n",
              "          const element = document.querySelector('#df-b15c8c63-72ea-445e-9d6b-ee5c7bd7f64c');\n",
              "          const dataTable =\n",
              "            await google.colab.kernel.invokeFunction('convertToInteractive',\n",
              "                                                     [key], {});\n",
              "          if (!dataTable) return;\n",
              "\n",
              "          const docLinkHtml = 'Like what you see? Visit the ' +\n",
              "            '<a target=\"_blank\" href=https://colab.research.google.com/notebooks/data_table.ipynb>data table notebook</a>'\n",
              "            + ' to learn more about interactive tables.';\n",
              "          element.innerHTML = '';\n",
              "          dataTable['output_type'] = 'display_data';\n",
              "          await google.colab.output.renderOutput(dataTable, element);\n",
              "          const docLink = document.createElement('div');\n",
              "          docLink.innerHTML = docLinkHtml;\n",
              "          element.appendChild(docLink);\n",
              "        }\n",
              "      </script>\n",
              "    </div>\n",
              "  </div>\n",
              "  "
            ]
          },
          "metadata": {},
          "execution_count": 6
        }
      ]
    },
    {
      "cell_type": "markdown",
      "source": [
        "## Separation of dataset and Loading + Preprocessing of the image"
      ],
      "metadata": {
        "id": "zIPE0VW26JiS"
      }
    },
    {
      "cell_type": "markdown",
      "source": [
        "###Loading and preprocessing functions"
      ],
      "metadata": {
        "id": "vAnbbMGLOFzk"
      }
    },
    {
      "cell_type": "code",
      "source": [
        "#############\n",
        "# Variables #\n",
        "#############\n",
        "\n",
        "batch_size = 64\n",
        "image_width=128\n",
        "image_height=32\n",
        "imgSize = (image_height, image_width)\n",
        "\n",
        "#-----------------------------------\n",
        "\n",
        "###############################################################\n",
        "# Definition of functions:                                    #\n",
        "#     - Loading images                                        #\n",
        "#     - Preprocessing of images (resizing without distortion) #\n",
        "###############################################################\n",
        "\n",
        "import tensorflow as tf\n",
        "from sklearn.model_selection import train_test_split\n",
        "import numpy as np\n",
        "\n",
        "#Loading function of images (with tensorflow)\n",
        "@tf.function\n",
        "def load_image(filepath):\n",
        "    im = tf.io.read_file(filepath)\n",
        "    im = tf.image.decode_png(im, channels=0)\n",
        "\n",
        "    return im\n",
        "\n",
        "#Preprocessing function of images (with tensorflow)\n",
        "@tf.function\n",
        "def preprocess(filepath, imgSize=(32, 128), dataAugmentation=False, scale=0.8, isthreshold=False):\n",
        "\n",
        "\n",
        "\n",
        "    img = load_image(filepath)/255\n",
        "    # there are damaged files in IAM dataset - just use black image instead\n",
        "    if img is None:\n",
        "        img = tf.ones([imgSize[0], imgSize[1], 1])\n",
        "        print(\"None\")\n",
        "\n",
        "    if dataAugmentation:\n",
        "        stretch = scale*(tf.random.uniform([1], 0, 1)[0] - 0.3) # -0.5 .. +0.5\n",
        "        wStretched = tf.maximum(int(float(tf.shape(img)[0]) * (1 + stretch)), 1) # random width, but at least 1\n",
        "        img = tf.image.resize(img, (wStretched, tf.shape(img)[1])) # stretch horizontally by factor 0.5 .. 1.5\n",
        "\n",
        "    (wt, ht) = imgSize\n",
        "\n",
        "    w, h = float(tf.shape(img)[0]), float(tf.shape(img)[1])\n",
        "\n",
        "    fx = w / wt\n",
        "    fy = h / ht\n",
        "\n",
        "    f = tf.maximum(fx, fy)\n",
        "\n",
        "    newSize = (tf.maximum(tf.minimum(wt, int(w / f)), 1), tf.maximum(tf.minimum(ht, int(h / f)), 1)) # scale according to f (result at least 1 and at most wt or ht)\n",
        "\n",
        "    img = tf.image.resize(img, newSize)\n",
        "\n",
        "\n",
        "    dx = wt - newSize[0]\n",
        "    dy = ht - newSize[1]\n",
        "\n",
        "    if dataAugmentation :\n",
        "        dx1=0\n",
        "        dy1=0\n",
        "        if dx!=0:\n",
        "            dx1 = tf.random.uniform([1], 0, dx, tf.int32)[0]\n",
        "        if dy!=0:\n",
        "            dy1 = tf.random.uniform([1], 0, dy, tf.int32)[0]\n",
        "        img = tf.pad(img[..., 0], [[dx1, dx-dx1], [dy1, dy-dy1]], constant_values=0)\n",
        "    else :\n",
        "        img = tf.pad(img[..., 0], [[0, dx], [0, dy]], constant_values=0)\n",
        "\n",
        "    if isthreshold:\n",
        "        return tf.expand_dims(1-(1-img)*tf.cast(img < 0.8, tf.float32), -1)\n",
        "    return tf.expand_dims(img, -1)\n",
        "\n",
        "#-----------------------------------------------------------------------------\n",
        "\n",
        "#########################################\n",
        "# Creation of the train & test datasets #\n",
        "#########################################\n",
        "\n",
        "#Split of dataframes \n",
        "X_train_path, X_test_path, y_train, y_test = train_test_split(df.filepath.values, df.transcription.values, train_size=0.9, random_state=1234)\n",
        "\n",
        "# Creation of dataset_train tensor and preprocessing of images\n",
        "dataset_train = tf.data.Dataset.from_tensor_slices((X_train_path, y_train))\n",
        "dataset_train = dataset_train.shuffle(10000)\\\n",
        "                .map(lambda x, y : [preprocess(x, imgSize, dataAugmentation=True, scale=0.8, isthreshold=True), y])\\\n",
        "                .batch(batch_size, drop_remainder=True)\n",
        "\n",
        "# Creation of dataset_test tensor and preprocessing of images\n",
        "dataset_test = tf.data.Dataset.from_tensor_slices((X_test_path, y_test))\n",
        "dataset_test = dataset_test\\\n",
        "               .map(lambda x, y : [preprocess(x, imgSize, dataAugmentation=True, scale=0.8, isthreshold=True), y])\\\n",
        "               .batch(batch_size, drop_remainder=True)\n",
        "\n",
        "#-----------------------------------------------------------------------------\n",
        "\n",
        "################################################\n",
        "# Iteration on dataset_train                   #\n",
        "# Display of several images from train dataset #\n",
        "################################################\n",
        "\n",
        "X_t, y_t = next(iter(dataset_train))\n",
        "\n",
        "\n",
        "plt.figure(figsize=(15,5))\n",
        "for j, i in enumerate(np.random.randint(low=0, high=len(X_t), size=[6])):\n",
        "    plt.subplot(2,3,j+1)\n",
        "    plt.imshow(X_t[i][...,0], cmap='gray')\n",
        "    plt.title(y_t[i].numpy().decode('utf'))"
      ],
      "metadata": {
        "id": "OS4BUcr4OE-R",
        "outputId": "06d83aef-03a1-4fee-ca80-54955015309c",
        "colab": {
          "base_uri": "https://localhost:8080/",
          "height": 274
        }
      },
      "execution_count": 198,
      "outputs": [
        {
          "output_type": "display_data",
          "data": {
            "text/plain": [
              "<Figure size 1080x360 with 6 Axes>"
            ],
            "image/png": "[encoded data removed]"
          },
          "metadata": {
            "needs_background": "light"
          }
        }
      ]
    },
    {
      "cell_type": "markdown",
      "source": [
        "## Vectorization of the labels"
      ],
      "metadata": {
        "id": "EtznC98Gf-Wl"
      }
    },
    {
      "cell_type": "code",
      "source": [
        "#############\n",
        "# Variables #\n",
        "#############\n",
        "\n",
        "import string\n",
        "#charList = list(string.ascii_lowercase)\n",
        "#charList = list('!\\'.?abcdefghijklmnopqrstuvwxyz')\n",
        "charList = list(' !\"#$%&\\'()*+,-./0123456789:;<=>?@ABCDEFGHIJKLMNOPQRSTUVWXYZ[\\\\]^_`abcdefghijklmnopqrstuvwxyz{|}~')\n",
        "#------------------------------------------------\n",
        "\n",
        "def encode_labels(labels):\n",
        "    table = tf.lookup.StaticHashTable(\n",
        "        tf.lookup.KeyValueTensorInitializer(charList, np.arange(len(charList)), value_dtype=tf.int32),\n",
        "        default_value = 0,\n",
        "        name='chard2id')\n",
        "    return table.lookup(tf.compat.v1.string_split(labels, sep=''))\n",
        "\n",
        "\n",
        "#--------------------------------------------------------------------\n",
        "\n",
        "#######################################\n",
        "# Encoding of the train & test labels #\n",
        "#######################################\n",
        "\n",
        "# Encoding of y_train\n",
        "dataset_train = dataset_train.map(lambda X,y : [X, encode_labels(y)])\n",
        "\n",
        "# Encode of y_test\n",
        "dataset_validation = dataset_test.map(lambda X,y : [X, encode_labels(y)])\n",
        "\n",
        "#--------------------------------------------------------------------\n",
        "\n",
        "##############################\n",
        "# Display of label encoding  #\n",
        "##############################\n",
        "\n",
        "a = encode_labels(y_train[:10])\n",
        "\n",
        "print(y_train[:10])\n",
        "print(tf.sparse.to_dense(a).numpy())\n",
        "\n",
        "x=15\n",
        "a = encode_labels(y_test[x:x+10])\n",
        "\n",
        "print(\"\\n-------------------------------------------\\n\",y_test[x:x+10])\n",
        "\n",
        "print(tf.sparse.to_dense(a).numpy())\n",
        "\n",
        "#------------------------------------------------------------------"
      ],
      "metadata": {
        "id": "cLcrDlS_Pbv0",
        "colab": {
          "base_uri": "https://localhost:8080/"
        },
        "outputId": "10c0fae0-7fac-4a48-e9dd-fa3759105b3d"
      },
      "execution_count": 199,
      "outputs": [
        {
          "output_type": "stream",
          "name": "stdout",
          "text": [
            "['with' 'could' 'princely' 'responsibility' 'some' ',' 'One' 'appeal' 'to'\n",
            " 'in']\n",
            "[[87 73 84 72  0  0  0  0  0  0  0  0  0  0]\n",
            " [67 79 85 76 68  0  0  0  0  0  0  0  0  0]\n",
            " [80 82 73 78 67 69 76 89  0  0  0  0  0  0]\n",
            " [82 69 83 80 79 78 83 73 66 73 76 73 84 89]\n",
            " [83 79 77 69  0  0  0  0  0  0  0  0  0  0]\n",
            " [12  0  0  0  0  0  0  0  0  0  0  0  0  0]\n",
            " [47 78 69  0  0  0  0  0  0  0  0  0  0  0]\n",
            " [65 80 80 69 65 76  0  0  0  0  0  0  0  0]\n",
            " [84 79  0  0  0  0  0  0  0  0  0  0  0  0]\n",
            " [73 78  0  0  0  0  0  0  0  0  0  0  0  0]]\n",
            "\n",
            "-------------------------------------------\n",
            " ['regard' 'defend' 'bathroom' 'Mr.' '.' ',' '.' 'no' 'a' '.']\n",
            "[[82 69 71 65 82 68  0  0]\n",
            " [68 69 70 69 78 68  0  0]\n",
            " [66 65 84 72 82 79 79 77]\n",
            " [45 82 14  0  0  0  0  0]\n",
            " [14  0  0  0  0  0  0  0]\n",
            " [12  0  0  0  0  0  0  0]\n",
            " [14  0  0  0  0  0  0  0]\n",
            " [78 79  0  0  0  0  0  0]\n",
            " [65  0  0  0  0  0  0  0]\n",
            " [14  0  0  0  0  0  0  0]]\n"
          ]
        }
      ]
    },
    {
      "cell_type": "markdown",
      "source": [
        "#Modelisation"
      ],
      "metadata": {
        "id": "4d_b1CYNwSps"
      }
    },
    {
      "cell_type": "markdown",
      "source": [
        "## Model_CRNN_1"
      ],
      "metadata": {
        "id": "sIPromq7Pncu"
      }
    },
    {
      "cell_type": "code",
      "source": [
        "#############\n",
        "# Variables #\n",
        "#############\n",
        "\n",
        "numHidden = 256\n",
        "\n",
        "load_model_var = False\n",
        "name_load_model = \"CRNN_1_2410\"\n",
        "\n",
        "#-------------------------------------------------------------------------\n",
        "from google.colab import drive\n",
        "#########################################################\n",
        "# Definition of a model CRNN taken on DataScienTest OCR #\n",
        "#                           model_CRNN_1                #\n",
        "#########################################################\n",
        "\n",
        "import tensorflow as tf\n",
        "from tensorflow.keras.layers import Conv2D, BatchNormalization, MaxPooling2D, LeakyReLU, Dropout\n",
        "from tensorflow.keras.layers import GRU, Bidirectional, Dense, Lambda\n",
        "\n",
        "\n",
        "def build_model_CRNN_1():\n",
        "  #Create_model_CRNN\n",
        "    model = tf.keras.Sequential()\n",
        "\n",
        "    # Layer 1\n",
        "    model.add(Conv2D(filters=32, kernel_size=(5,5), padding='SAME', input_shape = X_t.shape[1:]))\n",
        "    model.add(BatchNormalization())\n",
        "    model.add(LeakyReLU())\n",
        "    model.add(MaxPooling2D(pool_size=(2,2), strides=(2,2)))\n",
        "\n",
        "    # Layer 2\n",
        "    model.add(Conv2D(filters=64, kernel_size=(5,5), padding='SAME'))\n",
        "    model.add(BatchNormalization())\n",
        "    model.add(LeakyReLU())\n",
        "    model.add(MaxPooling2D(pool_size=(2,2), strides=(2,2)))\n",
        "\n",
        "    # Layer 3\n",
        "    model.add(Conv2D(filters=128, kernel_size=(3,3), padding='SAME'))\n",
        "    model.add(BatchNormalization())\n",
        "    model.add(LeakyReLU())\n",
        "    model.add(MaxPooling2D(pool_size=(2,1), strides=(2,1)))\n",
        "\n",
        "    # Layer 4\n",
        "    model.add(Conv2D(filters=128, kernel_size=(3,3), padding='SAME'))\n",
        "    model.add(BatchNormalization())\n",
        "    model.add(LeakyReLU())\n",
        "    model.add(MaxPooling2D(pool_size=(2,1), strides=(2,1)))\n",
        "\n",
        "    # Layer 5\n",
        "    model.add(Conv2D(filters=256, kernel_size=(3,3), padding='SAME'))\n",
        "    model.add(BatchNormalization())\n",
        "    model.add(LeakyReLU())\n",
        "    model.add(MaxPooling2D(pool_size=(2,1), strides=(2,1)))\n",
        "    model.add(Dropout(0.4))\n",
        "\n",
        "\n",
        "    model.add(Lambda(lambda x :tf.squeeze(x, axis=1)))\n",
        "\n",
        "    # Bidirectionnal RNN\n",
        "    model.add(Bidirectional(GRU(numHidden, return_sequences=True)))\n",
        "    # Classification of characters\n",
        "    model.add(Dense(len(charList)+1))\n",
        "    \n",
        "    return model\n",
        "\n",
        "#---------------------------------------------------------------------------\n",
        "\n",
        "############################\n",
        "# Build of the model CRNN  #\n",
        "#         model_3          #\n",
        "############################\n",
        "\n",
        "\n",
        "\n",
        "\n",
        "\n",
        "model_CRNN_1 = build_model_CRNN_1()\n",
        "model_CRNN_1.summary()\n",
        "\n",
        "\n",
        "#--------------------------------------------------------------------------\n",
        "\n",
        "def load_model(load_model,model,name):\n",
        "  history=None\n",
        "  #------------------------------\n",
        "  if load_model: #Load model weights\n",
        "    drive.mount(\"/drive\",force_remount=True)\n",
        "    model.load_weights(\"/drive/MyDrive/DataScience/OCR/Models/\"+name)\n",
        "    print(\"Model loaded !\")\n",
        "    #----------------------------\n",
        "    try: #Load history\n",
        "      with open(\"/drive/MyDrive/DataScience/OCR/Models/\"+name+\"training_history\", \"rb\") as file_pi:\n",
        "        history = pickle.load(file_pi)\n",
        "        print(\"History loaded !\")\n",
        "    except:\n",
        "      print(\"History not loaded !\")\n",
        "\n",
        "  #--------------------------------\n",
        "  else:\n",
        "    print(\"Model not loaded !\")\n",
        "\n",
        "  return model,history\n",
        "\n",
        "\n",
        "model_CRNN_1,training_history=load_model(load_model_var,model_CRNN_1,name_load_model)"
      ],
      "metadata": {
        "id": "cz1nUiqCPtpA",
        "outputId": "bc26d9b4-f82d-4f25-9805-7ad1287c9a2a",
        "colab": {
          "base_uri": "https://localhost:8080/"
        }
      },
      "execution_count": 200,
      "outputs": [
        {
          "output_type": "stream",
          "name": "stdout",
          "text": [
            "Model: \"sequential_8\"\n",
            "_________________________________________________________________\n",
            " Layer (type)                Output Shape              Param #   \n",
            "=================================================================\n",
            " conv2d_40 (Conv2D)          (None, 32, 128, 32)       832       \n",
            "                                                                 \n",
            " batch_normalization_40 (Bat  (None, 32, 128, 32)      128       \n",
            " chNormalization)                                                \n",
            "                                                                 \n",
            " leaky_re_lu_40 (LeakyReLU)  (None, 32, 128, 32)       0         \n",
            "                                                                 \n",
            " max_pooling2d_40 (MaxPoolin  (None, 16, 64, 32)       0         \n",
            " g2D)                                                            \n",
            "                                                                 \n",
            " conv2d_41 (Conv2D)          (None, 16, 64, 64)        51264     \n",
            "                                                                 \n",
            " batch_normalization_41 (Bat  (None, 16, 64, 64)       256       \n",
            " chNormalization)                                                \n",
            "                                                                 \n",
            " leaky_re_lu_41 (LeakyReLU)  (None, 16, 64, 64)        0         \n",
            "                                                                 \n",
            " max_pooling2d_41 (MaxPoolin  (None, 8, 32, 64)        0         \n",
            " g2D)                                                            \n",
            "                                                                 \n",
            " conv2d_42 (Conv2D)          (None, 8, 32, 128)        73856     \n",
            "                                                                 \n",
            " batch_normalization_42 (Bat  (None, 8, 32, 128)       512       \n",
            " chNormalization)                                                \n",
            "                                                                 \n",
            " leaky_re_lu_42 (LeakyReLU)  (None, 8, 32, 128)        0         \n",
            "                                                                 \n",
            " max_pooling2d_42 (MaxPoolin  (None, 4, 32, 128)       0         \n",
            " g2D)                                                            \n",
            "                                                                 \n",
            " conv2d_43 (Conv2D)          (None, 4, 32, 128)        147584    \n",
            "                                                                 \n",
            " batch_normalization_43 (Bat  (None, 4, 32, 128)       512       \n",
            " chNormalization)                                                \n",
            "                                                                 \n",
            " leaky_re_lu_43 (LeakyReLU)  (None, 4, 32, 128)        0         \n",
            "                                                                 \n",
            " max_pooling2d_43 (MaxPoolin  (None, 2, 32, 128)       0         \n",
            " g2D)                                                            \n",
            "                                                                 \n",
            " conv2d_44 (Conv2D)          (None, 2, 32, 256)        295168    \n",
            "                                                                 \n",
            " batch_normalization_44 (Bat  (None, 2, 32, 256)       1024      \n",
            " chNormalization)                                                \n",
            "                                                                 \n",
            " leaky_re_lu_44 (LeakyReLU)  (None, 2, 32, 256)        0         \n",
            "                                                                 \n",
            " max_pooling2d_44 (MaxPoolin  (None, 1, 32, 256)       0         \n",
            " g2D)                                                            \n",
            "                                                                 \n",
            " dropout_8 (Dropout)         (None, 1, 32, 256)        0         \n",
            "                                                                 \n",
            " lambda_8 (Lambda)           (None, 32, 256)           0         \n",
            "                                                                 \n",
            " bidirectional_8 (Bidirectio  (None, 32, 512)          789504    \n",
            " nal)                                                            \n",
            "                                                                 \n",
            " dense_8 (Dense)             (None, 32, 96)            49248     \n",
            "                                                                 \n",
            "=================================================================\n",
            "Total params: 1,409,888\n",
            "Trainable params: 1,408,672\n",
            "Non-trainable params: 1,216\n",
            "_________________________________________________________________\n",
            "Model not loaded !\n"
          ]
        }
      ]
    },
    {
      "cell_type": "markdown",
      "source": [
        "#Compilation and creation of loss function"
      ],
      "metadata": {
        "id": "TSQ20YVBwZSt"
      }
    },
    {
      "cell_type": "markdown",
      "source": [
        "###Model_CRNN_1"
      ],
      "metadata": {
        "id": "PujbUbKyQGMw"
      }
    },
    {
      "cell_type": "code",
      "source": [
        "#########################################\n",
        "# Definition of a loss function for CTC #\n",
        "#########################################\n",
        "\n",
        "#Loss function for CTC\n",
        "def loss(labels, logits):\n",
        "    return tf.reduce_mean(tf.nn.ctc_loss(\n",
        "        labels = labels,\n",
        "        logits = logits,\n",
        "        logit_length = [logits.shape[1]]*logits.shape[0],\n",
        "        label_length = None,\n",
        "        logits_time_major = False,\n",
        "        blank_index=-1))\n",
        "\n",
        "#----------------------------------------------------------\n",
        "\n",
        "######################################################\n",
        "# Compilation of model_3 with Adam and Loss function #\n",
        "######################################################\n",
        "from tensorflow.keras.optimizers import Adam\n",
        "\n",
        "model_CRNN_1.compile(optimizer=Adam(1e-3),loss=loss)\n",
        "\n",
        "#------------------------------------------------------------"
      ],
      "metadata": {
        "id": "YDlUnu2CQH3D"
      },
      "execution_count": 201,
      "outputs": []
    },
    {
      "cell_type": "markdown",
      "source": [
        "#Training"
      ],
      "metadata": {
        "id": "KASxMI-Rwr1w"
      }
    },
    {
      "cell_type": "markdown",
      "source": [
        "###Model_2\n"
      ],
      "metadata": {
        "id": "9rXsh7PWgYlK"
      }
    },
    {
      "cell_type": "code",
      "source": [
        "data_ds = dataset_train.map(lambda X,y:{\"image\":X,\"label\":y})"
      ],
      "metadata": {
        "id": "6l2gZB5wgame"
      },
      "execution_count": null,
      "outputs": []
    },
    {
      "cell_type": "code",
      "source": [
        "import tensorflow.keras as keras\n",
        "\n",
        "class CTCLayer(keras.layers.Layer):\n",
        "    def __init__(self, name=None):\n",
        "        super().__init__(name=name)\n",
        "        self.loss_fn = keras.backend.ctc_batch_cost\n",
        "\n",
        "    def call(self, y_true, y_pred):\n",
        "        batch_len = tf.cast(tf.shape(y_true)[0], dtype=\"int64\")\n",
        "        input_length = tf.cast(tf.shape(y_pred)[1], dtype=\"int64\")\n",
        "        label_length = tf.cast(tf.shape(y_true)[1], dtype=\"int64\")\n",
        "\n",
        "        input_length = input_length * tf.ones(shape=(batch_len, 1), dtype=\"int64\")\n",
        "        label_length = label_length * tf.ones(shape=(batch_len, 1), dtype=\"int64\")\n",
        "        loss = self.loss_fn(y_true, y_pred, input_length, label_length)\n",
        "        self.add_loss(loss)\n",
        "\n",
        "        # At test time, just return the computed predictions.\n",
        "        return y_pred\n",
        "\n",
        "\n",
        "def build_model():\n",
        "    image_width=128\n",
        "    image_height=32\n",
        "    # Inputs to the model\n",
        "    input_img = keras.Input(shape=(128, 32, 1), name=\"image\")\n",
        "    labels = keras.layers.Input(name=\"label\", shape=(None,))\n",
        "\n",
        "    # First conv block.\n",
        "    x = keras.layers.Conv2D(\n",
        "        32,\n",
        "        (3, 3),\n",
        "        activation=\"relu\",\n",
        "        kernel_initializer=\"he_normal\",\n",
        "        padding=\"same\",\n",
        "        name=\"Conv1\",\n",
        "    )(input_img)\n",
        "    x = keras.layers.MaxPooling2D((2, 2), name=\"pool1\")(x)\n",
        "\n",
        "    # Second conv block.\n",
        "    x = keras.layers.Conv2D(\n",
        "        64,\n",
        "        (3, 3),\n",
        "        activation=\"relu\",\n",
        "        kernel_initializer=\"he_normal\",\n",
        "        padding=\"same\",\n",
        "        name=\"Conv2\",\n",
        "    )(x)\n",
        "    x = keras.layers.MaxPooling2D((2, 2), name=\"pool2\")(x)\n",
        "\n",
        "    # We have used two max pool with pool size and strides 2.\n",
        "    # Hence, downsampled feature maps are 4x smaller. The number of\n",
        "    # filters in the last layer is 64. Reshape accordingly before\n",
        "    # passing the output to the RNN part of the model.\n",
        "    new_shape = ((image_width // 4), (image_height // 4) * 64)\n",
        "    x = keras.layers.Reshape(target_shape=new_shape, name=\"reshape\")(x)\n",
        "    x = keras.layers.Dense(64, activation=\"relu\", name=\"dense1\")(x)\n",
        "    x = keras.layers.Dropout(0.2)(x)\n",
        "\n",
        "    # RNNs.\n",
        "    x = keras.layers.Bidirectional(\n",
        "        keras.layers.LSTM(128, return_sequences=True, dropout=0.25)\n",
        "    )(x)\n",
        "    x = keras.layers.Bidirectional(\n",
        "        keras.layers.LSTM(64, return_sequences=True, dropout=0.25)\n",
        "    )(x)\n",
        "\n",
        "    # +2 is to account for the two special tokens introduced by the CTC loss.\n",
        "    # The recommendation comes here: https://git.io/J0eXP.\n",
        "    x = keras.layers.Dense(\n",
        "        len(charList) + 2, activation=\"softmax\", name=\"dense2\"\n",
        "    )(x)\n",
        "\n",
        "    # Add CTC layer for calculating CTC loss at each step.\n",
        "    output = CTCLayer(name=\"ctc_loss\")(labels, x)\n",
        "\n",
        "    # Define the model.\n",
        "    model = keras.models.Model(\n",
        "        inputs=[input_img, labels], outputs=output, name=\"handwriting_recognizer\"\n",
        "    )\n",
        "    # Optimizer.\n",
        "    opt = keras.optimizers.Adam()\n",
        "    # Compile the model and return.\n",
        "    model.compile(optimizer=opt)\n",
        "    return model\n",
        "\n",
        "\n",
        "# Get the model.\n",
        "model = build_model()\n",
        "model.summary()"
      ],
      "metadata": {
        "colab": {
          "base_uri": "https://localhost:8080/"
        },
        "id": "03AnD3wKhCq_",
        "outputId": "ee06b950-4b74-40a8-cba7-448948abc81f"
      },
      "execution_count": null,
      "outputs": [
        {
          "output_type": "stream",
          "name": "stdout",
          "text": [
            "Model: \"handwriting_recognizer\"\n",
            "__________________________________________________________________________________________________\n",
            " Layer (type)                   Output Shape         Param #     Connected to                     \n",
            "==================================================================================================\n",
            " image (InputLayer)             [(None, 128, 32, 1)  0           []                               \n",
            "                                ]                                                                 \n",
            "                                                                                                  \n",
            " Conv1 (Conv2D)                 (None, 128, 32, 32)  320         ['image[0][0]']                  \n",
            "                                                                                                  \n",
            " pool1 (MaxPooling2D)           (None, 64, 16, 32)   0           ['Conv1[0][0]']                  \n",
            "                                                                                                  \n",
            " Conv2 (Conv2D)                 (None, 64, 16, 64)   18496       ['pool1[0][0]']                  \n",
            "                                                                                                  \n",
            " pool2 (MaxPooling2D)           (None, 32, 8, 64)    0           ['Conv2[0][0]']                  \n",
            "                                                                                                  \n",
            " reshape (Reshape)              (None, 32, 512)      0           ['pool2[0][0]']                  \n",
            "                                                                                                  \n",
            " dense1 (Dense)                 (None, 32, 64)       32832       ['reshape[0][0]']                \n",
            "                                                                                                  \n",
            " dropout_1 (Dropout)            (None, 32, 64)       0           ['dense1[0][0]']                 \n",
            "                                                                                                  \n",
            " bidirectional_2 (Bidirectional  (None, 32, 256)     197632      ['dropout_1[0][0]']              \n",
            " )                                                                                                \n",
            "                                                                                                  \n",
            " bidirectional_3 (Bidirectional  (None, 32, 128)     164352      ['bidirectional_2[0][0]']        \n",
            " )                                                                                                \n",
            "                                                                                                  \n",
            " label (InputLayer)             [(None, None)]       0           []                               \n",
            "                                                                                                  \n",
            " dense2 (Dense)                 (None, 32, 28)       3612        ['bidirectional_3[0][0]']        \n",
            "                                                                                                  \n",
            " ctc_loss (CTCLayer)            (None, 32, 28)       0           ['label[0][0]',                  \n",
            "                                                                  'dense2[0][0]']                 \n",
            "                                                                                                  \n",
            "==================================================================================================\n",
            "Total params: 417,244\n",
            "Trainable params: 417,244\n",
            "Non-trainable params: 0\n",
            "__________________________________________________________________________________________________\n"
          ]
        }
      ]
    },
    {
      "cell_type": "code",
      "source": [
        "epochs = 10  # To get good results this should be at least 50.\n",
        "\n",
        "model = build_model()\n",
        "prediction_model = keras.models.Model(\n",
        "    model.get_layer(name=\"image\").input, model.get_layer(name=\"dense2\").output\n",
        ")\n",
        "#edit_distance_callback = EditDistanceCallback(prediction_model)\n",
        "\n",
        "# Train the model.\n",
        "history = model.fit(\n",
        "    data_ds,\n",
        "    \n",
        "    epochs=epochs,\n",
        "    \n",
        ")"
      ],
      "metadata": {
        "colab": {
          "base_uri": "https://localhost:8080/",
          "height": 1000
        },
        "id": "yUeabesUgajR",
        "outputId": "26099b66-f854-4547-df43-2350cf32c800"
      },
      "execution_count": null,
      "outputs": [
        {
          "output_type": "stream",
          "name": "stdout",
          "text": [
            "Epoch 1/10\n"
          ]
        },
        {
          "output_type": "error",
          "ename": "TypeError",
          "evalue": "ignored",
          "traceback": [
            "\u001b[0;31m---------------------------------------------------------------------------\u001b[0m",
            "\u001b[0;31mTypeError\u001b[0m                                 Traceback (most recent call last)",
            "\u001b[0;32m<ipython-input-18-8a9f59b497ca>\u001b[0m in \u001b[0;36m<module>\u001b[0;34m\u001b[0m\n\u001b[1;32m     11\u001b[0m     \u001b[0mdata_ds\u001b[0m\u001b[0;34m,\u001b[0m\u001b[0;34m\u001b[0m\u001b[0;34m\u001b[0m\u001b[0m\n\u001b[1;32m     12\u001b[0m \u001b[0;34m\u001b[0m\u001b[0m\n\u001b[0;32m---> 13\u001b[0;31m     \u001b[0mepochs\u001b[0m\u001b[0;34m=\u001b[0m\u001b[0mepochs\u001b[0m\u001b[0;34m,\u001b[0m\u001b[0;34m\u001b[0m\u001b[0;34m\u001b[0m\u001b[0m\n\u001b[0m\u001b[1;32m     14\u001b[0m \u001b[0;34m\u001b[0m\u001b[0m\n\u001b[1;32m     15\u001b[0m )\n",
            "\u001b[0;32m/usr/local/lib/python3.7/dist-packages/keras/utils/traceback_utils.py\u001b[0m in \u001b[0;36merror_handler\u001b[0;34m(*args, **kwargs)\u001b[0m\n\u001b[1;32m     65\u001b[0m     \u001b[0;32mexcept\u001b[0m \u001b[0mException\u001b[0m \u001b[0;32mas\u001b[0m \u001b[0me\u001b[0m\u001b[0;34m:\u001b[0m  \u001b[0;31m# pylint: disable=broad-except\u001b[0m\u001b[0;34m\u001b[0m\u001b[0;34m\u001b[0m\u001b[0m\n\u001b[1;32m     66\u001b[0m       \u001b[0mfiltered_tb\u001b[0m \u001b[0;34m=\u001b[0m \u001b[0m_process_traceback_frames\u001b[0m\u001b[0;34m(\u001b[0m\u001b[0me\u001b[0m\u001b[0;34m.\u001b[0m\u001b[0m__traceback__\u001b[0m\u001b[0;34m)\u001b[0m\u001b[0;34m\u001b[0m\u001b[0;34m\u001b[0m\u001b[0m\n\u001b[0;32m---> 67\u001b[0;31m       \u001b[0;32mraise\u001b[0m \u001b[0me\u001b[0m\u001b[0;34m.\u001b[0m\u001b[0mwith_traceback\u001b[0m\u001b[0;34m(\u001b[0m\u001b[0mfiltered_tb\u001b[0m\u001b[0;34m)\u001b[0m \u001b[0;32mfrom\u001b[0m \u001b[0;32mNone\u001b[0m\u001b[0;34m\u001b[0m\u001b[0;34m\u001b[0m\u001b[0m\n\u001b[0m\u001b[1;32m     68\u001b[0m     \u001b[0;32mfinally\u001b[0m\u001b[0;34m:\u001b[0m\u001b[0;34m\u001b[0m\u001b[0;34m\u001b[0m\u001b[0m\n\u001b[1;32m     69\u001b[0m       \u001b[0;32mdel\u001b[0m \u001b[0mfiltered_tb\u001b[0m\u001b[0;34m\u001b[0m\u001b[0;34m\u001b[0m\u001b[0m\n",
            "\u001b[0;32m/usr/local/lib/python3.7/dist-packages/keras/engine/training.py\u001b[0m in \u001b[0;36mtf__train_function\u001b[0;34m(iterator)\u001b[0m\n\u001b[1;32m     13\u001b[0m                 \u001b[0;32mtry\u001b[0m\u001b[0;34m:\u001b[0m\u001b[0;34m\u001b[0m\u001b[0;34m\u001b[0m\u001b[0m\n\u001b[1;32m     14\u001b[0m                     \u001b[0mdo_return\u001b[0m \u001b[0;34m=\u001b[0m \u001b[0;32mTrue\u001b[0m\u001b[0;34m\u001b[0m\u001b[0;34m\u001b[0m\u001b[0m\n\u001b[0;32m---> 15\u001b[0;31m                     \u001b[0mretval_\u001b[0m \u001b[0;34m=\u001b[0m \u001b[0mag__\u001b[0m\u001b[0;34m.\u001b[0m\u001b[0mconverted_call\u001b[0m\u001b[0;34m(\u001b[0m\u001b[0mag__\u001b[0m\u001b[0;34m.\u001b[0m\u001b[0mld\u001b[0m\u001b[0;34m(\u001b[0m\u001b[0mstep_function\u001b[0m\u001b[0;34m)\u001b[0m\u001b[0;34m,\u001b[0m \u001b[0;34m(\u001b[0m\u001b[0mag__\u001b[0m\u001b[0;34m.\u001b[0m\u001b[0mld\u001b[0m\u001b[0;34m(\u001b[0m\u001b[0mself\u001b[0m\u001b[0;34m)\u001b[0m\u001b[0;34m,\u001b[0m \u001b[0mag__\u001b[0m\u001b[0;34m.\u001b[0m\u001b[0mld\u001b[0m\u001b[0;34m(\u001b[0m\u001b[0miterator\u001b[0m\u001b[0;34m)\u001b[0m\u001b[0;34m)\u001b[0m\u001b[0;34m,\u001b[0m \u001b[0;32mNone\u001b[0m\u001b[0;34m,\u001b[0m \u001b[0mfscope\u001b[0m\u001b[0;34m)\u001b[0m\u001b[0;34m\u001b[0m\u001b[0;34m\u001b[0m\u001b[0m\n\u001b[0m\u001b[1;32m     16\u001b[0m                 \u001b[0;32mexcept\u001b[0m\u001b[0;34m:\u001b[0m\u001b[0;34m\u001b[0m\u001b[0;34m\u001b[0m\u001b[0m\n\u001b[1;32m     17\u001b[0m                     \u001b[0mdo_return\u001b[0m \u001b[0;34m=\u001b[0m \u001b[0;32mFalse\u001b[0m\u001b[0;34m\u001b[0m\u001b[0;34m\u001b[0m\u001b[0m\n",
            "\u001b[0;32m/tmp/__autograph_generated_fileqse2rnun.py\u001b[0m in \u001b[0;36mtf__call\u001b[0;34m(self, y_true, y_pred)\u001b[0m\n\u001b[1;32m     13\u001b[0m                 \u001b[0minput_length\u001b[0m \u001b[0;34m=\u001b[0m \u001b[0;34m(\u001b[0m\u001b[0mag__\u001b[0m\u001b[0;34m.\u001b[0m\u001b[0mld\u001b[0m\u001b[0;34m(\u001b[0m\u001b[0minput_length\u001b[0m\u001b[0;34m)\u001b[0m \u001b[0;34m*\u001b[0m \u001b[0mag__\u001b[0m\u001b[0;34m.\u001b[0m\u001b[0mconverted_call\u001b[0m\u001b[0;34m(\u001b[0m\u001b[0mag__\u001b[0m\u001b[0;34m.\u001b[0m\u001b[0mld\u001b[0m\u001b[0;34m(\u001b[0m\u001b[0mtf\u001b[0m\u001b[0;34m)\u001b[0m\u001b[0;34m.\u001b[0m\u001b[0mones\u001b[0m\u001b[0;34m,\u001b[0m \u001b[0;34m(\u001b[0m\u001b[0;34m)\u001b[0m\u001b[0;34m,\u001b[0m \u001b[0mdict\u001b[0m\u001b[0;34m(\u001b[0m\u001b[0mshape\u001b[0m\u001b[0;34m=\u001b[0m\u001b[0;34m(\u001b[0m\u001b[0mag__\u001b[0m\u001b[0;34m.\u001b[0m\u001b[0mld\u001b[0m\u001b[0;34m(\u001b[0m\u001b[0mbatch_len\u001b[0m\u001b[0;34m)\u001b[0m\u001b[0;34m,\u001b[0m \u001b[0;36m1\u001b[0m\u001b[0;34m)\u001b[0m\u001b[0;34m,\u001b[0m \u001b[0mdtype\u001b[0m\u001b[0;34m=\u001b[0m\u001b[0;34m'int64'\u001b[0m\u001b[0;34m)\u001b[0m\u001b[0;34m,\u001b[0m \u001b[0mfscope\u001b[0m\u001b[0;34m)\u001b[0m\u001b[0;34m)\u001b[0m\u001b[0;34m\u001b[0m\u001b[0;34m\u001b[0m\u001b[0m\n\u001b[1;32m     14\u001b[0m                 \u001b[0mlabel_length\u001b[0m \u001b[0;34m=\u001b[0m \u001b[0;34m(\u001b[0m\u001b[0mag__\u001b[0m\u001b[0;34m.\u001b[0m\u001b[0mld\u001b[0m\u001b[0;34m(\u001b[0m\u001b[0mlabel_length\u001b[0m\u001b[0;34m)\u001b[0m \u001b[0;34m*\u001b[0m \u001b[0mag__\u001b[0m\u001b[0;34m.\u001b[0m\u001b[0mconverted_call\u001b[0m\u001b[0;34m(\u001b[0m\u001b[0mag__\u001b[0m\u001b[0;34m.\u001b[0m\u001b[0mld\u001b[0m\u001b[0;34m(\u001b[0m\u001b[0mtf\u001b[0m\u001b[0;34m)\u001b[0m\u001b[0;34m.\u001b[0m\u001b[0mones\u001b[0m\u001b[0;34m,\u001b[0m \u001b[0;34m(\u001b[0m\u001b[0;34m)\u001b[0m\u001b[0;34m,\u001b[0m \u001b[0mdict\u001b[0m\u001b[0;34m(\u001b[0m\u001b[0mshape\u001b[0m\u001b[0;34m=\u001b[0m\u001b[0;34m(\u001b[0m\u001b[0mag__\u001b[0m\u001b[0;34m.\u001b[0m\u001b[0mld\u001b[0m\u001b[0;34m(\u001b[0m\u001b[0mbatch_len\u001b[0m\u001b[0;34m)\u001b[0m\u001b[0;34m,\u001b[0m \u001b[0;36m1\u001b[0m\u001b[0;34m)\u001b[0m\u001b[0;34m,\u001b[0m \u001b[0mdtype\u001b[0m\u001b[0;34m=\u001b[0m\u001b[0;34m'int64'\u001b[0m\u001b[0;34m)\u001b[0m\u001b[0;34m,\u001b[0m \u001b[0mfscope\u001b[0m\u001b[0;34m)\u001b[0m\u001b[0;34m)\u001b[0m\u001b[0;34m\u001b[0m\u001b[0;34m\u001b[0m\u001b[0m\n\u001b[0;32m---> 15\u001b[0;31m                 \u001b[0mloss\u001b[0m \u001b[0;34m=\u001b[0m \u001b[0mag__\u001b[0m\u001b[0;34m.\u001b[0m\u001b[0mconverted_call\u001b[0m\u001b[0;34m(\u001b[0m\u001b[0mag__\u001b[0m\u001b[0;34m.\u001b[0m\u001b[0mld\u001b[0m\u001b[0;34m(\u001b[0m\u001b[0mself\u001b[0m\u001b[0;34m)\u001b[0m\u001b[0;34m.\u001b[0m\u001b[0mloss_fn\u001b[0m\u001b[0;34m,\u001b[0m \u001b[0;34m(\u001b[0m\u001b[0mag__\u001b[0m\u001b[0;34m.\u001b[0m\u001b[0mld\u001b[0m\u001b[0;34m(\u001b[0m\u001b[0my_true\u001b[0m\u001b[0;34m)\u001b[0m\u001b[0;34m,\u001b[0m \u001b[0mag__\u001b[0m\u001b[0;34m.\u001b[0m\u001b[0mld\u001b[0m\u001b[0;34m(\u001b[0m\u001b[0my_pred\u001b[0m\u001b[0;34m)\u001b[0m\u001b[0;34m,\u001b[0m \u001b[0mag__\u001b[0m\u001b[0;34m.\u001b[0m\u001b[0mld\u001b[0m\u001b[0;34m(\u001b[0m\u001b[0minput_length\u001b[0m\u001b[0;34m)\u001b[0m\u001b[0;34m,\u001b[0m \u001b[0mag__\u001b[0m\u001b[0;34m.\u001b[0m\u001b[0mld\u001b[0m\u001b[0;34m(\u001b[0m\u001b[0mlabel_length\u001b[0m\u001b[0;34m)\u001b[0m\u001b[0;34m)\u001b[0m\u001b[0;34m,\u001b[0m \u001b[0;32mNone\u001b[0m\u001b[0;34m,\u001b[0m \u001b[0mfscope\u001b[0m\u001b[0;34m)\u001b[0m\u001b[0;34m\u001b[0m\u001b[0;34m\u001b[0m\u001b[0m\n\u001b[0m\u001b[1;32m     16\u001b[0m                 \u001b[0mag__\u001b[0m\u001b[0;34m.\u001b[0m\u001b[0mconverted_call\u001b[0m\u001b[0;34m(\u001b[0m\u001b[0mag__\u001b[0m\u001b[0;34m.\u001b[0m\u001b[0mld\u001b[0m\u001b[0;34m(\u001b[0m\u001b[0mself\u001b[0m\u001b[0;34m)\u001b[0m\u001b[0;34m.\u001b[0m\u001b[0madd_loss\u001b[0m\u001b[0;34m,\u001b[0m \u001b[0;34m(\u001b[0m\u001b[0mag__\u001b[0m\u001b[0;34m.\u001b[0m\u001b[0mld\u001b[0m\u001b[0;34m(\u001b[0m\u001b[0mloss\u001b[0m\u001b[0;34m)\u001b[0m\u001b[0;34m,\u001b[0m\u001b[0;34m)\u001b[0m\u001b[0;34m,\u001b[0m \u001b[0;32mNone\u001b[0m\u001b[0;34m,\u001b[0m \u001b[0mfscope\u001b[0m\u001b[0;34m)\u001b[0m\u001b[0;34m\u001b[0m\u001b[0;34m\u001b[0m\u001b[0m\n\u001b[1;32m     17\u001b[0m                 \u001b[0;32mtry\u001b[0m\u001b[0;34m:\u001b[0m\u001b[0;34m\u001b[0m\u001b[0;34m\u001b[0m\u001b[0m\n",
            "\u001b[0;31mTypeError\u001b[0m: in user code:\n\n    File \"/usr/local/lib/python3.7/dist-packages/keras/engine/training.py\", line 1051, in train_function  *\n        return step_function(self, iterator)\n    File \"/usr/local/lib/python3.7/dist-packages/keras/engine/training.py\", line 1040, in step_function  **\n        outputs = model.distribute_strategy.run(run_step, args=(data,))\n    File \"/usr/local/lib/python3.7/dist-packages/keras/engine/training.py\", line 1030, in run_step  **\n        outputs = model.train_step(data)\n    File \"/usr/local/lib/python3.7/dist-packages/keras/engine/training.py\", line 889, in train_step\n        y_pred = self(x, training=True)\n    File \"/usr/local/lib/python3.7/dist-packages/keras/utils/traceback_utils.py\", line 67, in error_handler\n        raise e.with_traceback(filtered_tb) from None\n    File \"/tmp/__autograph_generated_fileqse2rnun.py\", line 15, in tf__call\n        loss = ag__.converted_call(ag__.ld(self).loss_fn, (ag__.ld(y_true), ag__.ld(y_pred), ag__.ld(input_length), ag__.ld(label_length)), None, fscope)\n\n    TypeError: Exception encountered when calling layer \"ctc_loss\" (type CTCLayer).\n    \n    in user code:\n    \n        File \"<ipython-input-16-8a99698d6d39>\", line 15, in call  *\n            loss = self.loss_fn(y_true, y_pred, input_length, label_length)\n        File \"/usr/local/lib/python3.7/dist-packages/keras/backend.py\", line 6619, in ctc_batch_cost\n            ctc_label_dense_to_sparse(y_true, label_length), tf.int32)\n        File \"/usr/local/lib/python3.7/dist-packages/keras/backend.py\", line 6587, in ctc_label_dense_to_sparse\n            vals_sparse = tf.compat.v1.gather_nd(labels, indices)\n    \n        TypeError: Failed to convert elements of SparseTensor(indices=Tensor(\"DeserializeSparse:0\", shape=(None, 2), dtype=int64), values=Tensor(\"handwriting_recognizer/Cast:0\", shape=(None,), dtype=float32), dense_shape=Tensor(\"DeserializeSparse:2\", shape=(2,), dtype=int64)) to Tensor. Consider casting elements to a supported type. See https://www.tensorflow.org/api_docs/python/tf/dtypes for supported TF dtypes.\n    \n    \n    Call arguments received by layer \"ctc_loss\" (type CTCLayer):\n      • y_true=<tensorflow.python.framework.sparse_tensor.SparseTensor object at 0x7f480dc34d90>\n      • y_pred=tf.Tensor(shape=(128, 32, 28), dtype=float32)\n"
          ]
        }
      ]
    },
    {
      "cell_type": "markdown",
      "source": [
        "###Model_CRNN"
      ],
      "metadata": {
        "id": "_olz0nqLQaw1"
      }
    },
    {
      "cell_type": "code",
      "source": [
        "#############\n",
        "# Variables #\n",
        "#############\n",
        "\n",
        "save_model_var=True\n",
        "epochs = 20\n",
        "name_model = \"CRNN_2_2410\"\n",
        "\n",
        "#---------------------------------------------------\n",
        "from google.colab import drive\n",
        "import pickle\n",
        "#########################\n",
        "# Training of the model #\n",
        "#########################\n",
        "\n",
        "#Training of model 3\n",
        "training_history=model_CRNN_1.fit(dataset_train,epochs=epochs, validation_data=dataset_validation)\n",
        "\n",
        "#---------------------------------------------------------\n",
        "#########################\n",
        "# Saving of the model   #\n",
        "#########################\n",
        "\n",
        "def save_model(save_model,model,name,training_hist=None):\n",
        "  drive.mount(\"/drive\",force_remount=True)\n",
        "  if save_model:\n",
        "    model.save_weights(\"/drive/MyDrive/DataScience/OCR/Models/\"+name)\n",
        "    print(\"Model saved !\")\n",
        "    if training_hist != None:\n",
        "      with open(\"/drive/MyDrive/DataScience/OCR/Models/\"+name+\"_training_history\", 'wb') as file_pi:\n",
        "        pickle.dump(training_history.history, file_pi)\n",
        "        print(\"History saved !\")\n",
        "  else:\n",
        "    print(\"Model not saved !\")\n",
        "\n",
        "save_model(save_model_var, model_CRNN_1,name_model,training_history)"
      ],
      "metadata": {
        "id": "aAvh8CToQc5C",
        "outputId": "b94870ef-b189-48f7-92c7-0c7191d42eaa",
        "colab": {
          "base_uri": "https://localhost:8080/"
        }
      },
      "execution_count": 202,
      "outputs": [
        {
          "output_type": "stream",
          "name": "stdout",
          "text": [
            "Epoch 1/20\n",
            "678/678 [==============================] - 56s 79ms/step - loss: 12.0165 - val_loss: 15.6506\n",
            "Epoch 2/20\n",
            "678/678 [==============================] - 49s 72ms/step - loss: 6.4024 - val_loss: 6.6618\n",
            "Epoch 3/20\n",
            "678/678 [==============================] - 50s 73ms/step - loss: 4.1486 - val_loss: 3.5105\n",
            "Epoch 4/20\n",
            "678/678 [==============================] - 49s 72ms/step - loss: 3.3695 - val_loss: 3.0873\n",
            "Epoch 5/20\n",
            "678/678 [==============================] - 50s 74ms/step - loss: 2.8958 - val_loss: 3.1933\n",
            "Epoch 6/20\n",
            "678/678 [==============================] - 53s 77ms/step - loss: 2.6298 - val_loss: 2.8064\n",
            "Epoch 7/20\n",
            "678/678 [==============================] - 49s 73ms/step - loss: 2.3880 - val_loss: 2.8780\n",
            "Epoch 8/20\n",
            "678/678 [==============================] - 50s 73ms/step - loss: 2.2437 - val_loss: 2.3025\n",
            "Epoch 9/20\n",
            "678/678 [==============================] - 50s 73ms/step - loss: 2.0981 - val_loss: 2.5998\n",
            "Epoch 10/20\n",
            "678/678 [==============================] - 50s 73ms/step - loss: 1.9654 - val_loss: 2.1700\n",
            "Epoch 11/20\n",
            "678/678 [==============================] - 50s 73ms/step - loss: 1.8527 - val_loss: 2.0483\n",
            "Epoch 12/20\n",
            "678/678 [==============================] - 50s 74ms/step - loss: 1.7683 - val_loss: 2.3228\n",
            "Epoch 13/20\n",
            "678/678 [==============================] - 52s 77ms/step - loss: 1.7008 - val_loss: 2.2477\n",
            "Epoch 14/20\n",
            "678/678 [==============================] - 50s 73ms/step - loss: 1.6472 - val_loss: 2.1072\n",
            "Epoch 15/20\n",
            "678/678 [==============================] - 49s 73ms/step - loss: 1.5454 - val_loss: 2.0068\n",
            "Epoch 16/20\n",
            "678/678 [==============================] - 49s 73ms/step - loss: 1.5124 - val_loss: 1.8879\n",
            "Epoch 17/20\n",
            "678/678 [==============================] - 49s 73ms/step - loss: 1.4469 - val_loss: 1.9457\n",
            "Epoch 18/20\n",
            "678/678 [==============================] - 50s 73ms/step - loss: 1.4018 - val_loss: 1.8878\n",
            "Epoch 19/20\n",
            "678/678 [==============================] - 50s 73ms/step - loss: 1.3595 - val_loss: 1.8610\n",
            "Epoch 20/20\n",
            "678/678 [==============================] - 49s 72ms/step - loss: 1.3199 - val_loss: 2.1195\n",
            "Mounted at /drive\n",
            "Model saved !\n",
            "History saved !\n"
          ]
        }
      ]
    },
    {
      "cell_type": "code",
      "source": [
        "#############\n",
        "# Variables #\n",
        "#############\n",
        "\n",
        "history= training_history.history\n",
        "\n",
        "#-------------------------------------\n",
        "################################\n",
        "# Display of Training history  #\n",
        "################################\n",
        "\n",
        "plt.figure(figsize=(10,10))\n",
        "\n",
        "plt.plot(history[\"loss\"],label=\"Loss\")\n",
        "plt.plot(history[\"val_loss\"],label=\"Val_loss\")\n",
        "\n",
        "plt.legend()\n",
        "plt.xticks(np.arange(0,20,1));\n",
        "\n",
        "plt.xlim([0,19]);\n",
        "plt.grid()\n",
        "plt.xlabel(\"Epochs\")\n",
        "plt.ylabel(\"Loss value\");\n",
        "plt.title(\"Training history\");"
      ],
      "metadata": {
        "colab": {
          "base_uri": "https://localhost:8080/",
          "height": 621
        },
        "id": "-gZB6YjoJyUk",
        "outputId": "9c420b38-b67e-4a8f-bf76-cc42054c23d7"
      },
      "execution_count": 207,
      "outputs": [
        {
          "output_type": "display_data",
          "data": {
            "text/plain": [
              "<Figure size 720x720 with 1 Axes>"
            ],
            "image/png": "[encoded data removed]"
          },
          "metadata": {
            "needs_background": "light"
          }
        }
      ]
    },
    {
      "cell_type": "markdown",
      "source": [
        "## Predictions"
      ],
      "metadata": {
        "id": "FPRodf3hy6BF"
      }
    },
    {
      "cell_type": "code",
      "source": [
        "#####################################################\n",
        "# Definition of decode function and Greedy decoder  #\n",
        "#####################################################\n",
        "\n",
        "def decode_codes(codes):\n",
        "    table = tf.lookup.StaticHashTable(\n",
        "        tf.lookup.KeyValueTensorInitializer(\n",
        "            np.arange(len(charList)),\n",
        "            charList,\n",
        "            key_dtype=tf.int32\n",
        "        ),\n",
        "        '',\n",
        "        name='id2char'\n",
        "    )\n",
        "    return table.lookup(codes)\n",
        "\n",
        "def greedy_decoder(logits):\n",
        "    # ctc beam search decoder\n",
        "    predicted_codes, _ = tf.nn.ctc_greedy_decoder(\n",
        "        # shape of tensor [max_time x batch_size x num_classes]\n",
        "        tf.transpose(logits, (1, 0, 2)),\n",
        "        [logits.shape[1]]*logits.shape[0]\n",
        "    )\n",
        "\n",
        "    # convert to int32\n",
        "    codes = tf.cast(predicted_codes[0], tf.int32)\n",
        "\n",
        "    # Decode the index of caracter\n",
        "    text = decode_codes(codes)\n",
        "\n",
        "    # Convert a SparseTensor to string\n",
        "    text = tf.sparse.to_dense(text).numpy().astype(str)\n",
        "\n",
        "    return list(map(lambda x: ''.join(x), text))\n",
        "\n",
        "#--------------------------------------------------------\n",
        "\n",
        "###########################################\n",
        "# Prediction and Decoding of dataset_test #\n",
        "###########################################\n",
        "y_pred=[]\n",
        "y_true=[]\n",
        "for X_t,y_t in dataset_test:\n",
        "  y_pred.append(greedy_decoder(model_CRNN_1(X_t)))\n",
        "  y_true.append(y_t)\n",
        "\n",
        "results=list(zip(np.array(y_true).flatten(),np.array(y_pred).flatten(),))\n",
        "\n",
        "#---------------------------------------------------------------"
      ],
      "metadata": {
        "id": "poycif5Xxjk0"
      },
      "execution_count": 209,
      "outputs": []
    },
    {
      "cell_type": "markdown",
      "source": [
        "# Evaluation"
      ],
      "metadata": {
        "id": "Wl-T6thUQrNs"
      }
    },
    {
      "cell_type": "code",
      "source": [
        "import difflib\n",
        "\n",
        "####################################\n",
        "# Evaluation of the words accuracy #\n",
        "####################################\n",
        "\n",
        "score=[]\n",
        "for words in results: # Calculation of the percentage of letters accuracy for each word between transcription and prediction\n",
        "  score.append(difflib.SequenceMatcher(None,words[0].decode(\"utf-8\"),words[1]).ratio())\n",
        "\n",
        "print(\"The average accuracy for our words prediction is: \",np.mean(score),\n",
        "      \"\\n\\n--------------------------------------------------------------------\\n\")\n",
        "\n",
        "#-----------------------------------------------------\n",
        "\n",
        "############################################\n",
        "# Display of the word accuracy repartition #\n",
        "############################################\n",
        "\n",
        "plt.figure(figsize=(8,8))\n",
        "# evaluation of the histogram\n",
        "values, base = np.histogram(score, bins=100)\n",
        "#evaluation the cumulative\n",
        "cumulative = np.cumsum(values)\n",
        "# plot the cumulative function\n",
        "plt.plot(base[:-1], cumulative/cumulative[-1], c='blue')\n",
        "\n",
        "plt.title(\"Repartition of predictions accuracy\")\n",
        "plt.xlabel(\"Accuracy\")\n",
        "plt.ylabel(\"Predictions % below the accuracy\")\n",
        "plt.xticks(np.arange(0,1.1,0.1))\n",
        "plt.yticks(np.arange(0.1,1.1,0.1))\n",
        "plt.xlim([0,1])\n",
        "plt.ylim([0,1])\n",
        "plt.grid()\n",
        "plt.show();\n",
        "\n",
        "ar_res = np.array(results)\n",
        "ar_score = np.array(score)\n",
        "\n",
        "print(\"According to the graph we have approximatly:\\n\",\n",
        "      \"-\",np.round((len(ar_res[(ar_score <= 0.1)])/len(ar_res))*100), \"% predictions at <10% of accuracy\\n\",\n",
        "      \"-\",np.round((len(ar_res[(0.1 < ar_score) & (ar_score <= 0.5)])/len(ar_res))*100)  ,\"% predictions between 32% - 50% of accuracy\\n\",\n",
        "      \"-\",np.round((len(ar_res[(0.5 < ar_score) & (ar_score <= 0.99)])/len(ar_res))*100) ,\"% predictions between 50%- 99% of accuracy\\n\",\n",
        "      \"-\",np.round((len(ar_res[(0.99 < ar_score)])/len(ar_res))*100) ,\"% predictions at 100% of accuracy\")"
      ],
      "metadata": {
        "id": "oR3oqvIaQsK_",
        "colab": {
          "base_uri": "https://localhost:8080/",
          "height": 669
        },
        "outputId": "a3a62582-ed1e-44b8-c8a1-b11b31bd5e04"
      },
      "execution_count": 274,
      "outputs": [
        {
          "output_type": "stream",
          "name": "stdout",
          "text": [
            "The average accuracy for our words prediction is:  0.8930529245754879 \n",
            "\n",
            "--------------------------------------------------------------------\n",
            "\n"
          ]
        },
        {
          "output_type": "display_data",
          "data": {
            "text/plain": [
              "<Figure size 576x576 with 1 Axes>"
            ],
            "image/png": "[encoded data removed]"
          },
          "metadata": {
            "needs_background": "light"
          }
        },
        {
          "output_type": "stream",
          "name": "stdout",
          "text": [
            "According to the graph we have approximatly:\n",
            " - 2.0 % predictions at <10% of accuracy\n",
            " - 4.0 % predictions between 32% - 50% of accuracy\n",
            " - 25.0 % predictions between 50%- 99% of accuracy\n",
            " - 68.0 % predictions at 100% of accuracy\n"
          ]
        }
      ]
    },
    {
      "cell_type": "code",
      "source": [
        "########################################\n",
        "# Display of several failed prediction #\n",
        "########################################\n",
        "\n",
        "np.array(results)[np.array(score) < 0.1][:10]\n",
        "\n",
        "#-------------------------------------------"
      ],
      "metadata": {
        "id": "YxkJniiarnkY",
        "outputId": "33ce508c-c30d-4f1e-d840-a8ae6002ac20",
        "colab": {
          "base_uri": "https://localhost:8080/"
        }
      },
      "execution_count": 276,
      "outputs": [
        {
          "output_type": "execute_result",
          "data": {
            "text/plain": [
              "array([['\"', 'a'],\n",
              "       [\"'\", '.'],\n",
              "       ['-', '.'],\n",
              "       [\"'\", ','],\n",
              "       ['10', 'to'],\n",
              "       ['.', \"'\"],\n",
              "       ['I', ','],\n",
              "       ['I', ','],\n",
              "       ['MRS.', 'tes'],\n",
              "       ['be', 's']], dtype='<U16')"
            ]
          },
          "metadata": {},
          "execution_count": 276
        }
      ]
    },
    {
      "cell_type": "code",
      "source": [],
      "metadata": {
        "id": "gh9ti1SeqRgU"
      },
      "execution_count": null,
      "outputs": []
    },
    {
      "cell_type": "code",
      "source": [],
      "metadata": {
        "id": "Nu9jMkeAtq2h"
      },
      "execution_count": null,
      "outputs": []
    },
    {
      "cell_type": "code",
      "source": [],
      "metadata": {
        "id": "NQxFkTR-tqyJ"
      },
      "execution_count": null,
      "outputs": []
    },
    {
      "cell_type": "code",
      "source": [],
      "metadata": {
        "id": "gw4OQ8AStqvi"
      },
      "execution_count": null,
      "outputs": []
    },
    {
      "cell_type": "code",
      "source": [],
      "metadata": {
        "id": "uZ3JC2yLtqtN"
      },
      "execution_count": null,
      "outputs": []
    }
  ]
}