{
  "nbformat": 4,
  "nbformat_minor": 0,
  "metadata": {
    "colab": {
      "provenance": [],
      "collapsed_sections": [
        "vSOxAd01zY5-"
      ],
      "authorship_tag": "ABX9TyPwsnAnWaGrEZTdfinfocgh",
      "include_colab_link": true
    },
    "kernelspec": {
      "name": "python3",
      "display_name": "Python 3"
    },
    "language_info": {
      "name": "python"
    },
    "accelerator": "GPU"
  },
  "cells": [
    {
      "cell_type": "markdown",
      "metadata": {
        "id": "view-in-github",
        "colab_type": "text"
      },
      "source": [
        "<a href=\"https://colab.research.google.com/github/Zokoban/pyOCRTEN/blob/Full_TensorFlow/ocr_project.ipynb\" target=\"_parent\"><img src=\"https://colab.research.google.com/assets/colab-badge.svg\" alt=\"Open In Colab\"/></a>"
      ]
    },
    {
      "cell_type": "markdown",
      "source": [
        "To Do List :\n",
        "\n",
        "Modeling:\n",
        "*   Test other neural network structure (LSTM cell)\n",
        "*   Change the neural network to line prediction instead of word prediction\n",
        "\n",
        "Pre_processing:\n",
        "*   Focus on the bad result and find some improvement solution :\n",
        ">1.   Use image_generation\n",
        ">2.   Implement Caracter Error Rate (CER)\n",
        ">3.   Check the symbols/characters which have the lowest prediction result and find solution (For example: generate more image related to these symbols)\n",
        "\n",
        "Model post_processing:\n",
        "*\tWork on the \"greedy decoder\" to improve the prediction choice at the end\n",
        "\n",
        "End result processing:\n",
        "*\tWork on the Prediction end result to improve it through a new model such as:\n",
        ">1.\tOrthographic model (done)\n",
        ">2.\tNLP model\n",
        "\n",
        "General:\n",
        "*\tImprove the general aesthetic:\n",
        ">1.\tCreate pretty diagram\n",
        ">2.\tAdd more comments\n",
        ">3.\tAdd more \"text\" cell for explanation\n",
        ">4.\tImprove the aesthetic of the titles, etc...\n",
        "\n",
        "Model application next steps:\n",
        "*\tCreate our own segmentation method to directly perform prediction on the form image instead of using the images provided by the dataset. (ongoing)\n"
      ],
      "metadata": {
        "id": "DivLD0hdQbpc"
      }
    },
    {
      "cell_type": "markdown",
      "source": [
        "## Download all data on the drive "
      ],
      "metadata": {
        "id": "rY2t8iv40Atm"
      }
    },
    {
      "cell_type": "code",
      "source": [
        "!wget -q https://git.io/J0fjL -O IAM_Words.zip\n",
        "!unzip -qq IAM_Words.zip\n",
        "!\n",
        "!mkdir data\n",
        "!mkdir data/words\n",
        "!tar -xf IAM_Words/words.tgz -C data/words\n",
        "!mv IAM_Words/words.txt data"
      ],
      "metadata": {
        "id": "pQd5d8OitoDO"
      },
      "execution_count": 1,
      "outputs": []
    },
    {
      "cell_type": "markdown",
      "source": [
        "## Load all the required packages"
      ],
      "metadata": {
        "id": "TQBEwYLH0FP5"
      }
    },
    {
      "cell_type": "code",
      "source": [
        "import pandas as pd\n",
        "import numpy as np\n",
        "import csv\n",
        "import cv2\n",
        "import matplotlib.pyplot as plt\n",
        "%matplotlib inline\n",
        "\n",
        "from sklearn.model_selection import train_test_split\n",
        "from tensorflow.keras.utils import to_categorical"
      ],
      "metadata": {
        "id": "PiYqf_7Uz_YR"
      },
      "execution_count": 2,
      "outputs": []
    },
    {
      "cell_type": "markdown",
      "source": [
        "# Data Preparation"
      ],
      "metadata": {
        "id": "iiYO8MgWbaYA"
      }
    },
    {
      "cell_type": "markdown",
      "source": [
        "## Load word.txt file"
      ],
      "metadata": {
        "id": "Xiv8jaZB0LZo"
      }
    },
    {
      "cell_type": "code",
      "source": [
        "#############\n",
        "# Variables #\n",
        "#############\n",
        "\n",
        "path_to_txt = \"data/words.txt\"\n",
        "\n",
        "#--------------------------------------\n",
        "\n",
        "#########################\n",
        "# Function get_word_txt #\n",
        "#########################\n",
        "\n",
        "def get_word_txt(path_to_txt):\n",
        "  word_txt=pd.read_csv(path_to_txt, \n",
        "                      sep=' ', \n",
        "                      names=[\"word_id\",\"segmentation_result\",\"gray_level\",\"x\",\"y\",\"pxw\",\"pxh\",\"grammatical_tag\",\"transcription_1\",\"transcription_2\",\"transcription_3\"], \n",
        "                      quoting=csv.QUOTE_NONE, \n",
        "                      skiprows=18, \n",
        "                      on_bad_lines=\"warn\")\n",
        "\n",
        "  def f(x):\n",
        "      if x == \"nan\":\n",
        "          return \"\"\n",
        "      else:\n",
        "          return x\n",
        "  word_txt[\"transcription\"]=word_txt.transcription_1.astype(\"str\")+\\\n",
        "                            word_txt.transcription_2.astype(\"str\").apply(f)+\\\n",
        "                            word_txt.transcription_3.astype(\"str\").apply(f)\n",
        "  word_txt=word_txt.drop(columns=[\"transcription_1\",\"transcription_2\",\"transcription_3\"])\n",
        "\n",
        "  def f(x):\n",
        "      return len(x)\n",
        "\n",
        "  word_txt[\"number_components\"]=word_txt.transcription.apply(f)\n",
        "\n",
        "  \n",
        "\n",
        "  return word_txt\n",
        "\n",
        "#----------------------------------------------------------\n",
        "\n",
        "word_txt = get_word_txt(path_to_txt)\n",
        "\n",
        "print(\"word_txt Length: \",len(word_txt))\n",
        "word_txt.head()"
      ],
      "metadata": {
        "colab": {
          "base_uri": "https://localhost:8080/",
          "height": 223
        },
        "id": "mWa3zM2KvL5q",
        "outputId": "a0133200-3594-476f-95c0-c91812a00183"
      },
      "execution_count": 6,
      "outputs": [
        {
          "output_type": "stream",
          "name": "stdout",
          "text": [
            "word_txt Length:  115320\n"
          ]
        },
        {
          "output_type": "execute_result",
          "data": {
            "text/plain": [
              "          word_id segmentation_result  gray_level     x    y  pxw  pxh  \\\n",
              "0  a01-000u-00-00                  ok         154   408  768   27   51   \n",
              "1  a01-000u-00-01                  ok         154   507  766  213   48   \n",
              "2  a01-000u-00-02                  ok         154   796  764   70   50   \n",
              "3  a01-000u-00-03                  ok         154   919  757  166   78   \n",
              "4  a01-000u-00-04                  ok         154  1185  754  126   61   \n",
              "\n",
              "  grammatical_tag transcription  number_components  \n",
              "0              AT             A                  1  \n",
              "1              NN          MOVE                  4  \n",
              "2              TO            to                  2  \n",
              "3              VB          stop                  4  \n",
              "4             NPT           Mr.                  3  "
            ],
            "text/html": [
              "\n",
              "  <div id=\"df-8bf6cffa-fe17-487f-a9bd-dc35da05a460\">\n",
              "    <div class=\"colab-df-container\">\n",
              "      <div>\n",
              "<style scoped>\n",
              "    .dataframe tbody tr th:only-of-type {\n",
              "        vertical-align: middle;\n",
              "    }\n",
              "\n",
              "    .dataframe tbody tr th {\n",
              "        vertical-align: top;\n",
              "    }\n",
              "\n",
              "    .dataframe thead th {\n",
              "        text-align: right;\n",
              "    }\n",
              "</style>\n",
              "<table border=\"1\" class=\"dataframe\">\n",
              "  <thead>\n",
              "    <tr style=\"text-align: right;\">\n",
              "      <th></th>\n",
              "      <th>word_id</th>\n",
              "      <th>segmentation_result</th>\n",
              "      <th>gray_level</th>\n",
              "      <th>x</th>\n",
              "      <th>y</th>\n",
              "      <th>pxw</th>\n",
              "      <th>pxh</th>\n",
              "      <th>grammatical_tag</th>\n",
              "      <th>transcription</th>\n",
              "      <th>number_components</th>\n",
              "    </tr>\n",
              "  </thead>\n",
              "  <tbody>\n",
              "    <tr>\n",
              "      <th>0</th>\n",
              "      <td>a01-000u-00-00</td>\n",
              "      <td>ok</td>\n",
              "      <td>154</td>\n",
              "      <td>408</td>\n",
              "      <td>768</td>\n",
              "      <td>27</td>\n",
              "      <td>51</td>\n",
              "      <td>AT</td>\n",
              "      <td>A</td>\n",
              "      <td>1</td>\n",
              "    </tr>\n",
              "    <tr>\n",
              "      <th>1</th>\n",
              "      <td>a01-000u-00-01</td>\n",
              "      <td>ok</td>\n",
              "      <td>154</td>\n",
              "      <td>507</td>\n",
              "      <td>766</td>\n",
              "      <td>213</td>\n",
              "      <td>48</td>\n",
              "      <td>NN</td>\n",
              "      <td>MOVE</td>\n",
              "      <td>4</td>\n",
              "    </tr>\n",
              "    <tr>\n",
              "      <th>2</th>\n",
              "      <td>a01-000u-00-02</td>\n",
              "      <td>ok</td>\n",
              "      <td>154</td>\n",
              "      <td>796</td>\n",
              "      <td>764</td>\n",
              "      <td>70</td>\n",
              "      <td>50</td>\n",
              "      <td>TO</td>\n",
              "      <td>to</td>\n",
              "      <td>2</td>\n",
              "    </tr>\n",
              "    <tr>\n",
              "      <th>3</th>\n",
              "      <td>a01-000u-00-03</td>\n",
              "      <td>ok</td>\n",
              "      <td>154</td>\n",
              "      <td>919</td>\n",
              "      <td>757</td>\n",
              "      <td>166</td>\n",
              "      <td>78</td>\n",
              "      <td>VB</td>\n",
              "      <td>stop</td>\n",
              "      <td>4</td>\n",
              "    </tr>\n",
              "    <tr>\n",
              "      <th>4</th>\n",
              "      <td>a01-000u-00-04</td>\n",
              "      <td>ok</td>\n",
              "      <td>154</td>\n",
              "      <td>1185</td>\n",
              "      <td>754</td>\n",
              "      <td>126</td>\n",
              "      <td>61</td>\n",
              "      <td>NPT</td>\n",
              "      <td>Mr.</td>\n",
              "      <td>3</td>\n",
              "    </tr>\n",
              "  </tbody>\n",
              "</table>\n",
              "</div>\n",
              "      <button class=\"colab-df-convert\" onclick=\"convertToInteractive('df-8bf6cffa-fe17-487f-a9bd-dc35da05a460')\"\n",
              "              title=\"Convert this dataframe to an interactive table.\"\n",
              "              style=\"display:none;\">\n",
              "        \n",
              "  <svg xmlns=\"http://www.w3.org/2000/svg\" height=\"24px\"viewBox=\"0 0 24 24\"\n",
              "       width=\"24px\">\n",
              "    <path d=\"M0 0h24v24H0V0z\" fill=\"none\"/>\n",
              "    <path d=\"M18.56 5.44l.94 2.06.94-2.06 2.06-.94-2.06-.94-.94-2.06-.94 2.06-2.06.94zm-11 1L8.5 8.5l.94-2.06 2.06-.94-2.06-.94L8.5 2.5l-.94 2.06-2.06.94zm10 10l.94 2.06.94-2.06 2.06-.94-2.06-.94-.94-2.06-.94 2.06-2.06.94z\"/><path d=\"M17.41 7.96l-1.37-1.37c-.4-.4-.92-.59-1.43-.59-.52 0-1.04.2-1.43.59L10.3 9.45l-7.72 7.72c-.78.78-.78 2.05 0 2.83L4 21.41c.39.39.9.59 1.41.59.51 0 1.02-.2 1.41-.59l7.78-7.78 2.81-2.81c.8-.78.8-2.07 0-2.86zM5.41 20L4 18.59l7.72-7.72 1.47 1.35L5.41 20z\"/>\n",
              "  </svg>\n",
              "      </button>\n",
              "      \n",
              "  <style>\n",
              "    .colab-df-container {\n",
              "      display:flex;\n",
              "      flex-wrap:wrap;\n",
              "      gap: 12px;\n",
              "    }\n",
              "\n",
              "    .colab-df-convert {\n",
              "      background-color: #E8F0FE;\n",
              "      border: none;\n",
              "      border-radius: 50%;\n",
              "      cursor: pointer;\n",
              "      display: none;\n",
              "      fill: #1967D2;\n",
              "      height: 32px;\n",
              "      padding: 0 0 0 0;\n",
              "      width: 32px;\n",
              "    }\n",
              "\n",
              "    .colab-df-convert:hover {\n",
              "      background-color: #E2EBFA;\n",
              "      box-shadow: 0px 1px 2px rgba(60, 64, 67, 0.3), 0px 1px 3px 1px rgba(60, 64, 67, 0.15);\n",
              "      fill: #174EA6;\n",
              "    }\n",
              "\n",
              "    [theme=dark] .colab-df-convert {\n",
              "      background-color: #3B4455;\n",
              "      fill: #D2E3FC;\n",
              "    }\n",
              "\n",
              "    [theme=dark] .colab-df-convert:hover {\n",
              "      background-color: #434B5C;\n",
              "      box-shadow: 0px 1px 3px 1px rgba(0, 0, 0, 0.15);\n",
              "      filter: drop-shadow(0px 1px 2px rgba(0, 0, 0, 0.3));\n",
              "      fill: #FFFFFF;\n",
              "    }\n",
              "  </style>\n",
              "\n",
              "      <script>\n",
              "        const buttonEl =\n",
              "          document.querySelector('#df-8bf6cffa-fe17-487f-a9bd-dc35da05a460 button.colab-df-convert');\n",
              "        buttonEl.style.display =\n",
              "          google.colab.kernel.accessAllowed ? 'block' : 'none';\n",
              "\n",
              "        async function convertToInteractive(key) {\n",
              "          const element = document.querySelector('#df-8bf6cffa-fe17-487f-a9bd-dc35da05a460');\n",
              "          const dataTable =\n",
              "            await google.colab.kernel.invokeFunction('convertToInteractive',\n",
              "                                                     [key], {});\n",
              "          if (!dataTable) return;\n",
              "\n",
              "          const docLinkHtml = 'Like what you see? Visit the ' +\n",
              "            '<a target=\"_blank\" href=https://colab.research.google.com/notebooks/data_table.ipynb>data table notebook</a>'\n",
              "            + ' to learn more about interactive tables.';\n",
              "          element.innerHTML = '';\n",
              "          dataTable['output_type'] = 'display_data';\n",
              "          await google.colab.output.renderOutput(dataTable, element);\n",
              "          const docLink = document.createElement('div');\n",
              "          docLink.innerHTML = docLinkHtml;\n",
              "          element.appendChild(docLink);\n",
              "        }\n",
              "      </script>\n",
              "    </div>\n",
              "  </div>\n",
              "  "
            ]
          },
          "metadata": {},
          "execution_count": 6
        }
      ]
    },
    {
      "cell_type": "markdown",
      "source": [
        "### Choice of the fraction of the dataset.\n",
        "### Removal of the transcription error.\n",
        "### Removal of the unwanted columns."
      ],
      "metadata": {
        "id": "4teX3LNn3BJU"
      }
    },
    {
      "cell_type": "code",
      "source": [
        "#############\n",
        "# Variables #\n",
        "#############\n",
        "\n",
        "fraction = 0.5\n",
        "data_dir = \"data/words/\"\n",
        "image_extensions = [\".png\"]  # add there all your images file extensions\n",
        "img_type_accepted_by_tf = [\"png\"]\n",
        "\n",
        "#--------------------------------------------------------------------------\n",
        "from pathlib import Path\n",
        "import imghdr\n",
        "\n",
        "def img_path(word):\n",
        "    path=data_dir+word.split(\"-\")[0]+\"/\"+word.split(\"-\")[0]+\"-\"+word.split(\"-\")[1]+\"/\"+word+\".png\"\n",
        "    \n",
        "    return path\n",
        "\n",
        "def removal_of_corrupt_image(df):\n",
        "  index_to_drop=[]\n",
        "  for filepath in Path(data_dir).rglob(\"*\"):\n",
        "      if filepath.suffix.lower() in image_extensions:\n",
        "          img_type = imghdr.what(filepath)\n",
        "          if img_type is None:\n",
        "              index_to_drop.append(df[df.filepath==str(filepath)].index)\n",
        "              df=df.drop(labels=df[df.filepath==str(filepath)].index)\n",
        "              print(f\"{filepath} is not an image\")\n",
        "          elif img_type not in img_type_accepted_by_tf:\n",
        "              df=df.drop(labels=df[df.filepath==str(filepath)].index)\n",
        "              print(f\"{filepath} is a {img_type}, not accepted by TensorFlow and is drop\")\n",
        "  return df\n",
        "\n",
        "def word_txt_cleaning(word_txt,fraction,random_state=None):\n",
        "\n",
        "  if random_state==None:\n",
        "    random_state=np.random.randint(10000)\n",
        "\n",
        "  list_columns_to_remove=[\"segmentation_result\",\"gray_level\",\"x\",\"y\",\"pxw\",\"pxh\",\"grammatical_tag\",\"number_components\"]\n",
        "\n",
        "  df = word_txt[word_txt.segmentation_result == \"ok\"]\\\n",
        "      .drop(columns=list_columns_to_remove)\\\n",
        "      .sample(frac=fraction,random_state=random_state)\n",
        "\n",
        "  df[\"filepath\"]=df.word_id.apply(img_path)\n",
        "  df=removal_of_corrupt_image(df)\n",
        "\n",
        "  return df\n",
        "\n",
        "#------------------------------------------------------------------\n",
        "\n",
        "##################################\n",
        "#   Removal of unwanted Column   #\n",
        "#   And removal of corrupt image #\n",
        "##################################\n",
        "\n",
        "\n",
        "df = word_txt_cleaning(word_txt,fraction)\n",
        "\n",
        "df.head()"
      ],
      "metadata": {
        "colab": {
          "base_uri": "https://localhost:8080/",
          "height": 241
        },
        "id": "EHQ1vKx53Wbj",
        "outputId": "a03677ab-b0d4-470c-fea0-d8316e5cfe3c"
      },
      "execution_count": 10,
      "outputs": [
        {
          "output_type": "stream",
          "name": "stdout",
          "text": [
            "data/words/a01/a01-117/a01-117-05-02.png is not an image\n",
            "data/words/r06/r06-022/r06-022-03-05.png is not an image\n"
          ]
        },
        {
          "output_type": "execute_result",
          "data": {
            "text/plain": [
              "              word_id transcription                                  filepath\n",
              "109104  p03-112-03-07             a  data/words/p03/p03-112/p03-112-03-07.png\n",
              "74144   h04-061-08-04    households  data/words/h04/h04-061/h04-061-08-04.png\n",
              "23449   c02-049-01-02          with  data/words/c02/c02-049/c02-049-01-02.png\n",
              "10145   a04-085-09-01            by  data/words/a04/a04-085/a04-085-09-01.png\n",
              "35996   d05-030-04-10           his  data/words/d05/d05-030/d05-030-04-10.png"
            ],
            "text/html": [
              "\n",
              "  <div id=\"df-2f82bde0-3ec9-4cf1-99a8-22df47da73a6\">\n",
              "    <div class=\"colab-df-container\">\n",
              "      <div>\n",
              "<style scoped>\n",
              "    .dataframe tbody tr th:only-of-type {\n",
              "        vertical-align: middle;\n",
              "    }\n",
              "\n",
              "    .dataframe tbody tr th {\n",
              "        vertical-align: top;\n",
              "    }\n",
              "\n",
              "    .dataframe thead th {\n",
              "        text-align: right;\n",
              "    }\n",
              "</style>\n",
              "<table border=\"1\" class=\"dataframe\">\n",
              "  <thead>\n",
              "    <tr style=\"text-align: right;\">\n",
              "      <th></th>\n",
              "      <th>word_id</th>\n",
              "      <th>transcription</th>\n",
              "      <th>filepath</th>\n",
              "    </tr>\n",
              "  </thead>\n",
              "  <tbody>\n",
              "    <tr>\n",
              "      <th>109104</th>\n",
              "      <td>p03-112-03-07</td>\n",
              "      <td>a</td>\n",
              "      <td>data/words/p03/p03-112/p03-112-03-07.png</td>\n",
              "    </tr>\n",
              "    <tr>\n",
              "      <th>74144</th>\n",
              "      <td>h04-061-08-04</td>\n",
              "      <td>households</td>\n",
              "      <td>data/words/h04/h04-061/h04-061-08-04.png</td>\n",
              "    </tr>\n",
              "    <tr>\n",
              "      <th>23449</th>\n",
              "      <td>c02-049-01-02</td>\n",
              "      <td>with</td>\n",
              "      <td>data/words/c02/c02-049/c02-049-01-02.png</td>\n",
              "    </tr>\n",
              "    <tr>\n",
              "      <th>10145</th>\n",
              "      <td>a04-085-09-01</td>\n",
              "      <td>by</td>\n",
              "      <td>data/words/a04/a04-085/a04-085-09-01.png</td>\n",
              "    </tr>\n",
              "    <tr>\n",
              "      <th>35996</th>\n",
              "      <td>d05-030-04-10</td>\n",
              "      <td>his</td>\n",
              "      <td>data/words/d05/d05-030/d05-030-04-10.png</td>\n",
              "    </tr>\n",
              "  </tbody>\n",
              "</table>\n",
              "</div>\n",
              "      <button class=\"colab-df-convert\" onclick=\"convertToInteractive('df-2f82bde0-3ec9-4cf1-99a8-22df47da73a6')\"\n",
              "              title=\"Convert this dataframe to an interactive table.\"\n",
              "              style=\"display:none;\">\n",
              "        \n",
              "  <svg xmlns=\"http://www.w3.org/2000/svg\" height=\"24px\"viewBox=\"0 0 24 24\"\n",
              "       width=\"24px\">\n",
              "    <path d=\"M0 0h24v24H0V0z\" fill=\"none\"/>\n",
              "    <path d=\"M18.56 5.44l.94 2.06.94-2.06 2.06-.94-2.06-.94-.94-2.06-.94 2.06-2.06.94zm-11 1L8.5 8.5l.94-2.06 2.06-.94-2.06-.94L8.5 2.5l-.94 2.06-2.06.94zm10 10l.94 2.06.94-2.06 2.06-.94-2.06-.94-.94-2.06-.94 2.06-2.06.94z\"/><path d=\"M17.41 7.96l-1.37-1.37c-.4-.4-.92-.59-1.43-.59-.52 0-1.04.2-1.43.59L10.3 9.45l-7.72 7.72c-.78.78-.78 2.05 0 2.83L4 21.41c.39.39.9.59 1.41.59.51 0 1.02-.2 1.41-.59l7.78-7.78 2.81-2.81c.8-.78.8-2.07 0-2.86zM5.41 20L4 18.59l7.72-7.72 1.47 1.35L5.41 20z\"/>\n",
              "  </svg>\n",
              "      </button>\n",
              "      \n",
              "  <style>\n",
              "    .colab-df-container {\n",
              "      display:flex;\n",
              "      flex-wrap:wrap;\n",
              "      gap: 12px;\n",
              "    }\n",
              "\n",
              "    .colab-df-convert {\n",
              "      background-color: #E8F0FE;\n",
              "      border: none;\n",
              "      border-radius: 50%;\n",
              "      cursor: pointer;\n",
              "      display: none;\n",
              "      fill: #1967D2;\n",
              "      height: 32px;\n",
              "      padding: 0 0 0 0;\n",
              "      width: 32px;\n",
              "    }\n",
              "\n",
              "    .colab-df-convert:hover {\n",
              "      background-color: #E2EBFA;\n",
              "      box-shadow: 0px 1px 2px rgba(60, 64, 67, 0.3), 0px 1px 3px 1px rgba(60, 64, 67, 0.15);\n",
              "      fill: #174EA6;\n",
              "    }\n",
              "\n",
              "    [theme=dark] .colab-df-convert {\n",
              "      background-color: #3B4455;\n",
              "      fill: #D2E3FC;\n",
              "    }\n",
              "\n",
              "    [theme=dark] .colab-df-convert:hover {\n",
              "      background-color: #434B5C;\n",
              "      box-shadow: 0px 1px 3px 1px rgba(0, 0, 0, 0.15);\n",
              "      filter: drop-shadow(0px 1px 2px rgba(0, 0, 0, 0.3));\n",
              "      fill: #FFFFFF;\n",
              "    }\n",
              "  </style>\n",
              "\n",
              "      <script>\n",
              "        const buttonEl =\n",
              "          document.querySelector('#df-2f82bde0-3ec9-4cf1-99a8-22df47da73a6 button.colab-df-convert');\n",
              "        buttonEl.style.display =\n",
              "          google.colab.kernel.accessAllowed ? 'block' : 'none';\n",
              "\n",
              "        async function convertToInteractive(key) {\n",
              "          const element = document.querySelector('#df-2f82bde0-3ec9-4cf1-99a8-22df47da73a6');\n",
              "          const dataTable =\n",
              "            await google.colab.kernel.invokeFunction('convertToInteractive',\n",
              "                                                     [key], {});\n",
              "          if (!dataTable) return;\n",
              "\n",
              "          const docLinkHtml = 'Like what you see? Visit the ' +\n",
              "            '<a target=\"_blank\" href=https://colab.research.google.com/notebooks/data_table.ipynb>data table notebook</a>'\n",
              "            + ' to learn more about interactive tables.';\n",
              "          element.innerHTML = '';\n",
              "          dataTable['output_type'] = 'display_data';\n",
              "          await google.colab.output.renderOutput(dataTable, element);\n",
              "          const docLink = document.createElement('div');\n",
              "          docLink.innerHTML = docLinkHtml;\n",
              "          element.appendChild(docLink);\n",
              "        }\n",
              "      </script>\n",
              "    </div>\n",
              "  </div>\n",
              "  "
            ]
          },
          "metadata": {},
          "execution_count": 10
        }
      ]
    },
    {
      "cell_type": "markdown",
      "source": [
        "## Separation of dataset and Loading + Preprocessing of the image"
      ],
      "metadata": {
        "id": "zIPE0VW26JiS"
      }
    },
    {
      "cell_type": "markdown",
      "source": [
        "###Loading and preprocessing functions"
      ],
      "metadata": {
        "id": "vAnbbMGLOFzk"
      }
    },
    {
      "cell_type": "code",
      "source": [
        "#############\n",
        "# Variables #\n",
        "#############\n",
        "\n",
        "batch_size = 64\n",
        "image_width=128\n",
        "image_height=32\n",
        "imgSize = (image_height, image_width)\n",
        "\n",
        "random_state=np.random.randint(10000)\n",
        "train_size=0.8\n",
        "validation_size=0.5\n",
        "#-----------------------------------\n",
        "\n",
        "###############################################################\n",
        "# Definition of functions:                                    #\n",
        "#     - Loading images                                        #\n",
        "#     - Preprocessing of images (resizing without distortion) #\n",
        "###############################################################\n",
        "\n",
        "import tensorflow as tf\n",
        "from sklearn.model_selection import train_test_split\n",
        "import numpy as np\n",
        "\n",
        "#Loading function of images (with tensorflow)\n",
        "@tf.function\n",
        "def load_image(filepath):\n",
        "    im = tf.io.read_file(filepath)\n",
        "    im = tf.image.decode_png(im, channels=0)\n",
        "\n",
        "    return im\n",
        "\n",
        "#Preprocessing function of images (with tensorflow)\n",
        "@tf.function\n",
        "def preprocess(filepath, imgSize=(32, 128), dataAugmentation=False, scale=0.8, isthreshold=False):\n",
        "\n",
        "\n",
        "\n",
        "    img = load_image(filepath)/255\n",
        "    # there are damaged files in IAM dataset - just use black image instead\n",
        "    if img is None:\n",
        "        img = tf.ones([imgSize[0], imgSize[1], 1])\n",
        "        print(\"None\")\n",
        "\n",
        "    if dataAugmentation:\n",
        "        stretch = scale*(tf.random.uniform([1], 0, 1)[0] - 0.3) # -0.5 .. +0.5\n",
        "        wStretched = tf.maximum(int(float(tf.shape(img)[0]) * (1 + stretch)), 1) # random width, but at least 1\n",
        "        img = tf.image.resize(img, (wStretched, tf.shape(img)[1])) # stretch horizontally by factor 0.5 .. 1.5\n",
        "\n",
        "    (wt, ht) = imgSize\n",
        "\n",
        "    w, h = float(tf.shape(img)[0]), float(tf.shape(img)[1])\n",
        "\n",
        "    fx = w / wt\n",
        "    fy = h / ht\n",
        "\n",
        "    f = tf.maximum(fx, fy)\n",
        "\n",
        "    newSize = (tf.maximum(tf.minimum(wt, int(w / f)), 1), tf.maximum(tf.minimum(ht, int(h / f)), 1)) # scale according to f (result at least 1 and at most wt or ht)\n",
        "\n",
        "    img = tf.image.resize(img, newSize)\n",
        "\n",
        "\n",
        "    dx = wt - newSize[0]\n",
        "    dy = ht - newSize[1]\n",
        "\n",
        "    if dataAugmentation :\n",
        "        dx1=0\n",
        "        dy1=0\n",
        "        if dx!=0:\n",
        "            dx1 = tf.random.uniform([1], 0, dx, tf.int32)[0]\n",
        "        if dy!=0:\n",
        "            dy1 = tf.random.uniform([1], 0, dy, tf.int32)[0]\n",
        "        img = tf.pad(img[..., 0], [[dx1, dx-dx1], [dy1, dy-dy1]], constant_values=0)\n",
        "    else :\n",
        "        img = tf.pad(img[..., 0], [[0, dx], [0, dy]], constant_values=0)\n",
        "\n",
        "    if isthreshold:\n",
        "        return tf.expand_dims(1-(1-img)*tf.cast(img < 0.8, tf.float32), -1)\n",
        "    return tf.expand_dims(img, -1)\n",
        "\n",
        "def create_dataset(X_path,y_label,batch_size):\n",
        "  dataset = tf.data.Dataset.from_tensor_slices((X_path, y_label))\n",
        "  dataset = dataset.shuffle(10000)\\\n",
        "                  .map(lambda x, y : [preprocess(x, imgSize, dataAugmentation=True, scale=0.8, isthreshold=True), y])\\\n",
        "                  .batch(batch_size, drop_remainder=True)\n",
        "  return dataset\n",
        "#-----------------------------------------------------------------------------\n",
        "\n",
        "#########################################\n",
        "# Creation of the train & test datasets #\n",
        "#########################################\n",
        "\n",
        "#Split of dataframes \n",
        "X_train_path, X_path_temp, y_train, y_temp = train_test_split(df.filepath.values, df.transcription.values, train_size=train_size, random_state=random_state)\n",
        "X_test_path, X_val_path, y_test, y_val = train_test_split(X_path_temp, y_temp, train_size=validation_size, random_state=random_state)\n",
        "\n",
        "# Creation of dataset_train and dataset_test tensor and preprocessing of images\n",
        "dataset_train = create_dataset(X_train_path,y_train,batch_size)\n",
        "dataset_test = create_dataset(X_test_path,y_test,batch_size)\n",
        "dataset_validation = create_dataset(X_val_path,y_val,batch_size)\n",
        "\n",
        "#-----------------------------------------------------------------------------\n",
        "\n",
        "################################################\n",
        "# Iteration on dataset_train                   #\n",
        "# Display of several images from train dataset #\n",
        "################################################\n",
        "\n",
        "X_t, y_t = next(iter(dataset_train))\n",
        "\n",
        "def display_image_from_tf_dataset(X_t,y_t):\n",
        "  plt.figure(figsize=(15,5))\n",
        "  for j, i in enumerate(np.random.randint(low=0, high=len(X_t), size=[6])):\n",
        "      plt.subplot(2,3,j+1)\n",
        "      plt.imshow(X_t[i][...,0], cmap='gray')\n",
        "      plt.title(y_t[i].numpy().decode('utf'))\n",
        "\n",
        "display_image_from_tf_dataset(X_t,y_t)"
      ],
      "metadata": {
        "id": "OS4BUcr4OE-R",
        "outputId": "5561efdc-ba8d-40bb-bc6d-5334af584fa4",
        "colab": {
          "base_uri": "https://localhost:8080/",
          "height": 274
        }
      },
      "execution_count": 14,
      "outputs": [
        {
          "output_type": "display_data",
          "data": {
            "text/plain": [
              "<Figure size 1080x360 with 6 Axes>"
            ],
            "image/png": "[encoded data removed]"
          },
          "metadata": {
            "needs_background": "light"
          }
        }
      ]
    },
    {
      "cell_type": "markdown",
      "source": [
        "## Vectorization of the labels"
      ],
      "metadata": {
        "id": "EtznC98Gf-Wl"
      }
    },
    {
      "cell_type": "code",
      "source": [
        "#############\n",
        "# Variables #\n",
        "#############\n",
        "\n",
        "import string\n",
        "#charList = list(string.ascii_lowercase)\n",
        "#charList = list('!\\'.?abcdefghijklmnopqrstuvwxyz')\n",
        "charList = list(' !\"#$%&\\'()*+,-./0123456789:;<=>?@ABCDEFGHIJKLMNOPQRSTUVWXYZ[\\\\]^_`abcdefghijklmnopqrstuvwxyz{|}~')\n",
        "#------------------------------------------------\n",
        "\n",
        "def encode_labels(labels):\n",
        "    table = tf.lookup.StaticHashTable(\n",
        "        tf.lookup.KeyValueTensorInitializer(charList, np.arange(len(charList)), value_dtype=tf.int32),\n",
        "        default_value = 0,\n",
        "        name='chard2id')\n",
        "    return table.lookup(tf.compat.v1.string_split(labels, sep=''))\n",
        "\n",
        "\n",
        "#--------------------------------------------------------------------\n",
        "\n",
        "#######################################\n",
        "# Encoding of the train & test labels #\n",
        "#######################################\n",
        "\n",
        "# Encoding of y_train\n",
        "dataset_train = dataset_train.map(lambda X,y : [X, encode_labels(y)])\n",
        "\n",
        "# Encode of y_test\n",
        "dataset_validation = dataset_validation.map(lambda X,y : [X, encode_labels(y)])\n",
        "\n",
        "#--------------------------------------------------------------------\n",
        "\n",
        "##############################\n",
        "# Display of label encoding  #\n",
        "##############################\n",
        "\n",
        "a = encode_labels(y_train[:10])\n",
        "\n",
        "print(y_train[:10])\n",
        "print(tf.sparse.to_dense(a).numpy(),\":\\n\")\n",
        "\n",
        "x=15\n",
        "a = encode_labels(y_test[x:x+10])\n",
        "\n",
        "print(\"\\n-------------------------------------------\\n\\n\",y_test[x:x+10],\":\\n\")\n",
        "\n",
        "print(tf.sparse.to_dense(a).numpy())\n",
        "\n",
        "#------------------------------------------------------------------"
      ],
      "metadata": {
        "id": "cLcrDlS_Pbv0",
        "colab": {
          "base_uri": "https://localhost:8080/"
        },
        "outputId": "1e721bba-ddc8-422d-d501-ae48f3949002"
      },
      "execution_count": 15,
      "outputs": [
        {
          "output_type": "stream",
          "name": "stdout",
          "text": [
            "['stone' 'are' 'was' 'from' 'straight' 'a' '.' 'event' 'presence'\n",
            " 'plastic']\n",
            "[[83 84 79 78 69  0  0  0]\n",
            " [65 82 69  0  0  0  0  0]\n",
            " [87 65 83  0  0  0  0  0]\n",
            " [70 82 79 77  0  0  0  0]\n",
            " [83 84 82 65 73 71 72 84]\n",
            " [65  0  0  0  0  0  0  0]\n",
            " [14  0  0  0  0  0  0  0]\n",
            " [69 86 69 78 84  0  0  0]\n",
            " [80 82 69 83 69 78 67 69]\n",
            " [80 76 65 83 84 73 67  0]] :\n",
            "\n",
            "\n",
            "-------------------------------------------\n",
            "\n",
            " ['separated' '\"' 'it' 'man' ',' 'shape' 'among' 'public' 'frequent'\n",
            " 'letter'] :\n",
            "\n",
            "[[83 69 80 65 82 65 84 69 68]\n",
            " [ 2  0  0  0  0  0  0  0  0]\n",
            " [73 84  0  0  0  0  0  0  0]\n",
            " [77 65 78  0  0  0  0  0  0]\n",
            " [12  0  0  0  0  0  0  0  0]\n",
            " [83 72 65 80 69  0  0  0  0]\n",
            " [65 77 79 78 71  0  0  0  0]\n",
            " [80 85 66 76 73 67  0  0  0]\n",
            " [70 82 69 81 85 69 78 84  0]\n",
            " [76 69 84 84 69 82  0  0  0]]\n"
          ]
        }
      ]
    },
    {
      "cell_type": "markdown",
      "source": [
        "#Model Creation"
      ],
      "metadata": {
        "id": "4d_b1CYNwSps"
      }
    },
    {
      "cell_type": "markdown",
      "source": [
        "##Modelisation"
      ],
      "metadata": {
        "id": "5bE8xNuacDhM"
      }
    },
    {
      "cell_type": "code",
      "source": [
        "#@title Load weight model function (boolean, model, name_model)\n",
        "\n",
        "def load_weight_model(load_model,model,name):\n",
        "  history=None\n",
        "  #------------------------------\n",
        "  if load_model: #Load model weights\n",
        "    drive.mount(\"/drive\",force_remount=True)\n",
        "    try:\n",
        "      model.load_weights(\"/drive/MyDrive/DataScience/OCR/Models/\"+name)\n",
        "      print(\"Model weights loaded !\")\n",
        "    except:\n",
        "      print(\"Model name does not exist, Model weights not loaded !\")\n",
        "    #----------------------------\n",
        "    try: #Load history\n",
        "      with open(\"/drive/MyDrive/DataScience/OCR/Models/\"+name+\"training_history\", \"rb\") as file_pi:\n",
        "        history = pickle.load(file_pi)\n",
        "        print(\"History loaded !\")\n",
        "    except:\n",
        "      print(\"History not loaded !\")\n",
        "\n",
        "  #--------------------------------\n",
        "  else:\n",
        "    print(\"Model weights not loaded !\")\n",
        "\n",
        "  return model,history"
      ],
      "metadata": {
        "cellView": "form",
        "id": "8UkkYUEgcvE_"
      },
      "execution_count": 19,
      "outputs": []
    },
    {
      "cell_type": "code",
      "source": [
        "#@title Model_CRNN_GRU\n",
        "#############\n",
        "# Variables #\n",
        "#############\n",
        "\n",
        "#X_t.shape[1:]\n",
        "\n",
        "#-------------------------------------------------------------------------\n",
        "from google.colab import drive\n",
        "#########################################################\n",
        "# Definition of a model CRNN taken on DataScienTest OCR #\n",
        "#                           model_CRNN_GRU              #\n",
        "#########################################################\n",
        "\n",
        "import tensorflow as tf\n",
        "from tensorflow.keras.layers import Conv2D, BatchNormalization, MaxPooling2D, LeakyReLU, Dropout\n",
        "from tensorflow.keras.layers import GRU, Bidirectional, Dense, Lambda\n",
        "\n",
        "\n",
        "def build_model_CRNN_GRU(load_model_var, name_load_model,numHidden,image_shape):\n",
        "  #Create_model_CRNN\n",
        "    model = tf.keras.Sequential()\n",
        "\n",
        "    # Layer 1\n",
        "    model.add(Conv2D(filters=32, kernel_size=(5,5), padding='SAME', input_shape = image_shape))\n",
        "    model.add(BatchNormalization())\n",
        "    model.add(LeakyReLU())\n",
        "    model.add(MaxPooling2D(pool_size=(2,2), strides=(2,2)))\n",
        "\n",
        "    # Layer 2\n",
        "    model.add(Conv2D(filters=64, kernel_size=(5,5), padding='SAME'))\n",
        "    model.add(BatchNormalization())\n",
        "    model.add(LeakyReLU())\n",
        "    model.add(MaxPooling2D(pool_size=(2,2), strides=(2,2)))\n",
        "\n",
        "    # Layer 3\n",
        "    model.add(Conv2D(filters=128, kernel_size=(3,3), padding='SAME'))\n",
        "    model.add(BatchNormalization())\n",
        "    model.add(LeakyReLU())\n",
        "    model.add(MaxPooling2D(pool_size=(2,1), strides=(2,1)))\n",
        "\n",
        "    # Layer 4\n",
        "    model.add(Conv2D(filters=128, kernel_size=(3,3), padding='SAME'))\n",
        "    model.add(BatchNormalization())\n",
        "    model.add(LeakyReLU())\n",
        "    model.add(MaxPooling2D(pool_size=(2,1), strides=(2,1)))\n",
        "\n",
        "    # Layer 5\n",
        "    model.add(Conv2D(filters=256, kernel_size=(3,3), padding='SAME'))\n",
        "    model.add(BatchNormalization())\n",
        "    model.add(LeakyReLU())\n",
        "    model.add(MaxPooling2D(pool_size=(2,1), strides=(2,1)))\n",
        "    model.add(Dropout(0.4))\n",
        "\n",
        "\n",
        "    model.add(Lambda(lambda x :tf.squeeze(x, axis=1)))\n",
        "\n",
        "    # Bidirectionnal RNN\n",
        "    model.add(Bidirectional(GRU(numHidden, return_sequences=True)))\n",
        "    # Classification of characters\n",
        "    model.add(Dense(len(charList)+1))\n",
        "    \n",
        "    model,training_history=load_weight_model(load_model_var,model,name_load_model)\n",
        "\n",
        "    return model, training_history\n",
        "\n",
        "#---------------------------------------------------------------------------\n"
      ],
      "metadata": {
        "id": "cz1nUiqCPtpA"
      },
      "execution_count": 17,
      "outputs": []
    },
    {
      "cell_type": "code",
      "source": [
        "#@title Building of models\n",
        "#############\n",
        "# Variables #\n",
        "#############\n",
        "numHidden = 256\n",
        "\n",
        "image_width=128\n",
        "image_height=32\n",
        "\n",
        "image_shape=[image_height,image_width,1]\n",
        "\n",
        "load_model_var_CNN = True\n",
        "name_load_model_CNN = \"CRNN_1_2710\"\n",
        "\n",
        "############################\n",
        "# Building the model CRNN  #\n",
        "#         model_3          #\n",
        "############################\n",
        "\n",
        "print(\"Loading of Model:\",name_load_model_CNN)\n",
        "\n",
        "model_CRNN_GRU, training_history = build_model_CRNN_GRU(load_model_var_CNN, name_load_model_CNN, numHidden, image_shape)\n",
        "\n",
        "\n",
        "#model_CRNN_GRU.summary()\n",
        "#\n",
        "\n",
        "#--------------------------------------------------------------------------"
      ],
      "metadata": {
        "colab": {
          "base_uri": "https://localhost:8080/"
        },
        "id": "teQD4EgfeOzs",
        "outputId": "02df2b36-5b7c-4cfa-9fc0-4911c6fe5a9d"
      },
      "execution_count": 21,
      "outputs": [
        {
          "output_type": "stream",
          "name": "stdout",
          "text": [
            "Loading of Model: CRNN_1_2710\n",
            "Mounted at /drive\n",
            "Model weights loaded !\n",
            "History not loaded !\n"
          ]
        }
      ]
    },
    {
      "cell_type": "markdown",
      "source": [
        "##Compilation and creation of loss function"
      ],
      "metadata": {
        "id": "TSQ20YVBwZSt"
      }
    },
    {
      "cell_type": "markdown",
      "source": [
        "###Model_CRNN"
      ],
      "metadata": {
        "id": "PujbUbKyQGMw"
      }
    },
    {
      "cell_type": "code",
      "source": [
        "#############\n",
        "# Variables #\n",
        "#############\n",
        "\n",
        "model_compiled = model_CRNN_GRU\n",
        "\n",
        "#---------------------------------------\n",
        "\n",
        "#########################################\n",
        "# Definition of a loss function for CTC #\n",
        "#########################################\n",
        "\n",
        "#Loss function for CTC\n",
        "def loss(labels, logits):\n",
        "    return tf.reduce_mean(tf.nn.ctc_loss(\n",
        "        labels = labels,\n",
        "        logits = logits,\n",
        "        logit_length = [logits.shape[1]]*logits.shape[0],\n",
        "        label_length = None,\n",
        "        logits_time_major = False,\n",
        "        blank_index=-1))\n",
        "\n",
        "#----------------------------------------------------------\n",
        "\n",
        "######################################################\n",
        "# Compilation of model_3 with Adam and Loss function #\n",
        "######################################################\n",
        "from tensorflow.keras.optimizers import Adam\n",
        "\n",
        "model_compiled.compile(optimizer=Adam(1e-3),loss=loss)\n",
        "\n",
        "#------------------------------------------------------------"
      ],
      "metadata": {
        "id": "YDlUnu2CQH3D"
      },
      "execution_count": null,
      "outputs": []
    },
    {
      "cell_type": "markdown",
      "source": [
        "#Training"
      ],
      "metadata": {
        "id": "KASxMI-Rwr1w"
      }
    },
    {
      "cell_type": "markdown",
      "source": [
        "###Model_CRNN"
      ],
      "metadata": {
        "id": "_olz0nqLQaw1"
      }
    },
    {
      "cell_type": "code",
      "source": [
        "#############\n",
        "# Variables #\n",
        "#############\n",
        "\n",
        "save_model_var=False\n",
        "epochs = 20\n",
        "name_model = \"CRNN_2_2410\"\n",
        "model_trained = model_CRNN_GRU\n",
        "\n",
        "#---------------------------------------------------\n",
        "from google.colab import drive\n",
        "import pickle\n",
        "#########################\n",
        "# Training of the model #\n",
        "#########################\n",
        "\n",
        "#Training of model 3\n",
        "training_history=model_trained.fit(dataset_train,epochs=epochs, validation_data=dataset_validation)\n",
        "\n",
        "#---------------------------------------------------------\n",
        "#########################\n",
        "# Saving of the model   #\n",
        "#########################\n",
        "\n",
        "def save_model(save_model,model,name,training_hist=None):\n",
        "  drive.mount(\"/drive\",force_remount=True)\n",
        "  if save_model:\n",
        "    model.save_weights(\"/drive/MyDrive/DataScience/OCR/Models/\"+name)\n",
        "    print(\"Model saved !\")\n",
        "    if training_hist != None:\n",
        "      with open(\"/drive/MyDrive/DataScience/OCR/Models/\"+name+\"_training_history\", 'wb') as file_pi:\n",
        "        pickle.dump(training_history.history, file_pi)\n",
        "        print(\"History saved !\")\n",
        "  else:\n",
        "    print(\"Model not saved !\")\n",
        "\n",
        "save_model(save_model_var, model_trained,name_model,training_history)"
      ],
      "metadata": {
        "id": "aAvh8CToQc5C",
        "outputId": "b94870ef-b189-48f7-92c7-0c7191d42eaa",
        "colab": {
          "base_uri": "https://localhost:8080/"
        }
      },
      "execution_count": null,
      "outputs": [
        {
          "output_type": "stream",
          "name": "stdout",
          "text": [
            "Epoch 1/20\n",
            "678/678 [==============================] - 56s 79ms/step - loss: 12.0165 - val_loss: 15.6506\n",
            "Epoch 2/20\n",
            "678/678 [==============================] - 49s 72ms/step - loss: 6.4024 - val_loss: 6.6618\n",
            "Epoch 3/20\n",
            "678/678 [==============================] - 50s 73ms/step - loss: 4.1486 - val_loss: 3.5105\n",
            "Epoch 4/20\n",
            "678/678 [==============================] - 49s 72ms/step - loss: 3.3695 - val_loss: 3.0873\n",
            "Epoch 5/20\n",
            "678/678 [==============================] - 50s 74ms/step - loss: 2.8958 - val_loss: 3.1933\n",
            "Epoch 6/20\n",
            "678/678 [==============================] - 53s 77ms/step - loss: 2.6298 - val_loss: 2.8064\n",
            "Epoch 7/20\n",
            "678/678 [==============================] - 49s 73ms/step - loss: 2.3880 - val_loss: 2.8780\n",
            "Epoch 8/20\n",
            "678/678 [==============================] - 50s 73ms/step - loss: 2.2437 - val_loss: 2.3025\n",
            "Epoch 9/20\n",
            "678/678 [==============================] - 50s 73ms/step - loss: 2.0981 - val_loss: 2.5998\n",
            "Epoch 10/20\n",
            "678/678 [==============================] - 50s 73ms/step - loss: 1.9654 - val_loss: 2.1700\n",
            "Epoch 11/20\n",
            "678/678 [==============================] - 50s 73ms/step - loss: 1.8527 - val_loss: 2.0483\n",
            "Epoch 12/20\n",
            "678/678 [==============================] - 50s 74ms/step - loss: 1.7683 - val_loss: 2.3228\n",
            "Epoch 13/20\n",
            "678/678 [==============================] - 52s 77ms/step - loss: 1.7008 - val_loss: 2.2477\n",
            "Epoch 14/20\n",
            "678/678 [==============================] - 50s 73ms/step - loss: 1.6472 - val_loss: 2.1072\n",
            "Epoch 15/20\n",
            "678/678 [==============================] - 49s 73ms/step - loss: 1.5454 - val_loss: 2.0068\n",
            "Epoch 16/20\n",
            "678/678 [==============================] - 49s 73ms/step - loss: 1.5124 - val_loss: 1.8879\n",
            "Epoch 17/20\n",
            "678/678 [==============================] - 49s 73ms/step - loss: 1.4469 - val_loss: 1.9457\n",
            "Epoch 18/20\n",
            "678/678 [==============================] - 50s 73ms/step - loss: 1.4018 - val_loss: 1.8878\n",
            "Epoch 19/20\n",
            "678/678 [==============================] - 50s 73ms/step - loss: 1.3595 - val_loss: 1.8610\n",
            "Epoch 20/20\n",
            "678/678 [==============================] - 49s 72ms/step - loss: 1.3199 - val_loss: 2.1195\n",
            "Mounted at /drive\n",
            "Model saved !\n",
            "History saved !\n"
          ]
        }
      ]
    },
    {
      "cell_type": "code",
      "source": [
        "#############\n",
        "# Variables #\n",
        "#############\n",
        "\n",
        "history= training_history.history\n",
        "\n",
        "#-------------------------------------\n",
        "################################\n",
        "# Display of Training history  #\n",
        "################################\n",
        "\n",
        "plt.figure(figsize=(10,10))\n",
        "\n",
        "plt.plot(history[\"loss\"],label=\"Loss\")\n",
        "plt.plot(history[\"val_loss\"],label=\"Val_loss\")\n",
        "\n",
        "plt.legend()\n",
        "plt.xticks(np.arange(0,20,1));\n",
        "\n",
        "plt.xlim([0,19]);\n",
        "plt.grid()\n",
        "plt.xlabel(\"Epochs\")\n",
        "plt.ylabel(\"Loss value\");\n",
        "plt.title(\"Training history\");"
      ],
      "metadata": {
        "colab": {
          "base_uri": "https://localhost:8080/",
          "height": 621
        },
        "id": "-gZB6YjoJyUk",
        "outputId": "9c420b38-b67e-4a8f-bf76-cc42054c23d7"
      },
      "execution_count": null,
      "outputs": [
        {
          "output_type": "display_data",
          "data": {
            "text/plain": [
              "<Figure size 720x720 with 1 Axes>"
            ],
            "image/png": "[encoded data removed]"
          },
          "metadata": {
            "needs_background": "light"
          }
        }
      ]
    },
    {
      "cell_type": "markdown",
      "source": [
        "#Prediction & Evaluation"
      ],
      "metadata": {
        "id": "Wl-T6thUQrNs"
      }
    },
    {
      "cell_type": "markdown",
      "source": [
        "## Predictions"
      ],
      "metadata": {
        "id": "FPRodf3hy6BF"
      }
    },
    {
      "cell_type": "code",
      "source": [
        "#@title GreedyDecoder, Prediction, Orthographique Correction functions\n",
        "\n",
        "from textblob import TextBlob\n",
        "\n",
        "#####################################################\n",
        "# Definition of decode function and Greedy decoder  #\n",
        "#####################################################\n",
        "\n",
        "def decode_codes(codes):\n",
        "    table = tf.lookup.StaticHashTable(\n",
        "        tf.lookup.KeyValueTensorInitializer(\n",
        "            np.arange(len(charList)),\n",
        "            charList,\n",
        "            key_dtype=tf.int32\n",
        "        ),\n",
        "        '',\n",
        "        name='id2char'\n",
        "    )\n",
        "    return table.lookup(codes)\n",
        "\n",
        "def greedy_decoder(logits):\n",
        "    # ctc beam search decoder\n",
        "    predicted_codes, _ = tf.nn.ctc_greedy_decoder(\n",
        "        # shape of tensor [max_time x batch_size x num_classes]\n",
        "        tf.transpose(logits, (1, 0, 2)),\n",
        "        [logits.shape[1]]*logits.shape[0]\n",
        "    )\n",
        "\n",
        "    # convert to int32\n",
        "    codes = tf.cast(predicted_codes[0], tf.int32)\n",
        "\n",
        "    # Decode the index of caracter\n",
        "    text = decode_codes(codes)\n",
        "\n",
        "    # Convert a SparseTensor to string\n",
        "    text = tf.sparse.to_dense(text).numpy().astype(str)\n",
        "\n",
        "    return list(map(lambda x: ''.join(x), text))\n",
        "\n",
        "#--------------------------------------------------------\n",
        "\n",
        "#################################################\n",
        "# Function: Prediction and Decoding of dataset  #\n",
        "#################################################\n",
        "\n",
        "def predictions_decode(dataset,model):\n",
        "  y_pred=[]\n",
        "  y_true=[]\n",
        "  for X_t,y_t in dataset:\n",
        "    y_pred.append(greedy_decoder(model(X_t)))\n",
        "    y_true.append(y_t)\n",
        "\n",
        "\n",
        "  results=list(zip(np.array(y_true).flatten(),np.array(y_pred).flatten(),))\n",
        "  return y_true,y_pred,results\n",
        "\n",
        "#---------------------------------------------------------------\n",
        "\n",
        "###################################\n",
        "# Function: Prediction correction #\n",
        "###################################\n",
        "\n",
        "def correct_word(x):\n",
        "  return TextBlob(x).correct()\n",
        "\n",
        "def correct_prediction(y_true,y_pred):\n",
        "\n",
        "  y_pred_corr = map(correct_word,np.array(y_pred).flatten())\n",
        "  results_corrected=list(zip(np.array(y_true).flatten(),y_pred_corr,))\n",
        "\n",
        "  return y_pred_corr, results_corrected\n",
        "\n"
      ],
      "metadata": {
        "id": "cZqJTbtskND_"
      },
      "execution_count": null,
      "outputs": []
    },
    {
      "cell_type": "code",
      "source": [
        "#############\n",
        "# Variables #\n",
        "#############\n",
        "\n",
        "model = model_compiled\n",
        "dataset_test = dataset_test\n",
        "\n",
        "#--------------------------------------------------------\n",
        "######################################################\n",
        "# Decoded predictions and Orthographique corrections #\n",
        "######################################################\n",
        "\n",
        "y_true,y_pred, results = predictions_decode(dataset_test,model)\n",
        "\n",
        "y_pred_corr , results_corrected = correct_prediction(y_true,y_pred)\n",
        "\n"
      ],
      "metadata": {
        "id": "poycif5Xxjk0"
      },
      "execution_count": null,
      "outputs": []
    },
    {
      "cell_type": "markdown",
      "source": [
        "##Evaluation"
      ],
      "metadata": {
        "id": "7Yg8yd6ackPA"
      }
    },
    {
      "cell_type": "code",
      "source": [
        "#@title Word accuracy function\n",
        "##########################\n",
        "# Function Word accuracy #\n",
        "##########################\n",
        "import difflib\n",
        "\n",
        "def word_accuracy(results,verbose,name_results=None):\n",
        "\n",
        "  score=[]\n",
        "  for words in results: # Calculation of the percentage of letters accuracy for each word between transcription and prediction\n",
        "    score.append(difflib.SequenceMatcher(None,words[0].decode(\"utf-8\"),words[1]).ratio())\n",
        "  \n",
        "  if verbose:\n",
        "    print(\"The average accuracy for our words prediction,\",name_results,\", is: \",np.mean(score),\n",
        "      \"\\n\\n--------------------------------------------------------------------\\n\")\n",
        "    \n",
        "  return score\n",
        "\n",
        "#----------------------------------------"
      ],
      "metadata": {
        "cellView": "form",
        "id": "fkafSOWhn6-m"
      },
      "execution_count": null,
      "outputs": []
    },
    {
      "cell_type": "code",
      "source": [
        "#@title Display of the prediction accuracy\n",
        "#############\n",
        "# Variables #\n",
        "#############\n",
        "\n",
        "results = results\n",
        "results_corrected = results_corrected\n",
        "\n",
        "results_name = \"raw\"\n",
        "results_corrected_name = \"with autocorrect\"\n",
        "\n",
        "verbose = True\n",
        "\n",
        "#-----------------------------------------------------------------------------------------------------------------------------\n",
        "\n",
        "####################################\n",
        "# Evaluation of the words accuracy #\n",
        "####################################\n",
        "\n",
        "score = word_accuracy(results, verbose, results_name)\n",
        "score_corrected = word_accuracy(results_corrected,verbose, results_corrected_name)\n",
        "\n",
        "#-----------------------------------------------------\n",
        "\n",
        "##################################################\n",
        "# Display of the word accuracy (CER) repartition #\n",
        "##################################################\n",
        "\n",
        "plt.figure(figsize=(8,8))\n",
        "# evaluation of the histogram\n",
        "values, base = np.histogram(score, bins=100)\n",
        "values_corrected, base_corrected = np.histogram(score_corrected, bins=100)\n",
        "#evaluation the cumulative\n",
        "cumulative = np.cumsum(values)\n",
        "cumulative_corrected = np.cumsum(values_corrected)\n",
        "# plot the cumulative function\n",
        "plt.plot(base[:-1], cumulative/cumulative[-1], c='blue',label=\"Prediction\")\n",
        "plt.plot(base[:-1], cumulative_corrected/cumulative_corrected[-1], c='red',label=\"Prediction with autocorrect\")\n",
        "\n",
        "\n",
        "plt.title(\"Repartition of predictions accuracy (CER)\")\n",
        "plt.xlabel(\"Accuracy\")\n",
        "plt.ylabel(\"Predictions % below the accuracy\")\n",
        "plt.xticks(np.arange(0,1.1,0.1))\n",
        "plt.yticks(np.arange(0.1,1.1,0.1))\n",
        "plt.xlim([0,1])\n",
        "plt.ylim([0,1])\n",
        "plt.grid()\n",
        "plt.legend(loc=\"upper left\")\n",
        "plt.show();\n",
        "\n",
        "ar_res = np.array(results)\n",
        "ar_score = np.array(score)\n",
        "\n",
        "ar_res_cor = np.array(results_corrected)\n",
        "ar_score_cor = np.array(score_corrected)\n",
        "\n",
        "print(\"According to the graph we have for the basic predictions approximatly:\\n\",\n",
        "      \"-\",np.round((len(ar_res[(ar_score <= 0.1)])/len(ar_res))*100), \"% predictions at <10% of accuracy\\n\",\n",
        "      \"-\",np.round((len(ar_res[(0.1 < ar_score) & (ar_score <= 0.5)])/len(ar_res))*100)  ,\"% predictions between 10% - 50% of accuracy\\n\",\n",
        "      \"-\",np.round((len(ar_res[(0.5 < ar_score) & (ar_score <= 0.99)])/len(ar_res))*100) ,\"% predictions between 50%- 99% of accuracy\\n\",\n",
        "      \"-\",np.round((len(ar_res[(0.99 < ar_score)])/len(ar_res))*100) ,\"% predictions at 100% of accuracy\")\n",
        "\n",
        "print(\"\\n\\nAccording to the graph we have for the autocorrect predictions approximatly:\\n\",\n",
        "      \"-\",np.round((len(ar_res_cor[(ar_score_cor <= 0.1)])/len(ar_res_cor))*100), \"% predictions at <10% of accuracy\\n\",\n",
        "      \"-\",np.round((len(ar_res_cor[(0.1 < ar_score_cor) & (ar_score_cor <= 0.5)])/len(ar_res_cor))*100)  ,\"% predictions between 10% - 50% of accuracy\\n\",\n",
        "      \"-\",np.round((len(ar_res_cor[(0.5 < ar_score_cor) & (ar_score_cor <= 0.99)])/len(ar_res_cor))*100) ,\"% predictions between 50%- 99% of accuracy\\n\",\n",
        "      \"-\",np.round((len(ar_res_cor[(0.99 < ar_score_cor)])/len(ar_res_cor))*100) ,\"% predictions at 100% of accuracy\");"
      ],
      "metadata": {
        "id": "oR3oqvIaQsK_",
        "colab": {
          "base_uri": "https://localhost:8080/"
        },
        "outputId": "773874b3-6de8-485b-87f0-fbf2e73e1423",
        "cellView": "form"
      },
      "execution_count": null,
      "outputs": [
        {
          "output_type": "stream",
          "name": "stdout",
          "text": [
            "The average accuracy for our words prediction, raw , is:  0.9301559359315136 \n",
            "\n",
            "--------------------------------------------------------------------\n",
            "\n",
            "The average accuracy for our words prediction, with autocorrect , is:  0.923466293340604 \n",
            "\n",
            "--------------------------------------------------------------------\n",
            "\n"
          ]
        },
        {
          "output_type": "display_data",
          "data": {
            "text/plain": [
              "<Figure size 576x576 with 1 Axes>"
            ],
            "image/png": "[encoded data removed]"
          },
          "metadata": {
            "needs_background": "light"
          }
        },
        {
          "output_type": "stream",
          "name": "stdout",
          "text": [
            "According to the graph we have for the basic predictions approximatly:\n",
            " - 2.0 % predictions at <10% of accuracy\n",
            " - 2.0 % predictions between 10% - 50% of accuracy\n",
            " - 20.0 % predictions between 50%- 99% of accuracy\n",
            " - 76.0 % predictions at 100% of accuracy\n",
            "\n",
            "\n",
            "According to the graph we have for the autocorrect predictions approximatly:\n",
            " - 2.0 % predictions at <10% of accuracy\n",
            " - 4.0 % predictions between 10% - 50% of accuracy\n",
            " - 12.0 % predictions between 50%- 99% of accuracy\n",
            " - 82.0 % predictions at 100% of accuracy\n"
          ]
        },
        {
          "output_type": "stream",
          "name": "stderr",
          "text": [
            "/usr/local/lib/python3.7/dist-packages/ipykernel_launcher.py:55: VisibleDeprecationWarning: Creating an ndarray from ragged nested sequences (which is a list-or-tuple of lists-or-tuples-or ndarrays with different lengths or shapes) is deprecated. If you meant to do this, you must specify 'dtype=object' when creating the ndarray.\n"
          ]
        }
      ]
    },
    {
      "cell_type": "code",
      "source": [
        "#@title Display of several failed predictions\n",
        "#############\n",
        "# Variables #\n",
        "#############\n",
        "\n",
        "results = results\n",
        "score = score\n",
        "#-------------------------------------------\n",
        "\n",
        "########################################\n",
        "# Display of several failed prediction #\n",
        "########################################\n",
        "\n",
        "np.array(results)[np.array(score) < 0.1][:10]\n",
        "\n",
        "#-------------------------------------------"
      ],
      "metadata": {
        "colab": {
          "base_uri": "https://localhost:8080/"
        },
        "id": "YxkJniiarnkY",
        "outputId": "5986ef2b-b179-4178-cb6c-01fdd9558fdb",
        "cellView": "form"
      },
      "execution_count": null,
      "outputs": [
        {
          "output_type": "execute_result",
          "data": {
            "text/plain": [
              "array([[\"'\", '.'],\n",
              "       [\"'\", ','],\n",
              "       [\"'\", ','],\n",
              "       ['is', 'to'],\n",
              "       ['.', '\"'],\n",
              "       ['I', ','],\n",
              "       [\"'\", ','],\n",
              "       [',', '.'],\n",
              "       ['I', ','],\n",
              "       [\"'\", '.']], dtype='<U17')"
            ]
          },
          "metadata": {},
          "execution_count": 65
        }
      ]
    },
    {
      "cell_type": "code",
      "source": [],
      "metadata": {
        "id": "gh9ti1SeqRgU"
      },
      "execution_count": null,
      "outputs": []
    },
    {
      "cell_type": "markdown",
      "source": [
        "# Reading of one form using a model"
      ],
      "metadata": {
        "id": "4yt3g2eT3U5H"
      }
    },
    {
      "cell_type": "code",
      "source": [
        "#############\n",
        "# Variables #\n",
        "#############\n",
        "\n",
        "form_id =\"a01-020u\"\n",
        "\n",
        "#--------------------------------------------------------------------------\n",
        "from pathlib import Path\n",
        "import imghdr\n",
        "\n",
        "##################################\n",
        "#   Removal of unwanted Column   #\n",
        "##################################\n",
        "\n",
        "list_columns_to_remove=[\"segmentation_result\",\"gray_level\",\"x\",\"y\",\"pxw\",\"pxh\",\"grammatical_tag\",\"number_components\"]\n",
        "\n",
        "form_df = word_txt[word_txt.segmentation_result == \"ok\"]\\\n",
        "          .drop(columns=list_columns_to_remove)\n",
        "\n",
        "################################\n",
        "# Selection of wanted form     #\n",
        "################################\n",
        "\n",
        "form_df = form_df[form_df.word_id.str.contains(form_id)]\n",
        "\n",
        "#----------------------------------------------------\n",
        "\n",
        "###############################\n",
        "#    Removal of corrupt image #\n",
        "###############################\n",
        "\n",
        "print(\"df Length: \",len(form_df))\n",
        "form_df[\"filepath\"]=form_df.word_id.apply(img_path)\n",
        "form_df=removal_of_corrupt_image(form_df)\n",
        "print(\"df Length: \",len(form_df))"
      ],
      "metadata": {
        "colab": {
          "base_uri": "https://localhost:8080/"
        },
        "id": "R7sAUsAR0t8y",
        "outputId": "3838cc83-fe8a-4f6e-a78f-3ad4a6efcc80"
      },
      "execution_count": null,
      "outputs": [
        {
          "output_type": "stream",
          "name": "stdout",
          "text": [
            "df Length:  68\n",
            "data/words/r06/r06-022/r06-022-03-05.png is not an image\n",
            "data/words/a01/a01-117/a01-117-05-02.png is not an image\n",
            "df Length:  68\n"
          ]
        }
      ]
    },
    {
      "cell_type": "code",
      "source": [
        "#############\n",
        "# Variables #\n",
        "#############\n",
        "\n",
        "model = model_CRNN_GRU\n",
        "batch_size = 1\n",
        "image_width=128\n",
        "image_height=32\n",
        "imgSize = (image_height, image_width)\n",
        "\n",
        "#-----------------------------------\n",
        "\n",
        "#########################################\n",
        "# Creation of the train & test datasets #\n",
        "#########################################\n",
        "\n",
        "# Creation of dataset_train tensor and preprocessing of images\n",
        "data_form = tf.data.Dataset.from_tensor_slices((form_df.filepath.values, form_df.transcription.values))\n",
        "data_form = data_form\\\n",
        "                .map(lambda x, y : [preprocess(x, imgSize, dataAugmentation=True, scale=0.8, isthreshold=True), y])\\\n",
        "                .batch(batch_size, drop_remainder=True)\n",
        "\n",
        "#-----------------------------------------------------------------------------\n",
        "\n",
        "##############################\n",
        "# Prediction using the model #\n",
        "##############################\n",
        "\n",
        "y_pred=[]\n",
        "y_true=[]\n",
        "for X_t,y_t in data_form:\n",
        "  y_pred.append(greedy_decoder(model(X_t)))\n",
        "  y_true.append(y_t.numpy()[0].decode(\"utf-8\"))\n",
        "\n",
        "results=list(zip(np.array(y_true).flatten(),np.array(y_pred).flatten(),))\n",
        "\n",
        "\n",
        "y_pred=np.array(y_pred).flatten()\n",
        "y_true=np.array(y_true).flatten()\n",
        "\n",
        "pred_text=' '.join(y_pred)\n",
        "true_text=' '.join(y_true)\n",
        "\n",
        "print(\"\\nTrue text:\\n\")\n",
        "print(true_text)\n",
        "print(\"\\nPredicted text:\\n\")\n",
        "print(pred_text)\n",
        "print(\"\\nCorrected predicted text:\\n\")\n",
        "print(correct_word(pred_text))\n"
      ],
      "metadata": {
        "colab": {
          "base_uri": "https://localhost:8080/"
        },
        "id": "joksWBqE2Hd2",
        "outputId": "d2a7a1c7-50a5-4cba-81b1-d97dd1854f2f"
      },
      "execution_count": null,
      "outputs": [
        {
          "output_type": "stream",
          "name": "stdout",
          "text": [
            "\n",
            "True text:\n",
            "\n",
            "Mr. Macleod went on with the conference at Lancaster House despite the crisis which had blown up . He has now revealed his full plans to the Africans and Liberals attending . These plans do not give the Africans the overall majority they are seeking . African delegates are studying them today . The conference will meet to discuss the function of a proposed House of Chiefs .\n",
            "\n",
            "Predicted text:\n",
            "\n",
            "MR. Maclead went an with the conference at Lancaster House despite the arisis which had blown up . He has now revealed his full plans to the Africans and likeats attending . These olcuss do not give the Africans the overall mgjority they are seeking . African delegates oe studying them tody . The conference will meer to discuss the function of a puoposed House of Chiefs .\n",
            "\n",
            "Corrected predicted text:\n",
            "\n",
            "of. Maclead went an with the conference at Lancaster House despite the crisis which had blown up . He has now revealed his full plans to the Africans and likes attending . These occurs do not give the Africans the overall majority they are seeking . African delegates oe studying them body . The conference will meet to discuss the function of a proposed House of Chiefs .\n"
          ]
        }
      ]
    },
    {
      "cell_type": "markdown",
      "source": [
        "# Segmentation of a Form to a list of words"
      ],
      "metadata": {
        "id": "tudP3OdFMQ_Y"
      }
    },
    {
      "cell_type": "markdown",
      "source": [
        "## Creation of the list of word images"
      ],
      "metadata": {
        "id": "EDzlI90ueivO"
      }
    },
    {
      "cell_type": "code",
      "execution_count": null,
      "metadata": {
        "id": "vjRYi8gO8VJc",
        "colab": {
          "base_uri": "https://localhost:8080/"
        },
        "outputId": "3af083ec-f6e2-4aca-da0a-a47115894d9d",
        "cellView": "form"
      },
      "outputs": [
        {
          "output_type": "stream",
          "name": "stdout",
          "text": [
            "Drive already mounted at /drive; to attempt to forcibly remount, call drive.mount(\"/drive\", force_remount=True).\n"
          ]
        }
      ],
      "source": [
        "#@title Mounting the drive (having the form images) and listing of the paths\n",
        "from google.colab import drive\n",
        "import tarfile\n",
        "import os\n",
        "\n",
        "formsAD_path = \"./formsA-D/\"\n",
        "\n",
        "drive.mount(\"/drive\")\n",
        "list_tar=[\"lines\",\"formsA-D\"]\n",
        "for name in list_tar:\n",
        "  my_tar = tarfile.open(\"/drive/MyDrive/DataScience/OCR/\"+name+\".tgz\")\n",
        "  my_tar.extractall('./'+name) # specify which folder to extract to\n",
        "\n",
        "my_tar.close()\n",
        "\n",
        "dir_list=os.listdir(formsAD_path)\n",
        "dir_list = list(map(lambda x :formsAD_path+x,dir_list))"
      ]
    },
    {
      "cell_type": "code",
      "source": [
        "#@title Functions to cut lines from form\n",
        "import numpy as np\n",
        "#img = np.sum(cv2.imread(formid),axis=2)[690:2700]\n",
        "def black_white_img(formid):\n",
        "  img = cv2.imread(formid)\n",
        "  img = cv2.cvtColor(img, cv2.COLOR_BGR2GRAY)#[690:2700]\n",
        "\n",
        "  (thresh, blackAndWhiteImage) = cv2.threshold(img, 127, 255, cv2.THRESH_BINARY)\n",
        "  return blackAndWhiteImage\n",
        "\n",
        "def get_line_cut(img):\n",
        "  img_col = np.sum(img,axis=1)\n",
        "  list_lines= []\n",
        "\n",
        "  for i, value in enumerate(img_col):\n",
        "    if value > img_col.mean():\n",
        "      list_lines.append(i)\n",
        "  #list_lines.append(1e10)\n",
        "\n",
        "  new_list_lines=[]\n",
        "  temporary_list=[]\n",
        "  last_line=list_lines[0]\n",
        "  for line in list_lines:\n",
        "    if line <= last_line+15:\n",
        "      \n",
        "      temporary_list.append(line)\n",
        "      last_line = line\n",
        "    \n",
        "    else:\n",
        "      \n",
        "      new_list_lines.append(int(np.mean(temporary_list)))\n",
        "      temporary_list=[line]\n",
        "      last_line = line\n",
        "\n",
        "  temp_list=[]\n",
        "  for i in range(len(new_list_lines)-1):\n",
        "    temp_list.append(new_list_lines[i+1]-new_list_lines[i])\n",
        "\n",
        "  new_list_lines.append(new_list_lines[-1]+int(np.mean(temp_list)))\n",
        "  return new_list_lines\n",
        "\n",
        "def get_lines(img):\n",
        "  max_line=[]\n",
        "  for line in (img==0):\n",
        "    compteur_list=[]\n",
        "    compteur=0\n",
        "    \n",
        "    for col in line:\n",
        "      \n",
        "      if col == True:\n",
        "        compteur = compteur+1\n",
        "      else:\n",
        "        compteur_list.append(compteur)\n",
        "        compteur=0\n",
        "\n",
        "    compteur_list.append(compteur)\n",
        "    \n",
        "    max_line.append(np.max(compteur_list))\n",
        "  max_line=np.array(max_line)\n",
        "\n",
        "  return max_line"
      ],
      "metadata": {
        "id": "6scmNPmS7uvM",
        "cellView": "form"
      },
      "execution_count": null,
      "outputs": []
    },
    {
      "cell_type": "code",
      "source": [
        "#@title Random selection and display of the formID\n",
        "formid = dir_list[np.random.randint(0,len(dir_list))]\n",
        "img_color=cv2.imread(formid)\n",
        "img_bw=black_white_img(formid)\n",
        "\n",
        "list_lines=get_line_cut(img_bw)\n",
        "\n",
        "plt.figure(figsize=(10,10))\n",
        "\n",
        "plt.imshow(img_bw,cmap=\"gray\")\n",
        "plt.title(formid)\n"
      ],
      "metadata": {
        "colab": {
          "base_uri": "https://localhost:8080/",
          "height": 624
        },
        "id": "eNgfuJU80Ztm",
        "outputId": "061422a7-e54b-47d6-f1de-732a1f1ba35d",
        "cellView": "form"
      },
      "execution_count": null,
      "outputs": [
        {
          "output_type": "execute_result",
          "data": {
            "text/plain": [
              "Text(0.5, 1.0, './formsA-D/c02-026.png')"
            ]
          },
          "metadata": {},
          "execution_count": 31
        },
        {
          "output_type": "display_data",
          "data": {
            "text/plain": [
              "<Figure size 720x720 with 1 Axes>"
            ],
            "image/png": "[encoded data removed]"
          },
          "metadata": {
            "needs_background": "light"
          }
        }
      ]
    },
    {
      "cell_type": "code",
      "source": [
        "#@title Creation and display of the list of lines from the form\n",
        "max_line=get_lines(img_bw)\n",
        "max_line=max_line>max_line.max()/2\n",
        "x_bot=np.argsort(max_line[2000:])[-1]+2000-10\n",
        "x_top=np.argsort(max_line[500:1000])[-1]+500+10\n",
        "\n",
        "only_text_img_color = img_color[x_top:x_bot,:,:]\n",
        "only_text_img_bw = img_bw[x_top:x_bot,:]\n",
        "\n",
        "lines=get_line_cut(only_text_img_bw)\n",
        "\n",
        "list_img_lines=[]\n",
        "for i in range(len(lines)-1):\n",
        "  list_img_lines.append(only_text_img_color[lines[i]:lines[i+1],:,:])\n",
        "\n",
        "for j in range(len(list_img_lines)):\n",
        "  plt.subplot(len(list_img_lines),1,j+1)\n",
        "  plt.axis('off')\n",
        "  plt.imshow(list_img_lines[j],cmap=\"gray\")"
      ],
      "metadata": {
        "colab": {
          "base_uri": "https://localhost:8080/",
          "height": 248
        },
        "id": "-ioyDAq6AF7I",
        "outputId": "b37c015a-f2f6-4ed8-a3ee-7e9836754b53"
      },
      "execution_count": null,
      "outputs": [
        {
          "output_type": "display_data",
          "data": {
            "text/plain": [
              "<Figure size 432x288 with 9 Axes>"
            ],
            "image/png": "[encoded data removed]"
          },
          "metadata": {
            "needs_background": "light"
          }
        }
      ]
    },
    {
      "cell_type": "code",
      "source": [
        "#@title Functions for word cutting\n",
        "import cv2\n",
        "import numpy as np\n",
        "\n",
        "def image_contour(img):\n",
        "    src_gray = cv2.cvtColor(img, cv2.COLOR_BGR2GRAY)\n",
        "    src_gray = cv2.blur(src_gray, (3,3))\n",
        "    threshold=100\n",
        "    canny_output = cv2.Canny(src_gray, threshold, threshold * 2)\n",
        "    \n",
        "    return src_gray,cv2.findContours(canny_output, cv2.RETR_LIST, cv2.CHAIN_APPROX_NONE)\n",
        "\n",
        "    \n",
        "def image_with_contours(img,contours=None):\n",
        "    if contours==None:\n",
        "        img, (contours,hierarchy) = image_contour(img)\n",
        "    \n",
        "    else:\n",
        "        img = img[...,-1].astype(np.uint8)*255\n",
        "\n",
        "    image_copy = cv2.cvtColor(img, cv2.COLOR_GRAY2RGB)\n",
        "    plt.figure(figsize=(10,15))\n",
        "    return cv2.drawContours(image=image_copy, \n",
        "                                contours=contours, \n",
        "                                contourIdx=-1, \n",
        "                                color=(0, 255, 0), \n",
        "                                thickness=4, \n",
        "                                lineType=cv2.LINE_AA);\n",
        "\n",
        "def display_contour_box(img,contours=None):\n",
        "    \n",
        "    if contours==None:\n",
        "      image_copy,(contours,hierarchy) = image_contour(img)\n",
        "    \n",
        "    else:\n",
        "      src_gray = cv2.cvtColor(img, cv2.COLOR_BGR2GRAY)\n",
        "      image_copy = cv2.blur(src_gray, (3,3))\n",
        "\n",
        "    for c in contours:\n",
        "        x, y, w, h = cv2.boundingRect(c)\n",
        "        cv2.rectangle(image_copy, (x, y), (x + w, y + h), (36,255,12), 2)\n",
        "\n",
        "    plt.figure(figsize=(20,30))\n",
        "    plt.imshow(image_copy.astype(int))\n",
        "    plt.xticks([])\n",
        "    plt.yticks([]);\n",
        "\n",
        "\n",
        "def create_new_contours(contours,xmax,ymax):\n",
        "  list_of_exempt=[]\n",
        "  new_contours=[]\n",
        "  for i,c1 in enumerate(contours):\n",
        "    if i in list_of_exempt:\n",
        "      \n",
        "      pass\n",
        "    \n",
        "    else:\n",
        "      list_of_exempt.append(i)\n",
        "      for j,c2 in enumerate(contours):\n",
        "        if j in list_of_exempt:\n",
        "          pass\n",
        "        \n",
        "        else:\n",
        "          rec1=cv2.boundingRect(c1)\n",
        "          rec2=cv2.boundingRect(c2)\n",
        "          ctot=np.vstack([c1,c2])\n",
        "          rectot=cv2.boundingRect(ctot)\n",
        "\n",
        "          rec1=np.array(rec1)\n",
        "          rec2=np.array(rec2)\n",
        "          rectot=np.array(rectot)\n",
        "\n",
        "          y_dist=rectot[3]-(rec1[3]+rec2[3])\n",
        "          x_dist=rectot[2]-(rec1[2]+rec2[2])\n",
        "          y_start_dist=np.abs(rec1[1]-rec2[1])\n",
        "\n",
        "          if y_dist < ymax and x_dist<xmax:\n",
        "            \n",
        "            c1=ctot\n",
        "            list_of_exempt.append(j)\n",
        "\n",
        "       \n",
        "      new_contours.append(c1)\n",
        "\n",
        "  return new_contours\n",
        "\n",
        "def contours_sorting(contours):\n",
        "  list_x=[]\n",
        "  for i,c in enumerate(contours):\n",
        "    x, y, w, h = cv2.boundingRect(c)\n",
        "    list_x.append([i,x])\n",
        "  list_x= np.array(list_x)\n",
        "  list_x=list_x[list_x[:, 1].argsort()]\n",
        "\n",
        "  temp_contours=[]\n",
        "\n",
        "  for val in list_x:\n",
        "    i = val[0]\n",
        "    temp_contours.append(mycontours[i])\n",
        "  return temp_contours"
      ],
      "metadata": {
        "cellView": "form",
        "id": "E3KAjpvlBbZO"
      },
      "execution_count": null,
      "outputs": []
    },
    {
      "cell_type": "code",
      "source": [
        "#@title Segmentation of the lines and Creation of the list of word image from the form\n",
        "def get_contour_image(img,c):\n",
        "  x, y, w, h = cv2.boundingRect(c)\n",
        "  return img[y:y+h,x:x+w]\n",
        "\n",
        "list_words_img=[]\n",
        "\n",
        "for img_line in list_img_lines:\n",
        "\n",
        "  gray, (contours,hierarchy) = image_contour(img_line)\n",
        "  import numpy as np\n",
        "  mycontours=contours\n",
        "  for l in range(10):\n",
        "    #print(\"Iteration:\",l)\n",
        "    mycontours=create_new_contours(mycontours,25,100)\n",
        "\n",
        "  mycontours = contours_sorting(mycontours)\n",
        "\n",
        "\n",
        "  for c in mycontours:\n",
        "    list_words_img.append(get_contour_image(img_line,c))\n",
        "\n",
        "\n",
        "#display_contour_box(img_line,mycontours)"
      ],
      "metadata": {
        "id": "D90zo5WNAF1v",
        "cellView": "form"
      },
      "execution_count": null,
      "outputs": []
    },
    {
      "cell_type": "code",
      "source": [
        "#@title Saving of the word images, listing of the paths and sorting of the list \n",
        "from PIL import Image\n",
        "import os\n",
        "\n",
        "directory_path=\"./formTest/\"\n",
        "\n",
        "try:\n",
        "    os.mkdir(directory_path)\n",
        "except OSError as error:\n",
        "   pass \n",
        "\n",
        "for i, word_img in enumerate(list_words_img):\n",
        "  im = Image.fromarray(word_img)\n",
        "  im.save(directory_path+str(i)+\".png\")\n",
        "\n",
        "dir_list=os.listdir(directory_path)\n",
        "dir_list = list(map(lambda x :directory_path+x,dir_list))\n",
        "\n",
        "#######################\n",
        "# Sorting of the list #\n",
        "#######################\n",
        "\n",
        "import re\n",
        "\n",
        "def atoi(text):\n",
        "    return int(text) if text.isdigit() else text\n",
        "\n",
        "def natural_keys(text):\n",
        "    '''\n",
        "    alist.sort(key=natural_keys) sorts in human order\n",
        "    http://nedbatchelder.com/blog/200712/human_sorting.html\n",
        "    (See Toothy's implementation in the comments)\n",
        "    '''\n",
        "    return [ atoi(c) for c in re.split(r'(\\d+)', text) ]\n",
        "\n",
        "\n",
        "dir_list.sort(key=natural_keys)"
      ],
      "metadata": {
        "id": "ulZsfklmApiL",
        "cellView": "form"
      },
      "execution_count": null,
      "outputs": []
    },
    {
      "cell_type": "markdown",
      "source": [
        "##Prediction"
      ],
      "metadata": {
        "id": "0aBO4goVcRLa"
      }
    },
    {
      "cell_type": "code",
      "source": [
        "#############\n",
        "# Variables #\n",
        "#############\n",
        "\n",
        "model = model_CRNN_GRU\n",
        "batch_size = 1\n",
        "image_width=128\n",
        "image_height=32\n",
        "imgSize = (image_height, image_width)\n",
        "form_id =formid.split(\"/\")[-1].split(\".\")[0]\n",
        "\n",
        "#--------------------------------------------------------------------------\n",
        "from pathlib import Path\n",
        "import imghdr\n",
        "\n",
        "################################################################\n",
        "#   Creation of the transcription linked to the form studied   #\n",
        "################################################################\n",
        "\n",
        "list_columns_to_remove=[\"segmentation_result\",\"gray_level\",\"x\",\"y\",\"pxw\",\"pxh\",\"grammatical_tag\",\"number_components\"]\n",
        "\n",
        "form_df = word_txt[word_txt.segmentation_result == \"ok\"]\\\n",
        "          .drop(columns=list_columns_to_remove)\n",
        "\n",
        "form_df = form_df[form_df.word_id.str.contains(form_id)]\n",
        "true_text=form_df.transcription.apply(lambda x: x+\" \").sum()\n",
        "\n",
        "#---------------------------------------------------------------\n",
        "\n",
        "#########################################\n",
        "# Creation of the train & test datasets #\n",
        "#########################################\n",
        "\n",
        "# Creation of dataset_train tensor and preprocessing of images\n",
        "data_form = tf.data.Dataset.from_tensor_slices((dir_list, range(len(list_words_img))))\n",
        "data_form = data_form\\\n",
        "                .map(lambda x, y : [preprocess(x, imgSize, dataAugmentation=True, scale=0.8, isthreshold=True), y])\\\n",
        "                .batch(batch_size, drop_remainder=True)\n",
        "\n",
        "#-----------------------------------------------------------------------------\n",
        "\n",
        "##############################\n",
        "# Prediction using the model #\n",
        "##############################\n",
        "\n",
        "y_pred=[]\n",
        "y_true=[]\n",
        "for X_t,y_t in data_form:\n",
        "  y_pred.append(greedy_decoder(model(X_t)))\n",
        "  y_true.append(y_t)\n",
        "\n",
        "results=list(zip(np.array(y_true).flatten(),np.array(y_pred).flatten(),))\n",
        "\n",
        "y_pred=np.array(y_pred).flatten()\n",
        "y_true=np.array(y_true).flatten()\n",
        "\n",
        "pred_text=' '.join(y_pred)\n",
        "true_text=true_text\n",
        "\n",
        "print(\"\\nTrue text:\\n\")\n",
        "print(true_text)\n",
        "print(\"\\nPredicted text:\\n\")\n",
        "print(pred_text)\n",
        "print(\"\\nCorrected predicted text:\\n\")\n",
        "print(correct_sentence(pred_text))\n"
      ],
      "metadata": {
        "colab": {
          "base_uri": "https://localhost:8080/"
        },
        "id": "MSb-nTY8SINv",
        "outputId": "2d610ae9-46a1-40fa-9951-6f37098d6544"
      },
      "execution_count": null,
      "outputs": [
        {
          "output_type": "stream",
          "name": "stdout",
          "text": [
            "\n",
            "True text:\n",
            "\n",
            "A summary of the story can give almost tells his story best in the faces of his crowds , recording every wrinkle and drop of sweat with brutal honesty , building up to a tremendous climax in the island orgy . the wildly flapping white sails slashed by the glaring beacon of a lighthouse . \n",
            "\n",
            "Predicted text:\n",
            "\n",
            ", A summiay of the sttry em give eluasit , inodiceation of the icape Wimki's atitny . Hhe ! Hlls his shry best in the faces of wn cioudsy ! recviding ewwry wrinkle amd drep of sweat . ! with Drtal homnty , builtdhing up to a , tremendous clmenx in tle islemd oxgd . ! there , the ganst arrive in puest alike joudere , , the widly thapping wite jaike slanshed by ! the glaring beacon of a Cghthioules .\n",
            "\n",
            "Corrected predicted text:\n",
            "\n",
            ", A summary of the story em give eluasit , indication of the cape Mimi's tiny . The ! Ills his shy best in the faces of in clouds ! receiving every wrinkle and deep of sweat . ! with Real county , building up to a , tremendous client in the island old . ! there , the canst arrive in guest alike louder , , the widely tapping with jake slashed by ! the glaring beacon of a Cghthioules .\n"
          ]
        }
      ]
    },
    {
      "cell_type": "code",
      "source": [],
      "metadata": {
        "id": "gGdbtx3KWtIZ"
      },
      "execution_count": null,
      "outputs": []
    },
    {
      "cell_type": "code",
      "source": [],
      "metadata": {
        "id": "Y2-SEI5gYrJA"
      },
      "execution_count": null,
      "outputs": []
    },
    {
      "cell_type": "code",
      "source": [],
      "metadata": {
        "id": "bR-dr2ShYrFu"
      },
      "execution_count": null,
      "outputs": []
    }
  ]
}