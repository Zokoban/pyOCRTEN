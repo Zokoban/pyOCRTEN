{
  "nbformat": 4,
  "nbformat_minor": 0,
  "metadata": {
    "colab": {
      "provenance": [],
      "collapsed_sections": [
        "vSOxAd01zY5-"
      ],
      "authorship_tag": "ABX9TyOdlJGLv41OROs1lA4mS0OP",
      "include_colab_link": true
    },
    "kernelspec": {
      "name": "python3",
      "display_name": "Python 3"
    },
    "language_info": {
      "name": "python"
    },
    "accelerator": "GPU"
  },
  "cells": [
    {
      "cell_type": "markdown",
      "metadata": {
        "id": "view-in-github",
        "colab_type": "text"
      },
      "source": [
        "<a href=\"https://colab.research.google.com/github/Zokoban/pyOCRTEN/blob/Full_TensorFlow/ocr_project.ipynb\" target=\"_parent\"><img src=\"https://colab.research.google.com/assets/colab-badge.svg\" alt=\"Open In Colab\"/></a>"
      ]
    },
    {
      "cell_type": "markdown",
      "source": [
        "To Do List :\n",
        "\n",
        "Modeling:\n",
        "*   Test other neural network structure (LSTM cell)\n",
        "*   Change the neural network to line prediction instead of word prediction\n",
        "\n",
        "Pre_processing:\n",
        "*   Focus on the bad result and find some improvement solution :\n",
        ">1.   Use image_generation\n",
        ">2.   Implement Caracter Error Rate (CER)\n",
        ">3.   Check the symbols/characters which have the lowest prediction result and find solution (For example: generate more image related to these symbols)\n",
        "\n",
        "Model post_processing:\n",
        "*\tWork on the \"greedy decoder\" to improve the prediction choice at the end\n",
        "\n",
        "End result processing:\n",
        "*\tWork on the Prediction end result to improve it through a new model such as:\n",
        ">1.\tOrthographic model (done)\n",
        ">2.\tNLP model\n",
        "\n",
        "General:\n",
        "*\tImprove the general aesthetic:\n",
        ">1.\tCreate pretty diagram\n",
        ">2.\tAdd more comments\n",
        ">3.\tAdd more \"text\" cell for explanation\n",
        ">4.\tImprove the aesthetic of the titles, etc...\n",
        "\n",
        "Model application next steps:\n",
        "*\tCreate our own segmentation method to directly perform prediction on the form image instead of using the images provided by the dataset. (ongoing)\n"
      ],
      "metadata": {
        "id": "DivLD0hdQbpc"
      }
    },
    {
      "cell_type": "markdown",
      "source": [
        "## Download all data on the drive "
      ],
      "metadata": {
        "id": "rY2t8iv40Atm"
      }
    },
    {
      "cell_type": "code",
      "source": [
        "!wget -q https://git.io/J0fjL -O IAM_Words.zip\n",
        "!unzip -qq IAM_Words.zip\n",
        "!\n",
        "!mkdir data\n",
        "!mkdir data/words\n",
        "!tar -xf IAM_Words/words.tgz -C data/words\n",
        "!mv IAM_Words/words.txt data"
      ],
      "metadata": {
        "id": "pQd5d8OitoDO"
      },
      "execution_count": 1,
      "outputs": []
    },
    {
      "cell_type": "markdown",
      "source": [
        "## Load all the required packages"
      ],
      "metadata": {
        "id": "TQBEwYLH0FP5"
      }
    },
    {
      "cell_type": "code",
      "source": [
        "import pandas as pd\n",
        "import numpy as np\n",
        "import csv\n",
        "import cv2\n",
        "import matplotlib.pyplot as plt\n",
        "%matplotlib inline\n",
        "\n",
        "from sklearn.model_selection import train_test_split\n",
        "from tensorflow.keras.utils import to_categorical"
      ],
      "metadata": {
        "id": "PiYqf_7Uz_YR"
      },
      "execution_count": 2,
      "outputs": []
    },
    {
      "cell_type": "markdown",
      "source": [
        "# Data Preparation"
      ],
      "metadata": {
        "id": "iiYO8MgWbaYA"
      }
    },
    {
      "cell_type": "markdown",
      "source": [
        "## Load word.txt file"
      ],
      "metadata": {
        "id": "Xiv8jaZB0LZo"
      }
    },
    {
      "cell_type": "code",
      "source": [
        "word_txt=pd.read_csv(\"data/words.txt\", \n",
        "                     sep=' ', \n",
        "                     names=[\"word_id\",\"segmentation_result\",\"gray_level\",\"x\",\"y\",\"pxw\",\"pxh\",\"grammatical_tag\",\"transcription_1\",\"transcription_2\",\"transcription_3\"], \n",
        "                     quoting=csv.QUOTE_NONE, \n",
        "                     skiprows=18, \n",
        "                     on_bad_lines=\"warn\")\n",
        "\n",
        "def f(x):\n",
        "    if x == \"nan\":\n",
        "        return \"\"\n",
        "    else:\n",
        "        return x\n",
        "word_txt[\"transcription\"]=word_txt.transcription_1.astype(\"str\")+word_txt.transcription_2.astype(\"str\").apply(f)+word_txt.transcription_3.astype(\"str\").apply(f)\n",
        "word_txt=word_txt.drop(columns=[\"transcription_1\",\"transcription_2\",\"transcription_3\"])\n",
        "\n",
        "def f(x):\n",
        "    return len(x)\n",
        "\n",
        "word_txt[\"number_components\"]=word_txt.transcription.apply(f)\n",
        "\n",
        "print(\"word_txt Length: \",len(word_txt))\n",
        "word_txt.head()"
      ],
      "metadata": {
        "colab": {
          "base_uri": "https://localhost:8080/",
          "height": 0
        },
        "id": "mWa3zM2KvL5q",
        "outputId": "6ee88fb9-6810-40be-ef63-2fc3f2896df2"
      },
      "execution_count": 3,
      "outputs": [
        {
          "output_type": "stream",
          "name": "stdout",
          "text": [
            "word_txt Length:  115320\n"
          ]
        },
        {
          "output_type": "execute_result",
          "data": {
            "text/plain": [
              "          word_id segmentation_result  gray_level     x    y  pxw  pxh  \\\n",
              "0  a01-000u-00-00                  ok         154   408  768   27   51   \n",
              "1  a01-000u-00-01                  ok         154   507  766  213   48   \n",
              "2  a01-000u-00-02                  ok         154   796  764   70   50   \n",
              "3  a01-000u-00-03                  ok         154   919  757  166   78   \n",
              "4  a01-000u-00-04                  ok         154  1185  754  126   61   \n",
              "\n",
              "  grammatical_tag transcription  number_components  \n",
              "0              AT             A                  1  \n",
              "1              NN          MOVE                  4  \n",
              "2              TO            to                  2  \n",
              "3              VB          stop                  4  \n",
              "4             NPT           Mr.                  3  "
            ],
            "text/html": [
              "\n",
              "  <div id=\"df-cbb52d74-4421-48a4-9782-3e9167b05463\">\n",
              "    <div class=\"colab-df-container\">\n",
              "      <div>\n",
              "<style scoped>\n",
              "    .dataframe tbody tr th:only-of-type {\n",
              "        vertical-align: middle;\n",
              "    }\n",
              "\n",
              "    .dataframe tbody tr th {\n",
              "        vertical-align: top;\n",
              "    }\n",
              "\n",
              "    .dataframe thead th {\n",
              "        text-align: right;\n",
              "    }\n",
              "</style>\n",
              "<table border=\"1\" class=\"dataframe\">\n",
              "  <thead>\n",
              "    <tr style=\"text-align: right;\">\n",
              "      <th></th>\n",
              "      <th>word_id</th>\n",
              "      <th>segmentation_result</th>\n",
              "      <th>gray_level</th>\n",
              "      <th>x</th>\n",
              "      <th>y</th>\n",
              "      <th>pxw</th>\n",
              "      <th>pxh</th>\n",
              "      <th>grammatical_tag</th>\n",
              "      <th>transcription</th>\n",
              "      <th>number_components</th>\n",
              "    </tr>\n",
              "  </thead>\n",
              "  <tbody>\n",
              "    <tr>\n",
              "      <th>0</th>\n",
              "      <td>a01-000u-00-00</td>\n",
              "      <td>ok</td>\n",
              "      <td>154</td>\n",
              "      <td>408</td>\n",
              "      <td>768</td>\n",
              "      <td>27</td>\n",
              "      <td>51</td>\n",
              "      <td>AT</td>\n",
              "      <td>A</td>\n",
              "      <td>1</td>\n",
              "    </tr>\n",
              "    <tr>\n",
              "      <th>1</th>\n",
              "      <td>a01-000u-00-01</td>\n",
              "      <td>ok</td>\n",
              "      <td>154</td>\n",
              "      <td>507</td>\n",
              "      <td>766</td>\n",
              "      <td>213</td>\n",
              "      <td>48</td>\n",
              "      <td>NN</td>\n",
              "      <td>MOVE</td>\n",
              "      <td>4</td>\n",
              "    </tr>\n",
              "    <tr>\n",
              "      <th>2</th>\n",
              "      <td>a01-000u-00-02</td>\n",
              "      <td>ok</td>\n",
              "      <td>154</td>\n",
              "      <td>796</td>\n",
              "      <td>764</td>\n",
              "      <td>70</td>\n",
              "      <td>50</td>\n",
              "      <td>TO</td>\n",
              "      <td>to</td>\n",
              "      <td>2</td>\n",
              "    </tr>\n",
              "    <tr>\n",
              "      <th>3</th>\n",
              "      <td>a01-000u-00-03</td>\n",
              "      <td>ok</td>\n",
              "      <td>154</td>\n",
              "      <td>919</td>\n",
              "      <td>757</td>\n",
              "      <td>166</td>\n",
              "      <td>78</td>\n",
              "      <td>VB</td>\n",
              "      <td>stop</td>\n",
              "      <td>4</td>\n",
              "    </tr>\n",
              "    <tr>\n",
              "      <th>4</th>\n",
              "      <td>a01-000u-00-04</td>\n",
              "      <td>ok</td>\n",
              "      <td>154</td>\n",
              "      <td>1185</td>\n",
              "      <td>754</td>\n",
              "      <td>126</td>\n",
              "      <td>61</td>\n",
              "      <td>NPT</td>\n",
              "      <td>Mr.</td>\n",
              "      <td>3</td>\n",
              "    </tr>\n",
              "  </tbody>\n",
              "</table>\n",
              "</div>\n",
              "      <button class=\"colab-df-convert\" onclick=\"convertToInteractive('df-cbb52d74-4421-48a4-9782-3e9167b05463')\"\n",
              "              title=\"Convert this dataframe to an interactive table.\"\n",
              "              style=\"display:none;\">\n",
              "        \n",
              "  <svg xmlns=\"http://www.w3.org/2000/svg\" height=\"24px\"viewBox=\"0 0 24 24\"\n",
              "       width=\"24px\">\n",
              "    <path d=\"M0 0h24v24H0V0z\" fill=\"none\"/>\n",
              "    <path d=\"M18.56 5.44l.94 2.06.94-2.06 2.06-.94-2.06-.94-.94-2.06-.94 2.06-2.06.94zm-11 1L8.5 8.5l.94-2.06 2.06-.94-2.06-.94L8.5 2.5l-.94 2.06-2.06.94zm10 10l.94 2.06.94-2.06 2.06-.94-2.06-.94-.94-2.06-.94 2.06-2.06.94z\"/><path d=\"M17.41 7.96l-1.37-1.37c-.4-.4-.92-.59-1.43-.59-.52 0-1.04.2-1.43.59L10.3 9.45l-7.72 7.72c-.78.78-.78 2.05 0 2.83L4 21.41c.39.39.9.59 1.41.59.51 0 1.02-.2 1.41-.59l7.78-7.78 2.81-2.81c.8-.78.8-2.07 0-2.86zM5.41 20L4 18.59l7.72-7.72 1.47 1.35L5.41 20z\"/>\n",
              "  </svg>\n",
              "      </button>\n",
              "      \n",
              "  <style>\n",
              "    .colab-df-container {\n",
              "      display:flex;\n",
              "      flex-wrap:wrap;\n",
              "      gap: 12px;\n",
              "    }\n",
              "\n",
              "    .colab-df-convert {\n",
              "      background-color: #E8F0FE;\n",
              "      border: none;\n",
              "      border-radius: 50%;\n",
              "      cursor: pointer;\n",
              "      display: none;\n",
              "      fill: #1967D2;\n",
              "      height: 32px;\n",
              "      padding: 0 0 0 0;\n",
              "      width: 32px;\n",
              "    }\n",
              "\n",
              "    .colab-df-convert:hover {\n",
              "      background-color: #E2EBFA;\n",
              "      box-shadow: 0px 1px 2px rgba(60, 64, 67, 0.3), 0px 1px 3px 1px rgba(60, 64, 67, 0.15);\n",
              "      fill: #174EA6;\n",
              "    }\n",
              "\n",
              "    [theme=dark] .colab-df-convert {\n",
              "      background-color: #3B4455;\n",
              "      fill: #D2E3FC;\n",
              "    }\n",
              "\n",
              "    [theme=dark] .colab-df-convert:hover {\n",
              "      background-color: #434B5C;\n",
              "      box-shadow: 0px 1px 3px 1px rgba(0, 0, 0, 0.15);\n",
              "      filter: drop-shadow(0px 1px 2px rgba(0, 0, 0, 0.3));\n",
              "      fill: #FFFFFF;\n",
              "    }\n",
              "  </style>\n",
              "\n",
              "      <script>\n",
              "        const buttonEl =\n",
              "          document.querySelector('#df-cbb52d74-4421-48a4-9782-3e9167b05463 button.colab-df-convert');\n",
              "        buttonEl.style.display =\n",
              "          google.colab.kernel.accessAllowed ? 'block' : 'none';\n",
              "\n",
              "        async function convertToInteractive(key) {\n",
              "          const element = document.querySelector('#df-cbb52d74-4421-48a4-9782-3e9167b05463');\n",
              "          const dataTable =\n",
              "            await google.colab.kernel.invokeFunction('convertToInteractive',\n",
              "                                                     [key], {});\n",
              "          if (!dataTable) return;\n",
              "\n",
              "          const docLinkHtml = 'Like what you see? Visit the ' +\n",
              "            '<a target=\"_blank\" href=https://colab.research.google.com/notebooks/data_table.ipynb>data table notebook</a>'\n",
              "            + ' to learn more about interactive tables.';\n",
              "          element.innerHTML = '';\n",
              "          dataTable['output_type'] = 'display_data';\n",
              "          await google.colab.output.renderOutput(dataTable, element);\n",
              "          const docLink = document.createElement('div');\n",
              "          docLink.innerHTML = docLinkHtml;\n",
              "          element.appendChild(docLink);\n",
              "        }\n",
              "      </script>\n",
              "    </div>\n",
              "  </div>\n",
              "  "
            ]
          },
          "metadata": {},
          "execution_count": 3
        }
      ]
    },
    {
      "cell_type": "markdown",
      "source": [
        "### Choice of the fraction of the dataset.\n",
        "### Removal of the transcription error.\n",
        "### Removal of the unwanted columns."
      ],
      "metadata": {
        "id": "4teX3LNn3BJU"
      }
    },
    {
      "cell_type": "code",
      "source": [
        "#############\n",
        "# Variables #\n",
        "#############\n",
        "\n",
        "fraction = 0.5\n",
        "data_dir = \"data/words/\"\n",
        "image_extensions = [\".png\"]  # add there all your images file extensions\n",
        "img_type_accepted_by_tf = [\"png\"]\n",
        "\n",
        "#--------------------------------------------------------------------------\n",
        "from pathlib import Path\n",
        "import imghdr\n",
        "\n",
        "def img_path(word):\n",
        "    path=data_dir+word.split(\"-\")[0]+\"/\"+word.split(\"-\")[0]+\"-\"+word.split(\"-\")[1]+\"/\"+word+\".png\"\n",
        "    \n",
        "    return path\n",
        "\n",
        "def removal_of_corrupt_image(df):\n",
        "  index_to_drop=[]\n",
        "  for filepath in Path(data_dir).rglob(\"*\"):\n",
        "      if filepath.suffix.lower() in image_extensions:\n",
        "          img_type = imghdr.what(filepath)\n",
        "          if img_type is None:\n",
        "              index_to_drop.append(df[df.filepath==str(filepath)].index)\n",
        "              df=df.drop(labels=df[df.filepath==str(filepath)].index)\n",
        "              print(f\"{filepath} is not an image\")\n",
        "          elif img_type not in img_type_accepted_by_tf:\n",
        "              df=df.drop(labels=df[df.filepath==str(filepath)].index)\n",
        "              print(f\"{filepath} is a {img_type}, not accepted by TensorFlow and is drop\")\n",
        "  return df\n",
        "\n",
        "##################################\n",
        "#   Removal of unwanted Column   #\n",
        "##################################\n",
        "\n",
        "list_columns_to_remove=[\"segmentation_result\",\"gray_level\",\"x\",\"y\",\"pxw\",\"pxh\",\"grammatical_tag\",\"number_components\"]\n",
        "\n",
        "df = word_txt[word_txt.segmentation_result == \"ok\"]\\\n",
        "    .drop(columns=list_columns_to_remove)\\\n",
        "    .sample(frac=fraction,random_state=1234)\n",
        "\n",
        "#----------------------------------------------------\n",
        "\n",
        "###############################\n",
        "#    Removal of corrupt image #\n",
        "###############################\n",
        "\n",
        "print(\"df Length: \",len(df))\n",
        "df[\"filepath\"]=df.word_id.apply(img_path)\n",
        "df=removal_of_corrupt_image(df)\n",
        "print(\"df Length: \",len(df))\n",
        "df.head()"
      ],
      "metadata": {
        "colab": {
          "base_uri": "https://localhost:8080/",
          "height": 0
        },
        "id": "EHQ1vKx53Wbj",
        "outputId": "2b13d2fa-c396-4cda-f321-7178793e5381"
      },
      "execution_count": 4,
      "outputs": [
        {
          "output_type": "stream",
          "name": "stdout",
          "text": [
            "df Length:  48228\n",
            "data/words/r06/r06-022/r06-022-03-05.png is not an image\n",
            "data/words/a01/a01-117/a01-117-05-02.png is not an image\n",
            "df Length:  48227\n"
          ]
        },
        {
          "output_type": "execute_result",
          "data": {
            "text/plain": [
              "              word_id transcription  \\\n",
              "23187   c02-022-03-01     indignity   \n",
              "38064   d06-107-08-01          with   \n",
              "20965   b06-023-03-03            an   \n",
              "77141  h07-063b-00-00          More   \n",
              "56002   g04-063-03-05     volunteer   \n",
              "\n",
              "                                         filepath  \n",
              "23187    data/words/c02/c02-022/c02-022-03-01.png  \n",
              "38064    data/words/d06/d06-107/d06-107-08-01.png  \n",
              "20965    data/words/b06/b06-023/b06-023-03-03.png  \n",
              "77141  data/words/h07/h07-063b/h07-063b-00-00.png  \n",
              "56002    data/words/g04/g04-063/g04-063-03-05.png  "
            ],
            "text/html": [
              "\n",
              "  <div id=\"df-8bc56ec9-87ed-42d5-9190-09036b9c3695\">\n",
              "    <div class=\"colab-df-container\">\n",
              "      <div>\n",
              "<style scoped>\n",
              "    .dataframe tbody tr th:only-of-type {\n",
              "        vertical-align: middle;\n",
              "    }\n",
              "\n",
              "    .dataframe tbody tr th {\n",
              "        vertical-align: top;\n",
              "    }\n",
              "\n",
              "    .dataframe thead th {\n",
              "        text-align: right;\n",
              "    }\n",
              "</style>\n",
              "<table border=\"1\" class=\"dataframe\">\n",
              "  <thead>\n",
              "    <tr style=\"text-align: right;\">\n",
              "      <th></th>\n",
              "      <th>word_id</th>\n",
              "      <th>transcription</th>\n",
              "      <th>filepath</th>\n",
              "    </tr>\n",
              "  </thead>\n",
              "  <tbody>\n",
              "    <tr>\n",
              "      <th>23187</th>\n",
              "      <td>c02-022-03-01</td>\n",
              "      <td>indignity</td>\n",
              "      <td>data/words/c02/c02-022/c02-022-03-01.png</td>\n",
              "    </tr>\n",
              "    <tr>\n",
              "      <th>38064</th>\n",
              "      <td>d06-107-08-01</td>\n",
              "      <td>with</td>\n",
              "      <td>data/words/d06/d06-107/d06-107-08-01.png</td>\n",
              "    </tr>\n",
              "    <tr>\n",
              "      <th>20965</th>\n",
              "      <td>b06-023-03-03</td>\n",
              "      <td>an</td>\n",
              "      <td>data/words/b06/b06-023/b06-023-03-03.png</td>\n",
              "    </tr>\n",
              "    <tr>\n",
              "      <th>77141</th>\n",
              "      <td>h07-063b-00-00</td>\n",
              "      <td>More</td>\n",
              "      <td>data/words/h07/h07-063b/h07-063b-00-00.png</td>\n",
              "    </tr>\n",
              "    <tr>\n",
              "      <th>56002</th>\n",
              "      <td>g04-063-03-05</td>\n",
              "      <td>volunteer</td>\n",
              "      <td>data/words/g04/g04-063/g04-063-03-05.png</td>\n",
              "    </tr>\n",
              "  </tbody>\n",
              "</table>\n",
              "</div>\n",
              "      <button class=\"colab-df-convert\" onclick=\"convertToInteractive('df-8bc56ec9-87ed-42d5-9190-09036b9c3695')\"\n",
              "              title=\"Convert this dataframe to an interactive table.\"\n",
              "              style=\"display:none;\">\n",
              "        \n",
              "  <svg xmlns=\"http://www.w3.org/2000/svg\" height=\"24px\"viewBox=\"0 0 24 24\"\n",
              "       width=\"24px\">\n",
              "    <path d=\"M0 0h24v24H0V0z\" fill=\"none\"/>\n",
              "    <path d=\"M18.56 5.44l.94 2.06.94-2.06 2.06-.94-2.06-.94-.94-2.06-.94 2.06-2.06.94zm-11 1L8.5 8.5l.94-2.06 2.06-.94-2.06-.94L8.5 2.5l-.94 2.06-2.06.94zm10 10l.94 2.06.94-2.06 2.06-.94-2.06-.94-.94-2.06-.94 2.06-2.06.94z\"/><path d=\"M17.41 7.96l-1.37-1.37c-.4-.4-.92-.59-1.43-.59-.52 0-1.04.2-1.43.59L10.3 9.45l-7.72 7.72c-.78.78-.78 2.05 0 2.83L4 21.41c.39.39.9.59 1.41.59.51 0 1.02-.2 1.41-.59l7.78-7.78 2.81-2.81c.8-.78.8-2.07 0-2.86zM5.41 20L4 18.59l7.72-7.72 1.47 1.35L5.41 20z\"/>\n",
              "  </svg>\n",
              "      </button>\n",
              "      \n",
              "  <style>\n",
              "    .colab-df-container {\n",
              "      display:flex;\n",
              "      flex-wrap:wrap;\n",
              "      gap: 12px;\n",
              "    }\n",
              "\n",
              "    .colab-df-convert {\n",
              "      background-color: #E8F0FE;\n",
              "      border: none;\n",
              "      border-radius: 50%;\n",
              "      cursor: pointer;\n",
              "      display: none;\n",
              "      fill: #1967D2;\n",
              "      height: 32px;\n",
              "      padding: 0 0 0 0;\n",
              "      width: 32px;\n",
              "    }\n",
              "\n",
              "    .colab-df-convert:hover {\n",
              "      background-color: #E2EBFA;\n",
              "      box-shadow: 0px 1px 2px rgba(60, 64, 67, 0.3), 0px 1px 3px 1px rgba(60, 64, 67, 0.15);\n",
              "      fill: #174EA6;\n",
              "    }\n",
              "\n",
              "    [theme=dark] .colab-df-convert {\n",
              "      background-color: #3B4455;\n",
              "      fill: #D2E3FC;\n",
              "    }\n",
              "\n",
              "    [theme=dark] .colab-df-convert:hover {\n",
              "      background-color: #434B5C;\n",
              "      box-shadow: 0px 1px 3px 1px rgba(0, 0, 0, 0.15);\n",
              "      filter: drop-shadow(0px 1px 2px rgba(0, 0, 0, 0.3));\n",
              "      fill: #FFFFFF;\n",
              "    }\n",
              "  </style>\n",
              "\n",
              "      <script>\n",
              "        const buttonEl =\n",
              "          document.querySelector('#df-8bc56ec9-87ed-42d5-9190-09036b9c3695 button.colab-df-convert');\n",
              "        buttonEl.style.display =\n",
              "          google.colab.kernel.accessAllowed ? 'block' : 'none';\n",
              "\n",
              "        async function convertToInteractive(key) {\n",
              "          const element = document.querySelector('#df-8bc56ec9-87ed-42d5-9190-09036b9c3695');\n",
              "          const dataTable =\n",
              "            await google.colab.kernel.invokeFunction('convertToInteractive',\n",
              "                                                     [key], {});\n",
              "          if (!dataTable) return;\n",
              "\n",
              "          const docLinkHtml = 'Like what you see? Visit the ' +\n",
              "            '<a target=\"_blank\" href=https://colab.research.google.com/notebooks/data_table.ipynb>data table notebook</a>'\n",
              "            + ' to learn more about interactive tables.';\n",
              "          element.innerHTML = '';\n",
              "          dataTable['output_type'] = 'display_data';\n",
              "          await google.colab.output.renderOutput(dataTable, element);\n",
              "          const docLink = document.createElement('div');\n",
              "          docLink.innerHTML = docLinkHtml;\n",
              "          element.appendChild(docLink);\n",
              "        }\n",
              "      </script>\n",
              "    </div>\n",
              "  </div>\n",
              "  "
            ]
          },
          "metadata": {},
          "execution_count": 4
        }
      ]
    },
    {
      "cell_type": "markdown",
      "source": [
        "## Separation of dataset and Loading + Preprocessing of the image"
      ],
      "metadata": {
        "id": "zIPE0VW26JiS"
      }
    },
    {
      "cell_type": "markdown",
      "source": [
        "###Loading and preprocessing functions"
      ],
      "metadata": {
        "id": "vAnbbMGLOFzk"
      }
    },
    {
      "cell_type": "code",
      "source": [
        "#############\n",
        "# Variables #\n",
        "#############\n",
        "\n",
        "batch_size = 64\n",
        "image_width=128\n",
        "image_height=32\n",
        "imgSize = (image_height, image_width)\n",
        "\n",
        "#-----------------------------------\n",
        "\n",
        "###############################################################\n",
        "# Definition of functions:                                    #\n",
        "#     - Loading images                                        #\n",
        "#     - Preprocessing of images (resizing without distortion) #\n",
        "###############################################################\n",
        "\n",
        "import tensorflow as tf\n",
        "from sklearn.model_selection import train_test_split\n",
        "import numpy as np\n",
        "\n",
        "#Loading function of images (with tensorflow)\n",
        "@tf.function\n",
        "def load_image(filepath):\n",
        "    im = tf.io.read_file(filepath)\n",
        "    im = tf.image.decode_png(im, channels=0)\n",
        "\n",
        "    return im\n",
        "\n",
        "#Preprocessing function of images (with tensorflow)\n",
        "@tf.function\n",
        "def preprocess(filepath, imgSize=(32, 128), dataAugmentation=False, scale=0.8, isthreshold=False):\n",
        "\n",
        "\n",
        "\n",
        "    img = load_image(filepath)/255\n",
        "    # there are damaged files in IAM dataset - just use black image instead\n",
        "    if img is None:\n",
        "        img = tf.ones([imgSize[0], imgSize[1], 1])\n",
        "        print(\"None\")\n",
        "\n",
        "    if dataAugmentation:\n",
        "        stretch = scale*(tf.random.uniform([1], 0, 1)[0] - 0.3) # -0.5 .. +0.5\n",
        "        wStretched = tf.maximum(int(float(tf.shape(img)[0]) * (1 + stretch)), 1) # random width, but at least 1\n",
        "        img = tf.image.resize(img, (wStretched, tf.shape(img)[1])) # stretch horizontally by factor 0.5 .. 1.5\n",
        "\n",
        "    (wt, ht) = imgSize\n",
        "\n",
        "    w, h = float(tf.shape(img)[0]), float(tf.shape(img)[1])\n",
        "\n",
        "    fx = w / wt\n",
        "    fy = h / ht\n",
        "\n",
        "    f = tf.maximum(fx, fy)\n",
        "\n",
        "    newSize = (tf.maximum(tf.minimum(wt, int(w / f)), 1), tf.maximum(tf.minimum(ht, int(h / f)), 1)) # scale according to f (result at least 1 and at most wt or ht)\n",
        "\n",
        "    img = tf.image.resize(img, newSize)\n",
        "\n",
        "\n",
        "    dx = wt - newSize[0]\n",
        "    dy = ht - newSize[1]\n",
        "\n",
        "    if dataAugmentation :\n",
        "        dx1=0\n",
        "        dy1=0\n",
        "        if dx!=0:\n",
        "            dx1 = tf.random.uniform([1], 0, dx, tf.int32)[0]\n",
        "        if dy!=0:\n",
        "            dy1 = tf.random.uniform([1], 0, dy, tf.int32)[0]\n",
        "        img = tf.pad(img[..., 0], [[dx1, dx-dx1], [dy1, dy-dy1]], constant_values=0)\n",
        "    else :\n",
        "        img = tf.pad(img[..., 0], [[0, dx], [0, dy]], constant_values=0)\n",
        "\n",
        "    if isthreshold:\n",
        "        return tf.expand_dims(1-(1-img)*tf.cast(img < 0.8, tf.float32), -1)\n",
        "    return tf.expand_dims(img, -1)\n",
        "\n",
        "#-----------------------------------------------------------------------------\n",
        "\n",
        "#########################################\n",
        "# Creation of the train & test datasets #\n",
        "#########################################\n",
        "\n",
        "#Split of dataframes \n",
        "X_train_path, X_test_path, y_train, y_test = train_test_split(df.filepath.values, df.transcription.values, train_size=0.9, random_state=1234)\n",
        "\n",
        "# Creation of dataset_train tensor and preprocessing of images\n",
        "dataset_train = tf.data.Dataset.from_tensor_slices((X_train_path, y_train))\n",
        "dataset_train = dataset_train.shuffle(10000)\\\n",
        "                .map(lambda x, y : [preprocess(x, imgSize, dataAugmentation=True, scale=0.8, isthreshold=True), y])\\\n",
        "                .batch(batch_size, drop_remainder=True)\n",
        "\n",
        "# Creation of dataset_test tensor and preprocessing of images\n",
        "dataset_test = tf.data.Dataset.from_tensor_slices((X_test_path, y_test))\n",
        "dataset_test = dataset_test\\\n",
        "               .map(lambda x, y : [preprocess(x, imgSize, dataAugmentation=True, scale=0.8, isthreshold=True), y])\\\n",
        "               .batch(batch_size, drop_remainder=True)\n",
        "\n",
        "#-----------------------------------------------------------------------------\n",
        "\n",
        "################################################\n",
        "# Iteration on dataset_train                   #\n",
        "# Display of several images from train dataset #\n",
        "################################################\n",
        "\n",
        "X_t, y_t = next(iter(dataset_train))\n",
        "\n",
        "\n",
        "plt.figure(figsize=(15,5))\n",
        "for j, i in enumerate(np.random.randint(low=0, high=len(X_t), size=[6])):\n",
        "    plt.subplot(2,3,j+1)\n",
        "    plt.imshow(X_t[i][...,0], cmap='gray')\n",
        "    plt.title(y_t[i].numpy().decode('utf'))"
      ],
      "metadata": {
        "id": "OS4BUcr4OE-R",
        "outputId": "a8f5b209-01b8-4989-cd44-24c5d6c4c682",
        "colab": {
          "base_uri": "https://localhost:8080/",
          "height": 0
        }
      },
      "execution_count": 5,
      "outputs": [
        {
          "output_type": "display_data",
          "data": {
            "text/plain": [
              "<Figure size 1080x360 with 6 Axes>"
            ],
            "image/png": "[encoded data removed]"
          },
          "metadata": {
            "needs_background": "light"
          }
        }
      ]
    },
    {
      "cell_type": "markdown",
      "source": [
        "## Vectorization of the labels"
      ],
      "metadata": {
        "id": "EtznC98Gf-Wl"
      }
    },
    {
      "cell_type": "code",
      "source": [
        "#############\n",
        "# Variables #\n",
        "#############\n",
        "\n",
        "import string\n",
        "#charList = list(string.ascii_lowercase)\n",
        "#charList = list('!\\'.?abcdefghijklmnopqrstuvwxyz')\n",
        "charList = list(' !\"#$%&\\'()*+,-./0123456789:;<=>?@ABCDEFGHIJKLMNOPQRSTUVWXYZ[\\\\]^_`abcdefghijklmnopqrstuvwxyz{|}~')\n",
        "#------------------------------------------------\n",
        "\n",
        "def encode_labels(labels):\n",
        "    table = tf.lookup.StaticHashTable(\n",
        "        tf.lookup.KeyValueTensorInitializer(charList, np.arange(len(charList)), value_dtype=tf.int32),\n",
        "        default_value = 0,\n",
        "        name='chard2id')\n",
        "    return table.lookup(tf.compat.v1.string_split(labels, sep=''))\n",
        "\n",
        "\n",
        "#--------------------------------------------------------------------\n",
        "\n",
        "#######################################\n",
        "# Encoding of the train & test labels #\n",
        "#######################################\n",
        "\n",
        "# Encoding of y_train\n",
        "dataset_train = dataset_train.map(lambda X,y : [X, encode_labels(y)])\n",
        "\n",
        "# Encode of y_test\n",
        "dataset_validation = dataset_test.map(lambda X,y : [X, encode_labels(y)])\n",
        "\n",
        "#--------------------------------------------------------------------\n",
        "\n",
        "##############################\n",
        "# Display of label encoding  #\n",
        "##############################\n",
        "\n",
        "a = encode_labels(y_train[:10])\n",
        "\n",
        "print(y_train[:10])\n",
        "print(tf.sparse.to_dense(a).numpy(),\":\\n\")\n",
        "\n",
        "x=15\n",
        "a = encode_labels(y_test[x:x+10])\n",
        "\n",
        "print(\"\\n-------------------------------------------\\n\\n\",y_test[x:x+10],\":\\n\")\n",
        "\n",
        "print(tf.sparse.to_dense(a).numpy())\n",
        "\n",
        "#------------------------------------------------------------------"
      ],
      "metadata": {
        "id": "cLcrDlS_Pbv0",
        "colab": {
          "base_uri": "https://localhost:8080/"
        },
        "outputId": "cda8af41-1134-46b2-bac0-b8d7e74f4139"
      },
      "execution_count": 6,
      "outputs": [
        {
          "output_type": "stream",
          "name": "stdout",
          "text": [
            "['with' 'could' 'princely' 'responsibility' 'some' ',' 'One' 'appeal' 'to'\n",
            " 'in']\n",
            "[[87 73 84 72  0  0  0  0  0  0  0  0  0  0]\n",
            " [67 79 85 76 68  0  0  0  0  0  0  0  0  0]\n",
            " [80 82 73 78 67 69 76 89  0  0  0  0  0  0]\n",
            " [82 69 83 80 79 78 83 73 66 73 76 73 84 89]\n",
            " [83 79 77 69  0  0  0  0  0  0  0  0  0  0]\n",
            " [12  0  0  0  0  0  0  0  0  0  0  0  0  0]\n",
            " [47 78 69  0  0  0  0  0  0  0  0  0  0  0]\n",
            " [65 80 80 69 65 76  0  0  0  0  0  0  0  0]\n",
            " [84 79  0  0  0  0  0  0  0  0  0  0  0  0]\n",
            " [73 78  0  0  0  0  0  0  0  0  0  0  0  0]] :\n",
            "\n",
            "\n",
            "-------------------------------------------\n",
            "\n",
            " ['regard' 'defend' 'bathroom' 'Mr.' '.' ',' '.' 'no' 'a' '.'] :\n",
            "\n",
            "[[82 69 71 65 82 68  0  0]\n",
            " [68 69 70 69 78 68  0  0]\n",
            " [66 65 84 72 82 79 79 77]\n",
            " [45 82 14  0  0  0  0  0]\n",
            " [14  0  0  0  0  0  0  0]\n",
            " [12  0  0  0  0  0  0  0]\n",
            " [14  0  0  0  0  0  0  0]\n",
            " [78 79  0  0  0  0  0  0]\n",
            " [65  0  0  0  0  0  0  0]\n",
            " [14  0  0  0  0  0  0  0]]\n"
          ]
        }
      ]
    },
    {
      "cell_type": "markdown",
      "source": [
        "#Model Creation"
      ],
      "metadata": {
        "id": "4d_b1CYNwSps"
      }
    },
    {
      "cell_type": "markdown",
      "source": [
        "##Modelisation"
      ],
      "metadata": {
        "id": "5bE8xNuacDhM"
      }
    },
    {
      "cell_type": "markdown",
      "source": [
        "### Model_CRNN_GRU"
      ],
      "metadata": {
        "id": "sIPromq7Pncu"
      }
    },
    {
      "cell_type": "code",
      "source": [
        "#############\n",
        "# Variables #\n",
        "#############\n",
        "\n",
        "numHidden = 256\n",
        "\n",
        "load_model_var = True\n",
        "name_load_model = \"CRNN_1_2710\"\n",
        "\n",
        "#-------------------------------------------------------------------------\n",
        "from google.colab import drive\n",
        "#########################################################\n",
        "# Definition of a model CRNN taken on DataScienTest OCR #\n",
        "#                           model_CRNN_GRU              #\n",
        "#########################################################\n",
        "\n",
        "import tensorflow as tf\n",
        "from tensorflow.keras.layers import Conv2D, BatchNormalization, MaxPooling2D, LeakyReLU, Dropout\n",
        "from tensorflow.keras.layers import GRU, Bidirectional, Dense, Lambda\n",
        "\n",
        "\n",
        "def build_model_CRNN_GRU():\n",
        "  #Create_model_CRNN\n",
        "    model = tf.keras.Sequential()\n",
        "\n",
        "    # Layer 1\n",
        "    model.add(Conv2D(filters=32, kernel_size=(5,5), padding='SAME', input_shape = X_t.shape[1:]))\n",
        "    model.add(BatchNormalization())\n",
        "    model.add(LeakyReLU())\n",
        "    model.add(MaxPooling2D(pool_size=(2,2), strides=(2,2)))\n",
        "\n",
        "    # Layer 2\n",
        "    model.add(Conv2D(filters=64, kernel_size=(5,5), padding='SAME'))\n",
        "    model.add(BatchNormalization())\n",
        "    model.add(LeakyReLU())\n",
        "    model.add(MaxPooling2D(pool_size=(2,2), strides=(2,2)))\n",
        "\n",
        "    # Layer 3\n",
        "    model.add(Conv2D(filters=128, kernel_size=(3,3), padding='SAME'))\n",
        "    model.add(BatchNormalization())\n",
        "    model.add(LeakyReLU())\n",
        "    model.add(MaxPooling2D(pool_size=(2,1), strides=(2,1)))\n",
        "\n",
        "    # Layer 4\n",
        "    model.add(Conv2D(filters=128, kernel_size=(3,3), padding='SAME'))\n",
        "    model.add(BatchNormalization())\n",
        "    model.add(LeakyReLU())\n",
        "    model.add(MaxPooling2D(pool_size=(2,1), strides=(2,1)))\n",
        "\n",
        "    # Layer 5\n",
        "    model.add(Conv2D(filters=256, kernel_size=(3,3), padding='SAME'))\n",
        "    model.add(BatchNormalization())\n",
        "    model.add(LeakyReLU())\n",
        "    model.add(MaxPooling2D(pool_size=(2,1), strides=(2,1)))\n",
        "    model.add(Dropout(0.4))\n",
        "\n",
        "\n",
        "    model.add(Lambda(lambda x :tf.squeeze(x, axis=1)))\n",
        "\n",
        "    # Bidirectionnal RNN\n",
        "    model.add(Bidirectional(GRU(numHidden, return_sequences=True)))\n",
        "    # Classification of characters\n",
        "    model.add(Dense(len(charList)+1))\n",
        "    \n",
        "    return model\n",
        "\n",
        "#---------------------------------------------------------------------------\n",
        "\n",
        "############################\n",
        "# Build of the model CRNN  #\n",
        "#         model_3          #\n",
        "############################\n",
        "\n",
        "\n",
        "\n",
        "\n",
        "\n",
        "model_CRNN_GRU = build_model_CRNN_GRU()\n",
        "model_CRNN_GRU.summary()\n",
        "\n",
        "\n",
        "#--------------------------------------------------------------------------\n",
        "\n",
        "def load_model(load_model,model,name):\n",
        "  history=None\n",
        "  #------------------------------\n",
        "  if load_model: #Load model weights\n",
        "    drive.mount(\"/drive\",force_remount=True)\n",
        "    model.load_weights(\"/drive/MyDrive/DataScience/OCR/Models/\"+name)\n",
        "    print(\"Model loaded !\")\n",
        "    #----------------------------\n",
        "    try: #Load history\n",
        "      with open(\"/drive/MyDrive/DataScience/OCR/Models/\"+name+\"training_history\", \"rb\") as file_pi:\n",
        "        history = pickle.load(file_pi)\n",
        "        print(\"History loaded !\")\n",
        "    except:\n",
        "      print(\"History not loaded !\")\n",
        "\n",
        "  #--------------------------------\n",
        "  else:\n",
        "    print(\"Model not loaded !\")\n",
        "\n",
        "  return model,history\n",
        "\n",
        "\n",
        "model_CRNN_GRU,training_history=load_model(load_model_var,model_CRNN_GRU,name_load_model)"
      ],
      "metadata": {
        "id": "cz1nUiqCPtpA",
        "outputId": "f5c196a4-7fcf-422a-be08-c762efc61506",
        "colab": {
          "base_uri": "https://localhost:8080/"
        }
      },
      "execution_count": 7,
      "outputs": [
        {
          "output_type": "stream",
          "name": "stdout",
          "text": [
            "Model: \"sequential\"\n",
            "_________________________________________________________________\n",
            " Layer (type)                Output Shape              Param #   \n",
            "=================================================================\n",
            " conv2d (Conv2D)             (None, 32, 128, 32)       832       \n",
            "                                                                 \n",
            " batch_normalization (BatchN  (None, 32, 128, 32)      128       \n",
            " ormalization)                                                   \n",
            "                                                                 \n",
            " leaky_re_lu (LeakyReLU)     (None, 32, 128, 32)       0         \n",
            "                                                                 \n",
            " max_pooling2d (MaxPooling2D  (None, 16, 64, 32)       0         \n",
            " )                                                               \n",
            "                                                                 \n",
            " conv2d_1 (Conv2D)           (None, 16, 64, 64)        51264     \n",
            "                                                                 \n",
            " batch_normalization_1 (Batc  (None, 16, 64, 64)       256       \n",
            " hNormalization)                                                 \n",
            "                                                                 \n",
            " leaky_re_lu_1 (LeakyReLU)   (None, 16, 64, 64)        0         \n",
            "                                                                 \n",
            " max_pooling2d_1 (MaxPooling  (None, 8, 32, 64)        0         \n",
            " 2D)                                                             \n",
            "                                                                 \n",
            " conv2d_2 (Conv2D)           (None, 8, 32, 128)        73856     \n",
            "                                                                 \n",
            " batch_normalization_2 (Batc  (None, 8, 32, 128)       512       \n",
            " hNormalization)                                                 \n",
            "                                                                 \n",
            " leaky_re_lu_2 (LeakyReLU)   (None, 8, 32, 128)        0         \n",
            "                                                                 \n",
            " max_pooling2d_2 (MaxPooling  (None, 4, 32, 128)       0         \n",
            " 2D)                                                             \n",
            "                                                                 \n",
            " conv2d_3 (Conv2D)           (None, 4, 32, 128)        147584    \n",
            "                                                                 \n",
            " batch_normalization_3 (Batc  (None, 4, 32, 128)       512       \n",
            " hNormalization)                                                 \n",
            "                                                                 \n",
            " leaky_re_lu_3 (LeakyReLU)   (None, 4, 32, 128)        0         \n",
            "                                                                 \n",
            " max_pooling2d_3 (MaxPooling  (None, 2, 32, 128)       0         \n",
            " 2D)                                                             \n",
            "                                                                 \n",
            " conv2d_4 (Conv2D)           (None, 2, 32, 256)        295168    \n",
            "                                                                 \n",
            " batch_normalization_4 (Batc  (None, 2, 32, 256)       1024      \n",
            " hNormalization)                                                 \n",
            "                                                                 \n",
            " leaky_re_lu_4 (LeakyReLU)   (None, 2, 32, 256)        0         \n",
            "                                                                 \n",
            " max_pooling2d_4 (MaxPooling  (None, 1, 32, 256)       0         \n",
            " 2D)                                                             \n",
            "                                                                 \n",
            " dropout (Dropout)           (None, 1, 32, 256)        0         \n",
            "                                                                 \n",
            " lambda (Lambda)             (None, 32, 256)           0         \n",
            "                                                                 \n",
            " bidirectional (Bidirectiona  (None, 32, 512)          789504    \n",
            " l)                                                              \n",
            "                                                                 \n",
            " dense (Dense)               (None, 32, 96)            49248     \n",
            "                                                                 \n",
            "=================================================================\n",
            "Total params: 1,409,888\n",
            "Trainable params: 1,408,672\n",
            "Non-trainable params: 1,216\n",
            "_________________________________________________________________\n",
            "Mounted at /drive\n",
            "Model loaded !\n",
            "History not loaded !\n"
          ]
        }
      ]
    },
    {
      "cell_type": "markdown",
      "source": [
        "##Compilation and creation of loss function"
      ],
      "metadata": {
        "id": "TSQ20YVBwZSt"
      }
    },
    {
      "cell_type": "markdown",
      "source": [
        "###Model_CRNN"
      ],
      "metadata": {
        "id": "PujbUbKyQGMw"
      }
    },
    {
      "cell_type": "code",
      "source": [
        "#############\n",
        "# Variables #\n",
        "#############\n",
        "\n",
        "model_compiled = model_CRNN_GRU\n",
        "\n",
        "#---------------------------------------\n",
        "\n",
        "#########################################\n",
        "# Definition of a loss function for CTC #\n",
        "#########################################\n",
        "\n",
        "#Loss function for CTC\n",
        "def loss(labels, logits):\n",
        "    return tf.reduce_mean(tf.nn.ctc_loss(\n",
        "        labels = labels,\n",
        "        logits = logits,\n",
        "        logit_length = [logits.shape[1]]*logits.shape[0],\n",
        "        label_length = None,\n",
        "        logits_time_major = False,\n",
        "        blank_index=-1))\n",
        "\n",
        "#----------------------------------------------------------\n",
        "\n",
        "######################################################\n",
        "# Compilation of model_3 with Adam and Loss function #\n",
        "######################################################\n",
        "from tensorflow.keras.optimizers import Adam\n",
        "\n",
        "model_compiled.compile(optimizer=Adam(1e-3),loss=loss)\n",
        "\n",
        "#------------------------------------------------------------"
      ],
      "metadata": {
        "id": "YDlUnu2CQH3D"
      },
      "execution_count": 9,
      "outputs": []
    },
    {
      "cell_type": "markdown",
      "source": [
        "#Training"
      ],
      "metadata": {
        "id": "KASxMI-Rwr1w"
      }
    },
    {
      "cell_type": "markdown",
      "source": [
        "###Model_CRNN"
      ],
      "metadata": {
        "id": "_olz0nqLQaw1"
      }
    },
    {
      "cell_type": "code",
      "source": [
        "#############\n",
        "# Variables #\n",
        "#############\n",
        "\n",
        "save_model_var=False\n",
        "epochs = 20\n",
        "name_model = \"CRNN_2_2410\"\n",
        "model_trained = model_CRNN_GRU\n",
        "\n",
        "#---------------------------------------------------\n",
        "from google.colab import drive\n",
        "import pickle\n",
        "#########################\n",
        "# Training of the model #\n",
        "#########################\n",
        "\n",
        "#Training of model 3\n",
        "training_history=model_trained.fit(dataset_train,epochs=epochs, validation_data=dataset_validation)\n",
        "\n",
        "#---------------------------------------------------------\n",
        "#########################\n",
        "# Saving of the model   #\n",
        "#########################\n",
        "\n",
        "def save_model(save_model,model,name,training_hist=None):\n",
        "  drive.mount(\"/drive\",force_remount=True)\n",
        "  if save_model:\n",
        "    model.save_weights(\"/drive/MyDrive/DataScience/OCR/Models/\"+name)\n",
        "    print(\"Model saved !\")\n",
        "    if training_hist != None:\n",
        "      with open(\"/drive/MyDrive/DataScience/OCR/Models/\"+name+\"_training_history\", 'wb') as file_pi:\n",
        "        pickle.dump(training_history.history, file_pi)\n",
        "        print(\"History saved !\")\n",
        "  else:\n",
        "    print(\"Model not saved !\")\n",
        "\n",
        "save_model(save_model_var, model_trained,name_model,training_history)"
      ],
      "metadata": {
        "id": "aAvh8CToQc5C",
        "outputId": "b94870ef-b189-48f7-92c7-0c7191d42eaa",
        "colab": {
          "base_uri": "https://localhost:8080/"
        }
      },
      "execution_count": null,
      "outputs": [
        {
          "output_type": "stream",
          "name": "stdout",
          "text": [
            "Epoch 1/20\n",
            "678/678 [==============================] - 56s 79ms/step - loss: 12.0165 - val_loss: 15.6506\n",
            "Epoch 2/20\n",
            "678/678 [==============================] - 49s 72ms/step - loss: 6.4024 - val_loss: 6.6618\n",
            "Epoch 3/20\n",
            "678/678 [==============================] - 50s 73ms/step - loss: 4.1486 - val_loss: 3.5105\n",
            "Epoch 4/20\n",
            "678/678 [==============================] - 49s 72ms/step - loss: 3.3695 - val_loss: 3.0873\n",
            "Epoch 5/20\n",
            "678/678 [==============================] - 50s 74ms/step - loss: 2.8958 - val_loss: 3.1933\n",
            "Epoch 6/20\n",
            "678/678 [==============================] - 53s 77ms/step - loss: 2.6298 - val_loss: 2.8064\n",
            "Epoch 7/20\n",
            "678/678 [==============================] - 49s 73ms/step - loss: 2.3880 - val_loss: 2.8780\n",
            "Epoch 8/20\n",
            "678/678 [==============================] - 50s 73ms/step - loss: 2.2437 - val_loss: 2.3025\n",
            "Epoch 9/20\n",
            "678/678 [==============================] - 50s 73ms/step - loss: 2.0981 - val_loss: 2.5998\n",
            "Epoch 10/20\n",
            "678/678 [==============================] - 50s 73ms/step - loss: 1.9654 - val_loss: 2.1700\n",
            "Epoch 11/20\n",
            "678/678 [==============================] - 50s 73ms/step - loss: 1.8527 - val_loss: 2.0483\n",
            "Epoch 12/20\n",
            "678/678 [==============================] - 50s 74ms/step - loss: 1.7683 - val_loss: 2.3228\n",
            "Epoch 13/20\n",
            "678/678 [==============================] - 52s 77ms/step - loss: 1.7008 - val_loss: 2.2477\n",
            "Epoch 14/20\n",
            "678/678 [==============================] - 50s 73ms/step - loss: 1.6472 - val_loss: 2.1072\n",
            "Epoch 15/20\n",
            "678/678 [==============================] - 49s 73ms/step - loss: 1.5454 - val_loss: 2.0068\n",
            "Epoch 16/20\n",
            "678/678 [==============================] - 49s 73ms/step - loss: 1.5124 - val_loss: 1.8879\n",
            "Epoch 17/20\n",
            "678/678 [==============================] - 49s 73ms/step - loss: 1.4469 - val_loss: 1.9457\n",
            "Epoch 18/20\n",
            "678/678 [==============================] - 50s 73ms/step - loss: 1.4018 - val_loss: 1.8878\n",
            "Epoch 19/20\n",
            "678/678 [==============================] - 50s 73ms/step - loss: 1.3595 - val_loss: 1.8610\n",
            "Epoch 20/20\n",
            "678/678 [==============================] - 49s 72ms/step - loss: 1.3199 - val_loss: 2.1195\n",
            "Mounted at /drive\n",
            "Model saved !\n",
            "History saved !\n"
          ]
        }
      ]
    },
    {
      "cell_type": "code",
      "source": [
        "#############\n",
        "# Variables #\n",
        "#############\n",
        "\n",
        "history= training_history.history\n",
        "\n",
        "#-------------------------------------\n",
        "################################\n",
        "# Display of Training history  #\n",
        "################################\n",
        "\n",
        "plt.figure(figsize=(10,10))\n",
        "\n",
        "plt.plot(history[\"loss\"],label=\"Loss\")\n",
        "plt.plot(history[\"val_loss\"],label=\"Val_loss\")\n",
        "\n",
        "plt.legend()\n",
        "plt.xticks(np.arange(0,20,1));\n",
        "\n",
        "plt.xlim([0,19]);\n",
        "plt.grid()\n",
        "plt.xlabel(\"Epochs\")\n",
        "plt.ylabel(\"Loss value\");\n",
        "plt.title(\"Training history\");"
      ],
      "metadata": {
        "colab": {
          "base_uri": "https://localhost:8080/",
          "height": 621
        },
        "id": "-gZB6YjoJyUk",
        "outputId": "9c420b38-b67e-4a8f-bf76-cc42054c23d7"
      },
      "execution_count": null,
      "outputs": [
        {
          "output_type": "display_data",
          "data": {
            "text/plain": [
              "<Figure size 720x720 with 1 Axes>"
            ],
            "image/png": "[encoded data removed]"
          },
          "metadata": {
            "needs_background": "light"
          }
        }
      ]
    },
    {
      "cell_type": "markdown",
      "source": [
        "#Prediction & Evaluation"
      ],
      "metadata": {
        "id": "Wl-T6thUQrNs"
      }
    },
    {
      "cell_type": "markdown",
      "source": [
        "## Predictions"
      ],
      "metadata": {
        "id": "FPRodf3hy6BF"
      }
    },
    {
      "cell_type": "code",
      "source": [
        "#############\n",
        "# Variables #\n",
        "#############\n",
        "\n",
        "model = model_compiled\n",
        "\n",
        "\n",
        "from textblob import TextBlob\n",
        "\n",
        "#####################################################\n",
        "# Definition of decode function and Greedy decoder  #\n",
        "#####################################################\n",
        "\n",
        "def decode_codes(codes):\n",
        "    table = tf.lookup.StaticHashTable(\n",
        "        tf.lookup.KeyValueTensorInitializer(\n",
        "            np.arange(len(charList)),\n",
        "            charList,\n",
        "            key_dtype=tf.int32\n",
        "        ),\n",
        "        '',\n",
        "        name='id2char'\n",
        "    )\n",
        "    return table.lookup(codes)\n",
        "\n",
        "def greedy_decoder(logits):\n",
        "    # ctc beam search decoder\n",
        "    predicted_codes, _ = tf.nn.ctc_greedy_decoder(\n",
        "        # shape of tensor [max_time x batch_size x num_classes]\n",
        "        tf.transpose(logits, (1, 0, 2)),\n",
        "        [logits.shape[1]]*logits.shape[0]\n",
        "    )\n",
        "\n",
        "    # convert to int32\n",
        "    codes = tf.cast(predicted_codes[0], tf.int32)\n",
        "\n",
        "    # Decode the index of caracter\n",
        "    text = decode_codes(codes)\n",
        "\n",
        "    # Convert a SparseTensor to string\n",
        "    text = tf.sparse.to_dense(text).numpy().astype(str)\n",
        "\n",
        "    return list(map(lambda x: ''.join(x), text))\n",
        "\n",
        "#--------------------------------------------------------\n",
        "\n",
        "###########################################\n",
        "# Prediction and Decoding of dataset_test #\n",
        "###########################################\n",
        "y_pred=[]\n",
        "y_true=[]\n",
        "for X_t,y_t in dataset_test:\n",
        "  y_pred.append(greedy_decoder(model(X_t)))\n",
        "  y_true.append(y_t)\n",
        "\n",
        "results=list(zip(np.array(y_true).flatten(),np.array(y_pred).flatten(),))\n",
        "\n",
        "#---------------------------------------------------------------\n",
        "\n",
        "#########################\n",
        "# Prediction correction #\n",
        "#########################\n",
        "\n",
        "def correct_sentence(x):\n",
        "  return TextBlob(x).correct()\n",
        "\n",
        "y_pred_corr = map(correct_sentence,np.array(y_pred).flatten())\n",
        "\n",
        "\n",
        "results_corrected=list(zip(np.array(y_true).flatten(),y_pred_corr,))\n",
        "\n"
      ],
      "metadata": {
        "id": "poycif5Xxjk0"
      },
      "execution_count": 12,
      "outputs": []
    },
    {
      "cell_type": "markdown",
      "source": [
        "##Evaluation"
      ],
      "metadata": {
        "id": "7Yg8yd6ackPA"
      }
    },
    {
      "cell_type": "code",
      "source": [
        "import difflib\n",
        "\n",
        "####################################\n",
        "# Evaluation of the words accuracy #\n",
        "####################################\n",
        "\n",
        "score=[]\n",
        "for words in results: # Calculation of the percentage of letters accuracy for each word between transcription and prediction\n",
        "  score.append(difflib.SequenceMatcher(None,words[0].decode(\"utf-8\"),words[1]).ratio())\n",
        "\n",
        "print(\"The average accuracy for our words prediction is: \",np.mean(score),\n",
        "      \"\\n\\n--------------------------------------------------------------------\\n\")\n",
        "\n",
        "\n",
        "score_corrected=[]\n",
        "for words in results_corrected: # Calculation of the percentage of letters accuracy for each word between transcription and prediction\n",
        "  score_corrected.append(difflib.SequenceMatcher(None,words[0].decode(\"utf-8\"),words[1]).ratio())\n",
        "\n",
        "print(\"The average accuracy for our words prediction with autocorrect is: \",np.mean(score_corrected),\n",
        "      \"\\n\\n--------------------------------------------------------------------\\n\")\n",
        "\n",
        "\n",
        "#-----------------------------------------------------\n",
        "\n",
        "##################################################\n",
        "# Display of the word accuracy (CER) repartition #\n",
        "##################################################\n",
        "\n",
        "plt.figure(figsize=(8,8))\n",
        "# evaluation of the histogram\n",
        "values, base = np.histogram(score, bins=100)\n",
        "values_corrected, base_corrected = np.histogram(score_corrected, bins=100)\n",
        "#evaluation the cumulative\n",
        "cumulative = np.cumsum(values)\n",
        "cumulative_corrected = np.cumsum(values_corrected)\n",
        "# plot the cumulative function\n",
        "plt.plot(base[:-1], cumulative/cumulative[-1], c='blue',label=\"Prediction\")\n",
        "plt.plot(base[:-1], cumulative_corrected/cumulative_corrected[-1], c='red',label=\"Prediction with autocorrect\")\n",
        "\n",
        "\n",
        "plt.title(\"Repartition of predictions accuracy (CER)\")\n",
        "plt.xlabel(\"Accuracy\")\n",
        "plt.ylabel(\"Predictions % below the accuracy\")\n",
        "plt.xticks(np.arange(0,1.1,0.1))\n",
        "plt.yticks(np.arange(0.1,1.1,0.1))\n",
        "plt.xlim([0,1])\n",
        "plt.ylim([0,1])\n",
        "plt.grid()\n",
        "plt.legend(loc=\"upper left\")\n",
        "plt.show();\n",
        "\n",
        "ar_res = np.array(results)\n",
        "ar_score = np.array(score)\n",
        "\n",
        "ar_res_cor = np.array(results_corrected)\n",
        "ar_score_cor = np.array(score_corrected)\n",
        "\n",
        "print(\"According to the graph we have for the basic predictions approximatly:\\n\",\n",
        "      \"-\",np.round((len(ar_res[(ar_score <= 0.1)])/len(ar_res))*100), \"% predictions at <10% of accuracy\\n\",\n",
        "      \"-\",np.round((len(ar_res[(0.1 < ar_score) & (ar_score <= 0.5)])/len(ar_res))*100)  ,\"% predictions between 10% - 50% of accuracy\\n\",\n",
        "      \"-\",np.round((len(ar_res[(0.5 < ar_score) & (ar_score <= 0.99)])/len(ar_res))*100) ,\"% predictions between 50%- 99% of accuracy\\n\",\n",
        "      \"-\",np.round((len(ar_res[(0.99 < ar_score)])/len(ar_res))*100) ,\"% predictions at 100% of accuracy\")\n",
        "\n",
        "print(\"\\n\\nAccording to the graph we have for the autocorrect predictions approximatly:\\n\",\n",
        "      \"-\",np.round((len(ar_res_cor[(ar_score_cor <= 0.1)])/len(ar_res_cor))*100), \"% predictions at <10% of accuracy\\n\",\n",
        "      \"-\",np.round((len(ar_res_cor[(0.1 < ar_score_cor) & (ar_score_cor <= 0.5)])/len(ar_res_cor))*100)  ,\"% predictions between 10% - 50% of accuracy\\n\",\n",
        "      \"-\",np.round((len(ar_res_cor[(0.5 < ar_score_cor) & (ar_score_cor <= 0.99)])/len(ar_res_cor))*100) ,\"% predictions between 50%- 99% of accuracy\\n\",\n",
        "      \"-\",np.round((len(ar_res_cor[(0.99 < ar_score_cor)])/len(ar_res_cor))*100) ,\"% predictions at 100% of accuracy\");"
      ],
      "metadata": {
        "id": "oR3oqvIaQsK_",
        "colab": {
          "base_uri": "https://localhost:8080/",
          "height": 898
        },
        "outputId": "8214e4b1-00cd-4594-b8c3-4ad0604144e0"
      },
      "execution_count": 13,
      "outputs": [
        {
          "output_type": "stream",
          "name": "stdout",
          "text": [
            "The average accuracy for our words prediction is:  0.9324969869905055 \n",
            "\n",
            "--------------------------------------------------------------------\n",
            "\n",
            "The average accuracy for our words prediction with autocorrect is:  0.9287691621726569 \n",
            "\n",
            "--------------------------------------------------------------------\n",
            "\n"
          ]
        },
        {
          "output_type": "display_data",
          "data": {
            "text/plain": [
              "<Figure size 576x576 with 1 Axes>"
            ],
            "image/png": "[encoded data removed]"
          },
          "metadata": {
            "needs_background": "light"
          }
        },
        {
          "output_type": "stream",
          "name": "stdout",
          "text": [
            "According to the graph we have for the basic predictions approximatly:\n",
            " - 2.0 % predictions at <10% of accuracy\n",
            " - 2.0 % predictions between 10% - 50% of accuracy\n",
            " - 20.0 % predictions between 50%- 99% of accuracy\n",
            " - 76.0 % predictions at 100% of accuracy\n",
            "\n",
            "\n",
            "According to the graph we have for the autocorrect predictions approximatly:\n",
            " - 2.0 % predictions at <10% of accuracy\n",
            " - 3.0 % predictions between 10% - 50% of accuracy\n",
            " - 12.0 % predictions between 50%- 99% of accuracy\n",
            " - 83.0 % predictions at 100% of accuracy\n"
          ]
        },
        {
          "output_type": "stream",
          "name": "stderr",
          "text": [
            "/usr/local/lib/python3.7/dist-packages/ipykernel_launcher.py:55: VisibleDeprecationWarning: Creating an ndarray from ragged nested sequences (which is a list-or-tuple of lists-or-tuples-or ndarrays with different lengths or shapes) is deprecated. If you meant to do this, you must specify 'dtype=object' when creating the ndarray.\n"
          ]
        }
      ]
    },
    {
      "cell_type": "code",
      "source": [
        "########################################\n",
        "# Display of several failed prediction #\n",
        "########################################\n",
        "\n",
        "np.array(results)[np.array(score) < 0.1][:100]\n",
        "\n",
        "#-------------------------------------------"
      ],
      "metadata": {
        "id": "YxkJniiarnkY"
      },
      "execution_count": null,
      "outputs": []
    },
    {
      "cell_type": "code",
      "source": [],
      "metadata": {
        "id": "gh9ti1SeqRgU"
      },
      "execution_count": null,
      "outputs": []
    },
    {
      "cell_type": "markdown",
      "source": [
        "# Reading of one form using a model"
      ],
      "metadata": {
        "id": "4yt3g2eT3U5H"
      }
    },
    {
      "cell_type": "code",
      "source": [
        "#############\n",
        "# Variables #\n",
        "#############\n",
        "\n",
        "form_id =\"a01-020u\"\n",
        "\n",
        "#--------------------------------------------------------------------------\n",
        "from pathlib import Path\n",
        "import imghdr\n",
        "\n",
        "##################################\n",
        "#   Removal of unwanted Column   #\n",
        "##################################\n",
        "\n",
        "list_columns_to_remove=[\"segmentation_result\",\"gray_level\",\"x\",\"y\",\"pxw\",\"pxh\",\"grammatical_tag\",\"number_components\"]\n",
        "\n",
        "form_df = word_txt[word_txt.segmentation_result == \"ok\"]\\\n",
        "          .drop(columns=list_columns_to_remove)\n",
        "\n",
        "################################\n",
        "# Selection of wanted form     #\n",
        "################################\n",
        "\n",
        "form_df = form_df[form_df.word_id.str.contains(form_id)]\n",
        "\n",
        "#----------------------------------------------------\n",
        "\n",
        "###############################\n",
        "#    Removal of corrupt image #\n",
        "###############################\n",
        "\n",
        "print(\"df Length: \",len(form_df))\n",
        "form_df[\"filepath\"]=form_df.word_id.apply(img_path)\n",
        "form_df=removal_of_corrupt_image(form_df)\n",
        "print(\"df Length: \",len(form_df))"
      ],
      "metadata": {
        "colab": {
          "base_uri": "https://localhost:8080/"
        },
        "id": "R7sAUsAR0t8y",
        "outputId": "8524392b-574e-4023-fc1c-9059ae4b5bcd"
      },
      "execution_count": null,
      "outputs": [
        {
          "output_type": "stream",
          "name": "stdout",
          "text": [
            "df Length:  68\n",
            "data/words/a01/a01-117/a01-117-05-02.png is not an image\n",
            "data/words/r06/r06-022/r06-022-03-05.png is not an image\n",
            "df Length:  68\n"
          ]
        }
      ]
    },
    {
      "cell_type": "code",
      "source": [
        "#############\n",
        "# Variables #\n",
        "#############\n",
        "\n",
        "model = model_CRNN_GRU\n",
        "batch_size = 1\n",
        "image_width=128\n",
        "image_height=32\n",
        "imgSize = (image_height, image_width)\n",
        "\n",
        "#-----------------------------------\n",
        "\n",
        "#########################################\n",
        "# Creation of the train & test datasets #\n",
        "#########################################\n",
        "\n",
        "# Creation of dataset_train tensor and preprocessing of images\n",
        "data_form = tf.data.Dataset.from_tensor_slices((form_df.filepath.values, form_df.transcription.values))\n",
        "data_form = data_form\\\n",
        "                .map(lambda x, y : [preprocess(x, imgSize, dataAugmentation=True, scale=0.8, isthreshold=True), y])\\\n",
        "                .batch(batch_size, drop_remainder=True)\n",
        "\n",
        "#-----------------------------------------------------------------------------\n",
        "\n",
        "##############################\n",
        "# Prediction using the model #\n",
        "##############################\n",
        "\n",
        "y_pred=[]\n",
        "y_true=[]\n",
        "for X_t,y_t in data_form:\n",
        "  y_pred.append(greedy_decoder(model(X_t)))\n",
        "  y_true.append(y_t.numpy()[0].decode(\"utf-8\"))\n",
        "\n",
        "results=list(zip(np.array(y_true).flatten(),np.array(y_pred).flatten(),))\n",
        "\n",
        "y_pred=np.array(y_pred).flatten()\n",
        "y_true=np.array(y_true).flatten()\n",
        "\n",
        "pred_text=' '.join(y_pred)\n",
        "true_text=' '.join(y_true)\n",
        "\n",
        "print(\"\\nTrue text:\\n\")\n",
        "print(true_text)\n",
        "print(\"\\nPredicted text:\\n\")\n",
        "print(pred_text)\n",
        "print(\"\\nCorrected predicted text:\\n\")\n",
        "print(correct_sentence(pred_text))\n"
      ],
      "metadata": {
        "colab": {
          "base_uri": "https://localhost:8080/"
        },
        "id": "joksWBqE2Hd2",
        "outputId": "f9d4b51d-783b-4dbc-e60d-66c6dc6ac066"
      },
      "execution_count": null,
      "outputs": [
        {
          "output_type": "stream",
          "name": "stdout",
          "text": [
            "\n",
            "True text:\n",
            "\n",
            "Mr. Macleod went on with the conference at Lancaster House despite the crisis which had blown up . He has now revealed his full plans to the Africans and Liberals attending . These plans do not give the Africans the overall majority they are seeking . African delegates are studying them today . The conference will meet to discuss the function of a proposed House of Chiefs .\n",
            "\n",
            "Predicted text:\n",
            "\n",
            "MR. Macleod went an with the conference at Lancaster House despite the arisis which had blown up . He has now revealed his full plans to the Africans and libeats attending . THese plous do not give the Africans the overall mngjority they ae seeking . African delegates ae studying them today . ThHe conference will meet to discuss the function of a proposead House of Chiefs \"\n",
            "\n",
            "Corrected predicted text:\n",
            "\n",
            "of. Macleod went an with the conference at Lancaster House despite the crisis which had blown up . He has now revealed his full plans to the Africans and liberty attending . these plus do not give the Africans the overall majority they a seeking . African delegates a studying them today . the conference will meet to discuss the function of a proposed House of Chiefs \"\n"
          ]
        }
      ]
    },
    {
      "cell_type": "code",
      "source": [],
      "metadata": {
        "id": "OfXcRHAY2JzX"
      },
      "execution_count": null,
      "outputs": []
    },
    {
      "cell_type": "code",
      "source": [],
      "metadata": {
        "id": "5d3jSh_dApnb"
      },
      "execution_count": null,
      "outputs": []
    },
    {
      "cell_type": "markdown",
      "source": [
        "# Segmentation of a Form to a list of words"
      ],
      "metadata": {
        "id": "tudP3OdFMQ_Y"
      }
    },
    {
      "cell_type": "markdown",
      "source": [
        "## Creation of the list of word images"
      ],
      "metadata": {
        "id": "EDzlI90ueivO"
      }
    },
    {
      "cell_type": "code",
      "execution_count": 14,
      "metadata": {
        "id": "vjRYi8gO8VJc",
        "colab": {
          "base_uri": "https://localhost:8080/"
        },
        "outputId": "0f594cf6-20e2-4125-c8e0-49e90eb3f5d5",
        "cellView": "form"
      },
      "outputs": [
        {
          "output_type": "stream",
          "name": "stdout",
          "text": [
            "Drive already mounted at /drive; to attempt to forcibly remount, call drive.mount(\"/drive\", force_remount=True).\n"
          ]
        }
      ],
      "source": [
        "#@title Mounting the drive (having the form images) and listing of the paths\n",
        "from google.colab import drive\n",
        "import tarfile\n",
        "import os\n",
        "\n",
        "formsAD_path = \"./formsA-D/\"\n",
        "\n",
        "drive.mount(\"/drive\")\n",
        "list_tar=[\"lines\",\"formsA-D\"]\n",
        "for name in list_tar:\n",
        "  my_tar = tarfile.open(\"/drive/MyDrive/DataScience/OCR/\"+name+\".tgz\")\n",
        "  my_tar.extractall('./'+name) # specify which folder to extract to\n",
        "\n",
        "my_tar.close()\n",
        "\n",
        "dir_list=os.listdir(formsAD_path)\n",
        "dir_list = list(map(lambda x :formsAD_path+x,dir_list))"
      ]
    },
    {
      "cell_type": "code",
      "source": [
        "#@title Functions to cut lines from form\n",
        "import numpy as np\n",
        "#img = np.sum(cv2.imread(formid),axis=2)[690:2700]\n",
        "def black_white_img(formid):\n",
        "  img = cv2.imread(formid)\n",
        "  img = cv2.cvtColor(img, cv2.COLOR_BGR2GRAY)#[690:2700]\n",
        "\n",
        "  (thresh, blackAndWhiteImage) = cv2.threshold(img, 127, 255, cv2.THRESH_BINARY)\n",
        "  return blackAndWhiteImage\n",
        "\n",
        "def get_line_cut(img):\n",
        "  img_col = np.sum(img,axis=1)\n",
        "  list_lines= []\n",
        "\n",
        "  for i, value in enumerate(img_col):\n",
        "    if value > img_col.mean():\n",
        "      list_lines.append(i)\n",
        "  #list_lines.append(1e10)\n",
        "\n",
        "  new_list_lines=[]\n",
        "  temporary_list=[]\n",
        "  last_line=list_lines[0]\n",
        "  for line in list_lines:\n",
        "    if line <= last_line+15:\n",
        "      \n",
        "      temporary_list.append(line)\n",
        "      last_line = line\n",
        "    \n",
        "    else:\n",
        "      \n",
        "      new_list_lines.append(int(np.mean(temporary_list)))\n",
        "      temporary_list=[line]\n",
        "      last_line = line\n",
        "\n",
        "  temp_list=[]\n",
        "  for i in range(len(new_list_lines)-1):\n",
        "    temp_list.append(new_list_lines[i+1]-new_list_lines[i])\n",
        "\n",
        "  new_list_lines.append(new_list_lines[-1]+int(np.mean(temp_list)))\n",
        "  return new_list_lines\n",
        "\n",
        "def get_lines(img):\n",
        "  max_line=[]\n",
        "  for line in (img==0):\n",
        "    compteur_list=[]\n",
        "    compteur=0\n",
        "    \n",
        "    for col in line:\n",
        "      \n",
        "      if col == True:\n",
        "        compteur = compteur+1\n",
        "      else:\n",
        "        compteur_list.append(compteur)\n",
        "        compteur=0\n",
        "\n",
        "    compteur_list.append(compteur)\n",
        "    \n",
        "    max_line.append(np.max(compteur_list))\n",
        "  max_line=np.array(max_line)\n",
        "\n",
        "  return max_line"
      ],
      "metadata": {
        "id": "6scmNPmS7uvM",
        "cellView": "form"
      },
      "execution_count": 15,
      "outputs": []
    },
    {
      "cell_type": "code",
      "source": [
        "#@title Random selection and display of the formID\n",
        "formid = dir_list[np.random.randint(0,len(dir_list))]\n",
        "img_color=cv2.imread(formid)\n",
        "img_bw=black_white_img(formid)\n",
        "\n",
        "list_lines=get_line_cut(img_bw)\n",
        "\n",
        "plt.figure(figsize=(10,10))\n",
        "\n",
        "plt.imshow(img_bw,cmap=\"gray\")\n",
        "plt.title(formid)\n"
      ],
      "metadata": {
        "colab": {
          "base_uri": "https://localhost:8080/",
          "height": 624
        },
        "id": "eNgfuJU80Ztm",
        "outputId": "8597c871-8004-4a23-cb0c-326cdce22589",
        "cellView": "form"
      },
      "execution_count": 16,
      "outputs": [
        {
          "output_type": "execute_result",
          "data": {
            "text/plain": [
              "Text(0.5, 1.0, './formsA-D/b04-089.png')"
            ]
          },
          "metadata": {},
          "execution_count": 16
        },
        {
          "output_type": "display_data",
          "data": {
            "text/plain": [
              "<Figure size 720x720 with 1 Axes>"
            ],
            "image/png": "[encoded data removed]"
          },
          "metadata": {
            "needs_background": "light"
          }
        }
      ]
    },
    {
      "cell_type": "code",
      "source": [
        "#@title Creation and display of the list of lines from the form\n",
        "max_line=get_lines(img_bw)\n",
        "max_line=max_line>max_line.max()/2\n",
        "x_bot=np.argsort(max_line[2000:])[-1]+2000-10\n",
        "x_top=np.argsort(max_line[500:1000])[-1]+500+10\n",
        "\n",
        "only_text_img_color = img_color[x_top:x_bot,:,:]\n",
        "only_text_img_bw = img_bw[x_top:x_bot,:]\n",
        "\n",
        "lines=get_line_cut(only_text_img_bw)\n",
        "\n",
        "list_img_lines=[]\n",
        "for i in range(len(lines)-1):\n",
        "  list_img_lines.append(only_text_img_color[lines[i]:lines[i+1],:,:])\n",
        "\n",
        "for j in range(len(list_img_lines)):\n",
        "  plt.subplot(len(list_img_lines),1,j+1)\n",
        "  plt.imshow(list_img_lines[j],cmap=\"gray\")"
      ],
      "metadata": {
        "colab": {
          "base_uri": "https://localhost:8080/",
          "height": 269
        },
        "id": "-ioyDAq6AF7I",
        "outputId": "379621c6-92d9-4d3a-ea1d-43e56485f119",
        "cellView": "form"
      },
      "execution_count": 17,
      "outputs": [
        {
          "output_type": "display_data",
          "data": {
            "text/plain": [
              "<Figure size 432x288 with 9 Axes>"
            ],
            "image/png": "[encoded data removed]"
          },
          "metadata": {
            "needs_background": "light"
          }
        }
      ]
    },
    {
      "cell_type": "code",
      "source": [
        "#@title Functions for word cutting\n",
        "import cv2\n",
        "import numpy as np\n",
        "\n",
        "def image_contour(img):\n",
        "    src_gray = cv2.cvtColor(img, cv2.COLOR_BGR2GRAY)\n",
        "    src_gray = cv2.blur(src_gray, (3,3))\n",
        "    threshold=100\n",
        "    canny_output = cv2.Canny(src_gray, threshold, threshold * 2)\n",
        "    \n",
        "    return src_gray,cv2.findContours(canny_output, cv2.RETR_LIST, cv2.CHAIN_APPROX_NONE)\n",
        "\n",
        "    \n",
        "def image_with_contours(img,contours=None):\n",
        "    if contours==None:\n",
        "        img, (contours,hierarchy) = image_contour(img)\n",
        "    \n",
        "    else:\n",
        "        img = img[...,-1].astype(np.uint8)*255\n",
        "\n",
        "    image_copy = cv2.cvtColor(img, cv2.COLOR_GRAY2RGB)\n",
        "    plt.figure(figsize=(10,15))\n",
        "    return cv2.drawContours(image=image_copy, \n",
        "                                contours=contours, \n",
        "                                contourIdx=-1, \n",
        "                                color=(0, 255, 0), \n",
        "                                thickness=4, \n",
        "                                lineType=cv2.LINE_AA);\n",
        "\n",
        "def display_contour_box(img,contours=None):\n",
        "    \n",
        "    if contours==None:\n",
        "      image_copy,(contours,hierarchy) = image_contour(img)\n",
        "    \n",
        "    else:\n",
        "      src_gray = cv2.cvtColor(img, cv2.COLOR_BGR2GRAY)\n",
        "      image_copy = cv2.blur(src_gray, (3,3))\n",
        "\n",
        "    for c in contours:\n",
        "        x, y, w, h = cv2.boundingRect(c)\n",
        "        cv2.rectangle(image_copy, (x, y), (x + w, y + h), (36,255,12), 2)\n",
        "\n",
        "    plt.figure(figsize=(20,30))\n",
        "    plt.imshow(image_copy.astype(int))\n",
        "    plt.xticks([])\n",
        "    plt.yticks([]);\n",
        "\n",
        "\n",
        "def create_new_contours(contours,xmax,ymax):\n",
        "  list_of_exempt=[]\n",
        "  new_contours=[]\n",
        "  for i,c1 in enumerate(contours):\n",
        "    if i in list_of_exempt:\n",
        "      \n",
        "      pass\n",
        "    \n",
        "    else:\n",
        "      list_of_exempt.append(i)\n",
        "      for j,c2 in enumerate(contours):\n",
        "        if j in list_of_exempt:\n",
        "          pass\n",
        "        \n",
        "        else:\n",
        "          rec1=cv2.boundingRect(c1)\n",
        "          rec2=cv2.boundingRect(c2)\n",
        "          ctot=np.vstack([c1,c2])\n",
        "          rectot=cv2.boundingRect(ctot)\n",
        "\n",
        "          rec1=np.array(rec1)\n",
        "          rec2=np.array(rec2)\n",
        "          rectot=np.array(rectot)\n",
        "\n",
        "          y_dist=rectot[3]-(rec1[3]+rec2[3])\n",
        "          x_dist=rectot[2]-(rec1[2]+rec2[2])\n",
        "          y_start_dist=np.abs(rec1[1]-rec2[1])\n",
        "\n",
        "          if y_dist < ymax and x_dist<xmax:\n",
        "            \n",
        "            c1=ctot\n",
        "            list_of_exempt.append(j)\n",
        "\n",
        "       \n",
        "      new_contours.append(c1)\n",
        "\n",
        "  return new_contours\n",
        "\n",
        "def contours_sorting(contours):\n",
        "  list_x=[]\n",
        "  for i,c in enumerate(contours):\n",
        "    x, y, w, h = cv2.boundingRect(c)\n",
        "    list_x.append([i,x])\n",
        "  list_x= np.array(list_x)\n",
        "  list_x=list_x[list_x[:, 1].argsort()]\n",
        "\n",
        "  temp_contours=[]\n",
        "\n",
        "  for val in list_x:\n",
        "    i = val[0]\n",
        "    temp_contours.append(mycontours[i])\n",
        "  return temp_contours"
      ],
      "metadata": {
        "cellView": "form",
        "id": "E3KAjpvlBbZO"
      },
      "execution_count": 18,
      "outputs": []
    },
    {
      "cell_type": "code",
      "source": [
        "#@title Segmentation of the lines and Creation of the list of word image from the form\n",
        "def get_contour_image(img,c):\n",
        "  x, y, w, h = cv2.boundingRect(c)\n",
        "  return img[y:y+h,x:x+w]\n",
        "\n",
        "list_words_img=[]\n",
        "\n",
        "for img_line in list_img_lines:\n",
        "\n",
        "  gray, (contours,hierarchy) = image_contour(img_line)\n",
        "  import numpy as np\n",
        "  mycontours=contours\n",
        "  for l in range(10):\n",
        "    #print(\"Iteration:\",l)\n",
        "    mycontours=create_new_contours(mycontours,25,100)\n",
        "\n",
        "  mycontours = contours_sorting(mycontours)\n",
        "\n",
        "\n",
        "  for c in mycontours:\n",
        "    list_words_img.append(get_contour_image(img_line,c))\n",
        "\n",
        "\n",
        "#display_contour_box(img_line,mycontours)"
      ],
      "metadata": {
        "id": "D90zo5WNAF1v",
        "cellView": "form"
      },
      "execution_count": 19,
      "outputs": []
    },
    {
      "cell_type": "code",
      "source": [
        "#@title Saving of the word images, listing of the paths and sorting of the list \n",
        "from PIL import Image\n",
        "import os\n",
        "\n",
        "directory_path=\"./formTest/\"\n",
        "\n",
        "try:\n",
        "    os.mkdir(directory_path)\n",
        "except OSError as error:\n",
        "   pass \n",
        "\n",
        "for i, word_img in enumerate(list_words_img):\n",
        "  im = Image.fromarray(word_img)\n",
        "  im.save(directory_path+str(i)+\".png\")\n",
        "\n",
        "dir_list=os.listdir(directory_path)\n",
        "dir_list = list(map(lambda x :directory_path+x,dir_list))\n",
        "\n",
        "#######################\n",
        "# Sorting of the list #\n",
        "#######################\n",
        "\n",
        "import re\n",
        "\n",
        "def atoi(text):\n",
        "    return int(text) if text.isdigit() else text\n",
        "\n",
        "def natural_keys(text):\n",
        "    '''\n",
        "    alist.sort(key=natural_keys) sorts in human order\n",
        "    http://nedbatchelder.com/blog/200712/human_sorting.html\n",
        "    (See Toothy's implementation in the comments)\n",
        "    '''\n",
        "    return [ atoi(c) for c in re.split(r'(\\d+)', text) ]\n",
        "\n",
        "\n",
        "dir_list.sort(key=natural_keys)"
      ],
      "metadata": {
        "id": "ulZsfklmApiL",
        "cellView": "form"
      },
      "execution_count": 20,
      "outputs": []
    },
    {
      "cell_type": "markdown",
      "source": [
        "##Prediction"
      ],
      "metadata": {
        "id": "0aBO4goVcRLa"
      }
    },
    {
      "cell_type": "code",
      "source": [
        "#############\n",
        "# Variables #\n",
        "#############\n",
        "\n",
        "model = model_CRNN_GRU\n",
        "batch_size = 1\n",
        "image_width=128\n",
        "image_height=32\n",
        "imgSize = (image_height, image_width)\n",
        "form_id =formid.split(\"/\")[-1].split(\".\")[0]\n",
        "\n",
        "#--------------------------------------------------------------------------\n",
        "from pathlib import Path\n",
        "import imghdr\n",
        "\n",
        "################################################################\n",
        "#   Creation of the transcription linked to the form studied   #\n",
        "################################################################\n",
        "\n",
        "list_columns_to_remove=[\"segmentation_result\",\"gray_level\",\"x\",\"y\",\"pxw\",\"pxh\",\"grammatical_tag\",\"number_components\"]\n",
        "\n",
        "form_df = word_txt[word_txt.segmentation_result == \"ok\"]\\\n",
        "          .drop(columns=list_columns_to_remove)\n",
        "\n",
        "form_df = form_df[form_df.word_id.str.contains(form_id)]\n",
        "true_text=form_df.transcription.apply(lambda x: x+\" \").sum()\n",
        "\n",
        "#---------------------------------------------------------------\n",
        "\n",
        "#########################################\n",
        "# Creation of the train & test datasets #\n",
        "#########################################\n",
        "\n",
        "# Creation of dataset_train tensor and preprocessing of images\n",
        "data_form = tf.data.Dataset.from_tensor_slices((dir_list, range(len(list_words_img))))\n",
        "data_form = data_form\\\n",
        "                .map(lambda x, y : [preprocess(x, imgSize, dataAugmentation=True, scale=0.8, isthreshold=True), y])\\\n",
        "                .batch(batch_size, drop_remainder=True)\n",
        "\n",
        "#-----------------------------------------------------------------------------\n",
        "\n",
        "##############################\n",
        "# Prediction using the model #\n",
        "##############################\n",
        "\n",
        "y_pred=[]\n",
        "y_true=[]\n",
        "for X_t,y_t in data_form:\n",
        "  y_pred.append(greedy_decoder(model(X_t)))\n",
        "  y_true.append(y_t)\n",
        "\n",
        "results=list(zip(np.array(y_true).flatten(),np.array(y_pred).flatten(),))\n",
        "\n",
        "y_pred=np.array(y_pred).flatten()\n",
        "y_true=np.array(y_true).flatten()\n",
        "\n",
        "pred_text=' '.join(y_pred)\n",
        "true_text=true_text\n",
        "\n",
        "print(\"\\nTrue text:\\n\")\n",
        "print(true_text)\n",
        "print(\"\\nPredicted text:\\n\")\n",
        "print(pred_text)\n",
        "print(\"\\nCorrected predicted text:\\n\")\n",
        "print(correct_sentence(pred_text))\n"
      ],
      "metadata": {
        "colab": {
          "base_uri": "https://localhost:8080/"
        },
        "id": "MSb-nTY8SINv",
        "outputId": "cf28d986-da6a-4b3f-c213-251b771c1458"
      },
      "execution_count": 21,
      "outputs": [
        {
          "output_type": "stream",
          "name": "stdout",
          "text": [
            "\n",
            "True text:\n",
            "\n",
            "talents and responsibilities could bring in the open labour market . The unions are fortunate indeed to find dedicated leaders at cut-rate prices . But it is \n",
            "\n",
            "Predicted text:\n",
            "\n",
            "Who ave theg'? The trake bnior ficis of Bikaein Ten who eaimn ouly o fectioa of what their , I I , si11 \" \" , ! . \" taleurs and esponisibililies could bring in the opon labour market- The unions ale pimuale indeed to find dedicatied leaders at cutc rakle prices Mut it is timce the memubers becided to paly i and be geood cunforners THE Loboer raity aune that' the Tory - Goiierment is boshrouying the social services.\n",
            "\n",
            "Corrected predicted text:\n",
            "\n",
            "Who ave the'? The take nor faces of Bikaein Men who pain only o section of what their , I I , side \" \" , ! . \" tales and esponisibililies could bring in the upon labour market- The unions ale pimple indeed to find dedicated leaders at cut rake prices But it is time the members decided to pale i and be good cunforners THE Sober rainy aunt that' the Tory - Goiierment is boshrouying the social services.\n"
          ]
        }
      ]
    },
    {
      "cell_type": "code",
      "source": [],
      "metadata": {
        "id": "gGdbtx3KWtIZ"
      },
      "execution_count": 21,
      "outputs": []
    },
    {
      "cell_type": "code",
      "source": [],
      "metadata": {
        "id": "Y2-SEI5gYrJA"
      },
      "execution_count": 21,
      "outputs": []
    },
    {
      "cell_type": "code",
      "source": [],
      "metadata": {
        "id": "bR-dr2ShYrFu"
      },
      "execution_count": 21,
      "outputs": []
    }
  ]
}